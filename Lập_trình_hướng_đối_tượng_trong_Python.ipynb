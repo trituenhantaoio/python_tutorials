{
  "nbformat": 4,
  "nbformat_minor": 0,
  "metadata": {
    "colab": {
      "name": "Lập trình hướng đối tượng trong Python",
      "provenance": [],
      "authorship_tag": "ABX9TyPgf1DY0lswBIE6JwQYIRpA",
      "include_colab_link": true
    },
    "kernelspec": {
      "name": "python3",
      "display_name": "Python 3"
    }
  },
  "cells": [
    {
      "cell_type": "markdown",
      "metadata": {
        "id": "view-in-github",
        "colab_type": "text"
      },
      "source": [
        "<a href=\"https://colab.research.google.com/github/trituenhantaoio/python_tutorials/blob/main/L%E1%BA%ADp_tr%C3%ACnh_h%C6%B0%E1%BB%9Bng_%C4%91%E1%BB%91i_t%C6%B0%E1%BB%A3ng_trong_Python.ipynb\" target=\"_parent\"><img src=\"https://colab.research.google.com/assets/colab-badge.svg\" alt=\"Open In Colab\"/></a>"
      ]
    },
    {
      "cell_type": "markdown",
      "metadata": {
        "id": "WnkGNS1is6fi"
      },
      "source": [
        "Python là một ngôn ngữ lập trình hướng đối tượng mạnh. Vì vậy, việc tạo ra và sử dụng các đối tượng là hết sức dễ dàng. Bài viết sẽ giới thiệu qua một số khái niệm cơ bản trong lập trình hướng đối tượng, cũng như cách khởi tạo và sử dụng chúng. Mời bạn đọc theo dõi."
      ]
    },
    {
      "cell_type": "markdown",
      "metadata": {
        "id": "P0AD021jtK-v"
      },
      "source": [
        "Giới thiệu về OOP trong Python\n",
        "===\n",
        "\n",
        "Lập trình hướng đối tượng (tiếng Anh: Object-oriented programming, viết tắt: OOP) là một kỹ thuật hỗ trợ, cho phép lập trình viên trực tiếp làm việc với các đối tượng mà họ định nghĩa lên. Hiệu quả của kĩ thuật này giúp tăng năng suất, đơn giản hoá độ phức tạp khi bảo trì cũng như mở rộng phần mềm. Hiện nay có khá nhiều ngôn ngữ lập trình theo hướng đối tượng như C++, Java, PHP,... và còn cả Python.\n",
        "\n",
        "Khái niệm về OOP trong Python tập trung vào việc tạo code sử dụng lại. Khái niệm này còn được gọi là DRY (Don't Repeat Yourself)."
      ]
    },
    {
      "cell_type": "markdown",
      "metadata": {
        "id": "S5C8q0_LtUS5"
      },
      "source": [
        "Các nguyên lý\n",
        "===\n",
        "Trong Python, khái niệm về OOP tuân theo một số nguyên lý cơ bản là *tính đóng gói, tính kế thừa và tính đa hình.*\n",
        "\n",
        "*Tính kế thừa (Inheritance)*: cho phép một lớp (class) có thể kế thừa các thuộc tính và phương thức từ các lớp khác đã được định nghĩa.\n",
        "\n",
        "*Tính đóng gói (Encapsulation)*: là quy tắc yêu cầu trạng thái bên trong của một đối tượng được bảo vệ và tránh truy cập được từ code bên ngoài (tức là code bên ngoài không thể trực tiếp nhìn thấy và thay đổi trạng thái của đối tượng đó).\n",
        "\n",
        "*Tính đa hình (Polymorphism)*: là khái niệm mà hai hoặc nhiều lớp có những phương thức giống nhau nhưng có thể thực thi theo những cách thức khác nhau."
      ]
    },
    {
      "cell_type": "markdown",
      "metadata": {
        "id": "HdaFQOfbtcJf"
      },
      "source": [
        "Lớp (Class) và Đối tượng (Object)\n",
        "===\n",
        "Class và Object là hai khái niệm cơ bản trong lập trình hướng đối tượng.\n",
        "\n",
        "**Đối tượng (Object)** là những thực thể tồn tại có hành vi.\n",
        "\n",
        "Ví dụ đối tượng là một xe ô tô có tên hãng, màu sắc, loại nguyên liệu, hành vi đi, dừng, đỗ, nổ máy...\n",
        "\n",
        "**Lớp (Class)** là một kiểu dữ liệu đặc biệt do người dùng định nghĩa, tập hợp nhiều thuộc tính đặc trưng cho mọi đối tượng được tạo ra từ lớp đó.\n",
        "\n",
        "Thuộc tính là các giá trị của lớp. Sau này khi các đối tượng được tạo ra từ lớp, thì thuộc tính của lớp lúc này sẽ trở thành các đặc điểm của đối tượng đó.\n",
        "\n",
        "**Phân biệt giữa Đối tượng (Object) và Lớp (Class):**\n",
        "\n",
        "*Đối tượng (Object):* có trạng thái và hành vi.\n",
        "\n",
        "*Lớp (Class):* có thể được định nghĩa như là một template mô tả trạng thái và hành vi mà loại đối tượng của lớp hỗ trợ. Một đối tượng là một thực thể (instance) của một lớp"
      ]
    },
    {
      "cell_type": "markdown",
      "metadata": {
        "id": "PwFL7ozetqaI"
      },
      "source": [
        "![car.jpg](data:image/jpeg;base64,/9j/4AAQSkZJRgABAQEAYABgAAD/4QAiRXhpZgAATU0AKgAAAAgAAQESAAMAAAABAAEAAAAAAAD/2wBDAAIBAQIBAQICAgICAgICAwUDAwMDAwYEBAMFBwYHBwcGBwcICQsJCAgKCAcHCg0KCgsMDAwMBwkODw0MDgsMDAz/2wBDAQICAgMDAwYDAwYMCAcIDAwMDAwMDAwMDAwMDAwMDAwMDAwMDAwMDAwMDAwMDAwMDAwMDAwMDAwMDAwMDAwMDAz/wAARCAFeAooDASIAAhEBAxEB/8QAHwAAAQUBAQEBAQEAAAAAAAAAAAECAwQFBgcICQoL/8QAtRAAAgEDAwIEAwUFBAQAAAF9AQIDAAQRBRIhMUEGE1FhByJxFDKBkaEII0KxwRVS0fAkM2JyggkKFhcYGRolJicoKSo0NTY3ODk6Q0RFRkdISUpTVFVWV1hZWmNkZWZnaGlqc3R1dnd4eXqDhIWGh4iJipKTlJWWl5iZmqKjpKWmp6ipqrKztLW2t7i5usLDxMXGx8jJytLT1NXW19jZ2uHi4+Tl5ufo6erx8vP09fb3+Pn6/8QAHwEAAwEBAQEBAQEBAQAAAAAAAAECAwQFBgcICQoL/8QAtREAAgECBAQDBAcFBAQAAQJ3AAECAxEEBSExBhJBUQdhcRMiMoEIFEKRobHBCSMzUvAVYnLRChYkNOEl8RcYGRomJygpKjU2Nzg5OkNERUZHSElKU1RVVldYWVpjZGVmZ2hpanN0dXZ3eHl6goOEhYaHiImKkpOUlZaXmJmaoqOkpaanqKmqsrO0tba3uLm6wsPExcbHyMnK0tPU1dbX2Nna4uPk5ebn6Onq8vP09fb3+Pn6/9oADAMBAAIRAxEAPwD9qKKKK9MzCkf7tLXL658bvBPhvVJ7DUvGng/Tr+1bZPbXet2sE8DYztdGcMpwQcEVEpJbm1GlOo7U02/JXOmjpfm9q45f2iPh3/0UHwH/AOFDZ/8Ax2j/AIaI+Hf/AEUHwF/4UVl/8dqfaQ7nQsDibfw5fczsfm9qPm9q47/hoj4d/wDRQfAX/hRWX/x2j/hoj4d/9FB8Bf8AhRWX/wAdqXVhbcqOBxP/AD7l9zOwkptci37RHw7/AOig+A//AAobP/47Tf8Ahoj4ef8ARQvAf/hQ2f8A8dqfaQ7lrBYj/n3L7mdhRXH/APDRHw8/6KF4D/8AChs//jtH/DRHw8/6KF4D/wDChs//AI7R7SPcf1PEf8+5fczsKD0rkP8Ahoj4d/8ARQfAf/hRWf8A8dpG/aI+Hmf+Sg+A/wDwobP/AOO1Mqke5X1HE/8APuX3M6/5vaj5vauP/wCGifh7/wBFC8B/+FDZ/wDxyk/4aH+Hf/RQPAf/AIUNn/8AHKPaR7lLBYj/AJ9y+5nYp92lrjl/aI+Hg/5qD4D/APChs/8A45R/w0T8Pf8AooXgP/wobP8A+OVPtI9xrA4n/n3L7mdfJTa5E/tEfDz/AKKD4D/8KGz/APjlH/DQ3w8/6KF4D/8AChs//jlT7SPdD+o4j/n3L7mddRXI/wDDQ3w8/wCiheA//Chs/wD45Sf8NEfDv/ooPgP/AMKKz/8AjtJ1I9ylgsR/z7l9zOvorkP+GiPh3/0UHwH/AOFFZ/8Ax2k/4aI+Hv8A0ULwH/4UNl/8cqJTj3K+pYj+SX3M6/5valrjf+Ghvh5/0UHwH/4UVn/8co/4aG+Hn/RQfAf/AIUVn/8AHKOeNt0UsHiP5Jfc/wDI7KmP96uS/wCGh/h3/wBFC8B/+FDZ/wDx2mv+0N8Pcf8AJQPAf/hQ2f8A8dqeaPcuODxH/PuX3M66iuQ/4aG+H3/RQPAf/hQ2f/xyj/hob4ff9FA8B/8AhQ2f/wAcpucb7j+p4j/n3L7mdfRXI/8ADQ3w9/6KB4E/8KGz/wDjlH/DQ3w9/wCigeBP/Chs/wD45USlHuV9TxH8j+5nWH79Orj2/aF+Hu7/AJKB4D/8KGz/APjlH/DQ3w9/6KB4D/8ACisv/jtDlF9Slg8Q/sS+5nYUVx//AA0N8Pf+igeA/wDwobL/AOOUf8NDfD3/AKKB4D/8KGy/+OVPPHuV9SxH8kvuf+R2FN/5aVyP/DQ3w9/6KB4D/wDChsv/AI5Tf+GiPh7/ANFA8C/+FFZ//HKOePcccFiP5JfczrqK5H/hob4e/wDRQPAn/hQ2f/xyj/hob4e/9FA8Cf8AhQ2f/wAcqHON9y/qdf8Akl9zOuorkf8Ahob4e/8ARQPAn/hQ2f8A8co/4aG+Hv8A0UDwJ/4UNn/8cpc0e4fU6/8AJL7mde/3qSuQb9ob4e4/5KB4F/8AChs//jlJ/wANDfD3/ooHgT/wobP/AOOUc67l/U6/8j+5nYUVydp8e/AepXkNvbeOvBNxcXDrFFFFr9o8krMcBVAkJZiTgADJNdXnacHg+lTddDKpRqU9Jpr1VvzFpslOpslAC/N7Uyn/ADe1MpS2LCn/ADe1Mp/ze1KQxlFFFSVEKQ9GpaQ9GpFdQ+b2plP+b2plKRUR0dL83tSR0vze1RLYoPm9qZT/AJvamUyohRRRUyKCiiipAT5vaj5vaj5vaj5vag06i0nze1LSfN7VHQA+b2plP+b2plIqIUUUUGkQoooqZDGx06mx06iQxPm9qPm9qPm9qPm9qkA+b2ph60/5vamHrUS3NDoKKKK+2PzMK+Af2fv2P/hd+09+3z+1pdfELwPoPi+40fxZpsVk+oRszWyyWTM6rtZepRCc/wB2vv6vkn9gf/k+39sf/scNJ/8ASGWuHFwjOpSjNXV3v/hZ9dw3iq2GwWPrYebhJU4WcW09a1Jbqz2Ou/4dNfs0/wDRFfBP/fmX/wCOU7/h01+zT/0RXwT/AN+Jf/jlfQkdL83tV/U6H8i+5f5HB/rNnH/QXV/8GT/+SPnj/h01+zT/ANEV8E/9+Zf/AI5T1/4JN/s0bhn4K+CcZ5xBL/8AHK9d+I3xo8I/CG3ik8VeJtE8PLcBmiF/dLC0oHBKKTubHfAryXxJ/wAFRPgf4ZZlPjL+0WXtYafPPn6HYF/WuWt9Sp6VORevKezl9TizGrmwcsRUXeLqtfenY5D4Wf8ABNX9nXxZDrNjq3wP8AWuveHNRksL6KCCcROp/eW88YaUtslgeNuScNvX+Gup/wCHT37Nf/RFfBP/AH4l/wDjleOeOv8AgrV4B0v4xaP4j8J6L4n1mG5t20rxBHJbra+barukt5owS2+WKQuoDYBSd+eBVzVv+C2WgWufsnw38Tyr2a51CC3H4/K38645Y7K46Nx+7/gH0uH4Y8QKqvGNdLzqOP8A6VNHq/8Aw6e/Zr/6Ir4J/wC/Ev8A8co/4dO/s1/9EX8E/wDfiX/45Xgmof8ABcxY93kfDyxjHY3HiOMfmAlZd9/wXSv7WF5P+EH8MQxpyXl8Q/Kg9yFArP8AtDLHsk/+3H/kbvhTjqP8StOPriYr/wByH0f/AMOmv2af+iK+Cf8AvzL/APHKG/4JO/s1H/mivgn/AL8S/wDxyvmbT/8AgvBqGrNILPwb4SvjFguLXXHn8vPTOxTjOO9XYf8AgvVDpjbtY8BWEEI6smstER/38ixVLGZe9o/+SP8A+ROepkXF8N8V/wCXUP8A5afRf/Dp39mn/oivgn/vxL/8XR/w6d/Zp/6Ir4J/78S//F15Z4B/4LofC/xhIq3Wia9Zk9Ws7i21BR/3y6sf++a+nfgT+0d4S/aQ8Ly6v4Tvrm7s4JfJl+0Wj2zxvjO0hhgkexNdFGWBrS5Kai32sr/c1c8nNIcV5dR+s4ypWjTulze0k43ey5lJxu+mup5r/wAOnf2af+iK+Cf+/Ev/AMXR/wAOnf2af+iK+Cf+/Ev/AMXX0LRXR9Vo/wAi+5f5HhLiTN/+gqr/AODJ/wDyR89N/wAEnf2av+iLeCf+/Ev/AMXTf+HT/wCzV/0RXwT/AN+Jf/i6+hZKbR9Vo/yL7l/kP/WTN/8AoKq/+DJ/5nz5/wAOn/2av+iK+Cf+/Ev/AMXS/wDDpz9mr/oi3gn/AL8y/wDxyvoKiplhaP8AIvuX+RS4kzd/8xVX/wAGT/8Akj59/wCHTn7NX/RFvBP/AH5l/wDjlJ/w6g/Zr/6It4K/78S//HK+g6Kl4aj/ACL7l/kUuI83/wCgqr/4Mn/8kfPf/Dp/9mv/AKIr4J/78S//AByj/h0/+zX/ANEV8Ef9+Jf/AIuvoP5valoeFo/yL7l/kUuIs2/6Cqv/AIMn/wDJHz3/AMOn/wBmv/oivgj/AL8S/wDxdI3/AASh/Zr/AOiLeCf+/Ev/AMcr6Fpj/eqfq1H+Rfcv8ilxFm3/AEFVf/Bk/wD5I+fP+HUX7Nf/AERXwT/34l/+OUf8Oov2a/8Aoivgn/vxL/8AHK+gqKHhaP8AIvuRX+sWbf8AQVV/8GT/APkj5/8A+HT/AOzX/wBEV8E/9+Jf/jlN/wCHUH7Nf/RFvBP/AH4k/wDjlfQVFS8PR/kX3IP9Ys2/6Cqv/gyf/wAkfPjf8Eof2a/+iLeCf+/Ev/xdL/w6h/Zr/wCiK+Cf+/Mv/wAXX0Afv06h4aivsL7kaf6w5r/0FVf/AAZP/M+e/wDh1B+zZ/0RfwT/AN+Zf/i6P+HUH7Nn/RF/BP8A35l/+Lr6Eoqfq9H+Rfcg/wBYs1/6Cqv/AIMn/mfPf/DqD9mz/oi/gn/vzL/8XR/w6j/Zs/6Iv4J/78y//HK+hKb/AMtKPq1H+Vfcio8RZr/0FVP/AAZL/M+ff+HUf7Nn/RF/BP8A35l/+OUf8Oov2bf+iL+Cf+/Mv/xyvoCipeHpfyr7kV/rFmv/AEFVP/Bk/wDM+f8A/h1F+zb/ANEX8E/9+Zf/AI5R/wAOov2bf+iL+Cf+/Mv/AMcr6Aoqfq9L+Vfcg/1izX/oKqf+DJ/5nz83/BKP9mw/80X8E/8AfiX/AOLpP+HUX7Nv/RF/BP8A34l/+Lr6Df71JR9Wpfyr7kaf6w5r/wBBNT/wZP8AzPz1/wCCiX7EHwh/Z0034Ma74F+HvhvwvrM/xX8P2kl3YxOJHheV2ZCWYjBZEPT+Gv0Nuf8Aj6k/3z/OvkT/AIK+/wDIg/BP/ssHh3/0OWvru5/4+pP98/zrGnCMaklFW2PSzjFV8RlmEq4ibnK9XWTbdrx6u7GU2SnU2Sug+ZF+b2plP+b2plKWxYU/5vamU/5valIYyiiipKiFIejUtIejUiuofN7Uyn/N7UylIqI6Ol+b2pI6X5vaolsUHze1Mp/ze1MplRCiiipkUFFFFSAnze1Hze1Hze1Hze1Bp1FpPm9qWk+b2qOgB83tTKf83tTKRUQooooNIhRRRUyGNjp1Njp1EhifN7UfN7UfN7UfN7VIB83tTD1p/wA3tTD1qJbmh0FFFFfbH5mFfJP7A/8Ayfb+2P8A9jhpP/pDLX1tXyT+wP8A8n2/tj/9jhpP/pDLXJiP4tL1f/pLPpsl/wCRdmH/AF7h/wCn6R9aR077xxTY6+Hf+ChX/BUa4+EPii98C/D6W3j1zT38nU9Zl2sllLjmGEH5WkGfmZuFPGCekY3HUcJSdWu7L8/JEcN8M5hnuLWCy6HNLdt6KK0u5Povvb2Sb0PQf+Cnkfwj1L4Vxx/EAtN4gt4Xk0IafOseowSHg5JBCwkgbt64O35fmr8vZtd0PQ0gjhjt1aaeG3N7fZFtaB3VDPKQCwij3b2wPuqau694qu/ilfPc61q8Ooak+Z7i5l1RZZ5SeryZJJ+uazrrwraDSbi8g1WzuILeNpH2lWGFUkjIJHQV+cZhmUMXXVZxXL2XVebXX8j+yeD+C6+QZNPLY4qUqkk3zPWMJNW9yD2Setm/eer7L761j/gk78MdB/ZZ8Q+Jr7Vde+IeuR6HcXsOof2rJa6akqxGRXtre2ZU8rj5d7SEjqxr6F+Ef7G/wZ0HTYo9J+GPgeBpI1ntppdKiuJDlQQC8gZjkepr8jvg/q/xM+CfhKa38HeNNe8NwavA/wBtsLO7WWwnEyncrWswaLgOV+VQfevpH4T/APBW74k/CTw3pum+J/AWi+Kk0m3ito7+xvH0y5kWNQoZ0ZZIixC8kMoPpX2WX55ljjyJKn8v1R/MXF3hPxvCs8RKTxabbcozvJ37xk07+SulsmfploPw28L+H7hGsfDHhuwhuDtKwaXBF5Ug4I+VBjNeMf8ABST4OxeMP2K/i1pOn2FssmqeF75oBFAqkSJGZABgdSU4rw7T/wDgvN4TnVxqfwq8f2gmUeYLS7sboBx0YEyof0rWuP8Agup8H/EmhyWOs+DfitbpcRtHMDoUNwhBBB/1c7ZBB54r1oZlhXtUj23R+cYngjiGl/FwNVNa6059/Q+F/wDg2l+O0Pw//at8VeE7h0SPxroSzwKcfvJrRy5UZ7+XJIR/u1+4F5b263izSQwT2t5hXDxqyhj0bkHg9DX8xXgfxZqf7Kf7Xmn+OfBGn65c6T4Y8RteaQ1zYyW8l7ZiRsQuhBKl4SUYV+8nwv8A+CtH7PPjrQY4bn4m6HorXEasLfV0msZYCwBMbGRAu5SccHFaUK1NxtzL7+hwZjleNpVLzpSjfvFqz87rtY9J+I37GPwj+K19LaeK/hr4J1iO7y8U8ulRRzo3dRLGFkB7ghs14H8Qf+CPOn+AbqXX/gh8Q/GHw01uD50sri7fVNLkA52kMROg+kjD/Zr33w/+2B8JvHmm+TY/FL4e3VzAw8p08QWoLkdGALg8jrXdeGfin4c8VWKS2niHw/ck8OIdTgkwR16MaqrRp1NZpP8ArozHAZpjcE2sNUlC/S+jXVSWzXk1Z9j4cb/gpZ8R/wBi3xpoPhb9o3wrbXVnrHmppvinw4/nw6gsSgyMyAAh0UhmDqhA5y3Wvr/4L/H3wd+0RoP9qeC/EGn6/ZlFl/0eQeain+9GfmXB46Y96+Nf+C8Hxe1D9m34b/Cfx14f07T9VuvDnjyDUred5SUtmS3mzCdpzsmUmNvavOP2D/Eng7/gqm3inxR4G0G//Z5+Lvg14J77UPC8pl0bUvP3iOaS2wgzvjIcLsfHO9ulebUrRp4j6vTld20T+/SX+d/VH3WEy6vi8p/trF0VTpJ2dSny2vflvKldWV2tafLbdwl1/T6Sm18GfEb/AIKNfGT9h3xBF4P+NHg7R9Y1S6Vl0HX4LlrPT/EO0dBMI2UPjlkdEkX/AGxzWD4P/wCC3njC61wLrnwd0mPS8/NNpfihriYD1CtAAfxK0qmZYenpWlyvs07/AOT9U2jswPBmb46CqZdS9vBuylTacfnezg+6movytqfojRXyr4J/4LBfCnxAyRazD4m8LTtwftlh50QP+/GWP/jte8fDP9orwH8ZI1Phfxf4f1qRv+WMF4onH1jYhx/3zV0sdh6v8OafzOfMuFc4y5N43DTgu7i7f+BK6/E7KinMpV8EYPoabW0jwhPm9qWk+b2pactiwpj/AHqfTfvNUFxG0Vi2vxK8OX2l6feQeIdDmstWu/sFjcR6hC0V7chmXyImDESSbkcbFJbKkY4NM8O/FLwz4w1a40/SPEvh7Vr+0klintrLUYLiaBomUSK6IxZSjOgYEfKWAPWjmVzf2FWzfK9N9Hp6m7RRRUyMhp+/Tqafv05QWYALknoKJGgUVxOn/tKfDjVfEkWjWvxC8D3WsT3P2OOwh1+0e6knDY8oRiQsX3DG0DOe1dtUKSexrVoVKVlUi1furfmFN/5aU6oftUTXTQCaEzqocxBxvC5wGIzkAnvimREdRRRUS3KCiiikAr/epKV/vUlBofI//BX3/kQfgn/2WDw7/wChy19d3P8Ax9Sf75/nXyJ/wV9/5EH4J/8AZYPDv/octfXdz/x9Sf75/nXLH+JL5H0WP/5FOE9av5xGU2SnU2StjwRfm9qZT/m9qZSlsWFP+b2plP8Am9qUhjKKKKkqIUh6NS0h6NSK6h83tTKf83tTKUiojo6X5vakjpfm9qiWxQfN7Uyn/N7UymVEKKKKmRQUUUVICfN7UfN7UfN7UfN7UGnUWk+b2paT5vao6AHze1Mp/wA3tTKRUQooooNIhRRRUyGNjp1Njp1EhifN7UfN7UfN7UfN7VIB83tTD1p/ze1MPWoluaHQUUUV9sfmYV8k/sD/APJ9v7Y//Y4aT/6Qy19bV8k/sD/8n2/tj/8AY4aT/wCkMtcmI/i0vV/+ks+myX/kXZh/17h/6fpH1tC22RT/AHSDX8/3x18Yax4m8YeLtPi0d5L/AFPVrxpL+eRTaANO5MhIO5mx/Dt698V+2n7Yvx2l/Zj/AGW/HPj23tku7rwzpj3NvC+djylljTdjnaGcEj0WvwTuvjcniqa5uYZYUmldprmeb5QGYklsYAGSTXxPHWX0McqNKtd8rct7Lsr/AIn739HVV8LHG42FuWXLBPrdXbt/4FHXqSWfgXTvAujs5ZLu9mkSS7nm2iS8VTkoB0Cjso49addeI9N1aa7A8y1huLRrdmMW0uxPDYH90ev96uSuPjRoseoSR2WnX/iS9X/WTuRHCD9W6D6irK/Fq6ijD3Xg+38hunlXKlsH0yoB/A15tDJ8R7NclPTpsvwbP0vMfEzhvDYl4bEYuPPezspSSfW7imvXU7nw94+tdSsUL3S29yn7uZCSu1xwcex6j2ret/EkirmK/fH+zPx/OvENU+I3h69vlurGO+sLncIry1niwAvZ8gnBH6iodU+IFrZzGOCNrkrxuBAT8DzmueWFlGXLJNM+swOZUMXRjXw01OEtpRd0/n+fZ6HuFxqCzSb5Joyx6kuOaifUrdBzcQj/ALaD/GvAZ/iTct9y2t0Hvk/4VE3xDv26Lbj/AIB/9el9WZ1e2PbvFmuWseivKt1D5lpIlwgEg6qwJ/TIqlq3xm0LSdQe2uJrpSrEbvs7FD7g9x9K8X1Dx1f3FnNGfs+10ZSPL9R9adJ46u7y3VZktZFwCA0QI/U1UcP3J9s7nuNr4i8O+ILUTJLptxE3d41PPcEEUn9m+Gbhs/ZtFLdj5SA/ngV4lD47vbeMKiWyKOgWPA/Q09PiJf8AdbZv+AH/ABp+xkvhZjUp0an8WCfqk/zPbZvBfh/WLfypLDT7qLOdhAZc+uM4zWb8OPCOt/Cvxtqcuh6ldaXoOpgmSDT7+a1YkfcBEZXdjJAyTw1eUR/Ei7VuYLc/TI/rV21+LEseBJFMo9Y5z/I1UY1k+ZSd+9zCWX4GVJ0HRhyPePKrPrqrWetvuPX9csf+Eu8UNDrc9/rkUUUd3AupXk12tvJuZSyiR2CkjHT3rSm1KC0bL3EcRHcuAf515J4f17/hKtYma3mmfbCisJHK7MsxOcnAHvV3VvFGheGpfI3Ta9qGNzQWLr5UX+/ITtFHsq1eajrJ/N/mzgrYrJ8iw0sRU9nh6d9WlGKb6KySbe9kk32R6hH8SorVdv8Aaiuv91v3i/kQa+kP2Rfh38Ff2svsXh258Qat4M+JP3IDFOn2bVW6hoQwG2THWPdn+7nt8JXXjyXyd0vg9fs7dDHqJEn4HABP40zR5k8VSSS+GNRv7TVrHEz6ZfHEyYOQ0bd8HoQa7KeBqYV+0r0rx63/AM09PU+VrcXZPxJB4DKMxdKvvFxTi7pfyziozT6x3tqrNXP2m0v9nz9p79lexS78GeL9N+LPh61GW0HXt8F0UHJWORizI2Om2Qj/AGDXsH7Mf7YWgftKDUtJNhqXhLx14eVTrfhXWE8rUNPzwJF4AlgJ+7KnB6HaeK+Kv2DP+DifRfCngmw8K/HDS9ci1PSoltF8RadD9rF4qDAa5hJDrKAMMybt3UgGuh/bY/4LBfADVPE3w78bfDvUrjXPHegeILdJrhNKns3j0eXKX0E0kiqHjZGDKnOJFRhjGa+mo4jDQhz0qmn8rd7el9fzR+FZlw3xFisY8FmmAvUu0q9KHLGTV7OfKvZuMurtCcb3d7cr/Q35valqOK4ivLeOeB1lhnRZInHR1YAhh9Qc1JXqy2PzHqIuNwz074rm/ALeNBr2rf8ACUr4RXTRMP7JOjvdGcxbm/4+fOAUPt2f6vjOe2K6Wm7SzYHJPSoNqc7RcbLX716H5s/BL4U/EzSfgT+z+L63RvDum/GKW+/sRPDVzDq2nr9t1BvtE87SlRCd2QTAgw6fP3PO/D/xV8TNH1r4ra54f0Dxh4c1PUfhtrUwj/si7bUdL1SC8U20AuGtIk88I5cRWm6IhgQCRmv0e8KfHvwX4/8ADOs67ofjDw/q+j+H3kg1W+tNQjlg05ol3SLM4OIyijJDdBUGl/tHeCtet/CU9h4s0vULPxzNJb+Hru1laa11WWJWZo4plBj3hUchSwJ2Ptzg15/1WNlyz/rY/QZcVYmU6jq4RO8ndWaSvKVRprl101u9bR5n1PiX4w/FT4ufBG18WaLaeJPiZrUOtp4JfTpLp3N/cXt+7/2lZ2VwsJeJnVMbII3eEtlUFet/s6eOLzUf+Cefjq+1jxv8QNX8SadLrVvqNzbteXHiDw9eIzCLT4RLEkzTwAwoPkAdmLYAY19IfE74T+G/jV4V/sPxbodh4h0hpluRa3kZdElQ5WRSCGRwejKQfel+H/w78N/BHwbHpPhnSdN8NaFYCScQWkYiijJJeSRj1LHkszEk9zWkcPJTvfSz/P8ArqebieIsNWwkafseWopxk3FRSajFR3te7tf4bXerZ+dCfFr9pG68PabZ+NtU8beGdUOty2/i27t7LUEstMiGmwnTDbPp8UswimfznmaJWBuF2PtTAP1p+zHrHiiT4heGbPxZ4o8da5rY+HdtPf8Am6E2n+Hryf7Y6/a8yKssd+yABomVfk+bAzivSfhb+1F8O/jZq0lj4L8f+FfE19bxee1tpmqRTyiInBcKp3Fc9SBj1ra8I/ErTfHWseINNsWvvtXhm9FjfpPbtGqTFFkGxjlZAUYHKnI6MAamjRSd1O/9eTNM2zmdam6UsIqTS1tFK13vZx5kruy12UVq1d/I37RPhHxl4T/aw+OPiX4d+Fmk8RQ/CXTzoF1Do6yI1+t/MZPIJTY9ysZLhQSxOzIrmtQ+IPxM0XwZ8RvFvgbxR8VNa8B/Dq30HxRaTeLEnt7zWJ4C761pwNxFHLJbtbYYqV2LKuFNfffmHZjLcHIHvWX468G6T8TvCOpaB4isLfWNF1iBrW9srnLRXcLfeRgCCVPcZolh3duL7/r/AE/QnDcTRjGEK1FSS5E27O8Y8l1ZrqotLVW55b30+CYPid8Uda8HeF/EvjXxL8XNF8J/ELw/rnizTX8JwXFxd2WpTzg6Vpkht4pGjiSz8tkjYCN5HfcaZa2fxI+HnxtvfH/i3TfibcfEXWvghZSJZaGZVi1DWofP+02YKxSW8TRqRKscgwJWLKrMQtfoRptrFounwWtnGlrbWsSwQxRDYkUagBVAHQBQABUiysuQGYA4JAPpU/Ve8mbLiyCclDDxSldNKy91yulorpbKWrukrctj5V/4Jm+PPHfiy++JVp4t1DxHqujWN3ps2g3OrRah92W1JuFhlv4o7iRFlXB3rgNnb8pFfU9PllaT7zM31OaZW1ODhHlbufP5pjY4vEyxEYKCdtF5JK+y1drvRathRRRVHniv96kpX+9SUGh8j/8ABX3/AJEH4J/9lg8O/wDoctfXdz/x9Sf75/nXyJ/wV9/5EH4J/wDZYPDv/octfXdz/wAfUn++f51yx/iS+R9Fj/8AkU4T1q/nEZTZKdTZK2PBF+b2plP+b2qXTtOm1W8S3hUNLJnAJA6Ak8n2FG5UpJK7K9P+b2rT/wCEPvf+nP8A8CUo/wCERvP71p/4Ep/jSabJVWHdfeZNFajeDrz1s/8AwJT/ABpP+EOvP+nP/wACU/xpcrKVaHdGZSHo1an/AAh15/05/wDgSn+NH/CHXh/58/8AwJT/ABqeV9ilWhfdfeZfze1MrW/4Qy+/6c//AAJSj/hDL7/pz/8AAlKOVlKtTX2l95lx0vze1af/AAh9962f/gSn+NL/AMIdef8ATn/4Ep/jUunLsP21P+ZfeZfze1MrW/4Qy+/6c/8AwJSj/hDb71s//AlP8aOWXYar0/5l95k0Vrf8IXff9Of/AIEp/jR/whl962X/AIEp/jUyhLsV7en/ADL7zJorW/4Qy+9bL/wJT/Gj/hDb71s//AlP8an2cuw/b0v5l95kfN7UfN7Vq/8ACE3396z/APAlP8aP+EIvvWz/APAlP8aPZy7F/WKV/iX3mXSfN7Vrf8IRfetn/wCBKf40f8IRfetn/wCBKf41Ps59g+sUv5l95k/N7Uytj/hCr7+9Z/8AgSn+NN/4QjUPW0/8CU/xo9lPsUsTS/mX3mTRWt/whd//ANOf/gSn+NH/AAhd/wD9Of8A4Ep/jU+zn2ZSxVL+ZfeZNFa3/CF3/wD05/8AgSn+NH/CEah62n/gSn+NHsp9mV9ao/zL7zHjp1a3/CD33/Tn/wCBKf40f8IRqHraf+BKf40vZTfQr61R/mX3mR83tR83tWuPA2oSHaotWZjgAXKEn9ay7y1exuZIZP8AWQsUcA5wQcHmolCS+JFU61ObtCSfoxnze1MPWn/N7Uw9ayludB0FFFFfbH5mFfJP7A//ACfb+2P/ANjhpP8A6Qy19bV8k/sD/wDJ9v7Y/wD2OGk/+kMtcmI/i0vV/wDpLPpsl/5F2Yf9e4f+n6R6J/wUs8Lv4y/4J9/GHT4kaSWTwxdTIAMnMQEvA/4BX84OqahK2lxWsBw11KqjHdjwD+Ar+qjUNPt9Y024s7uCO5tLuJoJ4ZUDJLGykMpB4IIJBFfml+2d/wAEBvhx4d+GfjDxt8O77xdZa1oFjNq+neHvPjubOV4h5hiBZDLt2Bwq7ic4Ga4MwwEq1eFVbLc+s4R43p5TkGOy1Nxq1dabW12lGV3e6aWqf5Hwl+xrrHww+E/xW0LQPHmn/aZfEdr/AKJezEfZtLkkYpC8i45eTBKueI/3ZxySPTvg/wDse+Ivgn8dvF/iP4p+J7y7+Fvg2Ga5V769a4h1hGBESyQkkEBTllxy6gCuN0Tx98Avhj8JfC/jnxP4Q1bxd46kQWi26TyC0jltgBGxORFHmPy3AIZjycV7x8fv22PC2j/sq+BfEniXwPNrnhj4hq8D6UJAjW8QU8bicEhAcevqK3PzE+GPjVdeGfiNHfeLvBem3WjaXFfywR2FxJ5klsq4YKT1KSRtuUHO0q65IANcFDMsaof+WMgBQ/3M9j/Svqb4ifDH4e/F7TfBnhr4B6Bq0WtfEq7LjTb6WRdkgV4YRiQsI1O+Vi4YrtTd0q9p3/BCv9pdtO+zT+BdPG1SpLa/Z7Tg8YIkJrx80wkqnLOCbe2iu7H7d4O8VRwE8Tg8VVjCDjzx55csedWVrvbmTV7Jv3bpaM8A8J+EfDV1pcd5q/iextt3P2eORQ6exJyc/QVsrq3wt0Xj7W16w6k+dJn8gBXs8P8AwQA/aKmUn/hEtJi5xhvENrn9Cali/wCDfj9ooyAHwxoi5PU+IbbA+vNcEcrh9r2nySR95ivETOW7YepgorzrOX4px/I8WX4rfDK3+VdP3DoT9gJ/maraJ8VPh2ukwQXlivmxLsL/AGA/OASAxI5yRgmvev8AiHr/AGiP+he8N/8AhSQf4Uf8Q9v7RH/Qv+G//Cih/wAKv+ysP/LU+487/XziS/N9bwP/AIG/8zw4+IPhXq//AC2S1J7hJosfoRUMngrwNrX/ACD/ABXDAx6CSVWH5Haa91/4h7v2iP8AoAeG/wDwooP8KR/+Dev9on/oAeG//Cjg/wAKn+yaf2fafdc7aPiNncX++qYKXpWcfzkzwC8+Bd9JGZNM1HS9VTsIpwrH8MkfrXJ614fvfDV59nvraa1mxkK4xkeoPQj6V9Tp/wAG/f7RtjN+68O6KD2eLxHbj8jkGnTf8EHf2mIZFP8AwjljcccH/hI7V8e3zNWMstmvhu/+3Wj6LAeI0JtLFqjFd44mEvwaj+Z8gXF5LBbzLCzB7qRYVAPDnOBkd8HNfR37HetfDD4Q/FTw9o/j7TvtreJLdjbXcxBttLkdjHFJKuPmaRlchjxGNhxySNfxd/wRZ/aT8G6empy/D1J7LSN13cm31izmcRxAuzBRJuY4U4CgknjFT+H/AB18A/hr8H/DPjbxZ4R1jxd44A+wx2ySyC1SS2wYmJJEUeYyjchiecDivayvDulRvJWbZ+G+L3EEcxzhUsPUU6NOK5eVpxvJXk01pfVJ+h23wn/Y58R/Bn9obxX4h+Jfii8ufhT4PimvVlvr9riHV4mB8pZYiSCApyy45ZQB1r5l+LmveHfGt9eeNvh/Y3Xh+y0/UpY7azmk8yS2C/MgJ67JIyWCHO0q65IxX2/8cP23PC+k/sk+CPFPiHwPNrXhnx+XtW0jzAht4wGHLE4PyqcevtXgvjb4Z/DX4wWPgnw58C9F1TT9X+KGoLGbLUHm2wsN8MR2sWKpmSViyFlKxEjpXoyimrM/LaNSdOaqU21JNNNaNNO6a9GfNvibxYnjfUF1MWsdpLcxgziMkrI46sAemfSsXVtSj0qz82RPMQEZTON47jPbivvzwr/wbi/HD7OlvfeJPhvYiMkF/t9zMMZ4ICwZ6V6b4G/4NotRvGUeLvitp8du3+ti0jRmlcjuA0zqPxK/hXzEctqxq25G4p+Wx/XtbxIyurkqbxkaeJnTWvLKXLNx10ins3/w5+o/w3ura8+G/hyazVks5tJtJIFJLFIzAhUEnk4UjmtuqPh3RU8N+HdN02N2kj020htEdgFLrGioGIAABIXOAMVer6rofylK7ld6iDqueneub8A2fjKz17Vn8Uan4VvtPkmB0qPStOntZreLc3y3DSTyLI23YMoqDOeOQB0tN2lnwOp6VJpGo4xcbLXyV/k+nyPzH+BP7KvxL8N6J4U8I2/hjXNO8K/HK6ns/HzT2jwnQ49P1i5uBNICBs+2WTiBS2NwxjNUvHXg34veFf2TPBPh3QfB3xE0jUdH0jW9U06XTrTU5Hg1UatO1tALe1eNYpfJIlWa73xFG2rGWPP6B+G/2rfhv4x8JPr2leNdD1DRo9bTw293DIzRpqUjqiWh4yJCzoBkYO7rivRPssu3PlyYPAODg1wLBwcbRl0t08vzd38z9AxHGmMhW9picOk+fmad1eSUo637QlGO3wxWl22fCPxy8TfGLTte8faPZ6T8Vrq/8Sa94N1TRLzS7a4exs7FEtxqa+ahCwDzFkEsIwzeZkqV3EfQ3hPQ9R8QeCfjdp9rP8StOur/AF3VobKfXhFKyboECNpasGU2JPEQdTzvr2jyX25CvjnnBxx1ri/jT8fvCf7Pel6be+L9VbSrfVrn7LbEW0s5dgpZnKxqxSKNRueVgEQcswFa+xULylLT+v8AM8Spm88XGGHw9Bc2nwpttpQW1u0Ltd3LufBv7PXwn+I3iD4Ofs76H4f8O+NrLx18Kbe91O+1bxP4d/si10FDp08MWkwyvFG10ktw0Zx+8wMs78CvWf2DdL8eWvxi0Cae2+K1ppEvgpn+IP8Awmf2hYLjxO08eHsxOdpOBcbmtv3Ozy++K+y/LeRd4DOmNwYcqR6gjjFcX8Rf2gPCvwp8TWOi65f3MGqajpd9rFrbQ2U9y89rZKr3LARo2WVXGE+83RQTURwqhaTe3/A/yPRxHE1fHqpRp0E+fm2u2ruc5PzScm1olGylq7t9lRXAXX7T3gex8VeEdEuNZe21TxxapeaRBLZzoXjkXMXnEoBbtIQVRZSjOylVBYEV6B5Lrn5GGACeOgPQ10KSex8nWw9Wlb2sXG+101fW2nfVW06iU3/lpWV8QvHmj/CfwbqfiLxLqVtouh6NCbm+vbnIitowQCzYBOMkdBXC6X+2d8MfEHg3xBr2k+LLbWrLwvFHPqkOn2lxcX1pG5URsbQJ57KxYbWVCD2PBpSnFOzZtQwOIqx9pSpykrpXSbV3ayuk1d3Vlvqj02iuOm/aA8IQfGK08Avq6r4qvbQXsVobeTYVKmQIZdvlrMY1eQRFhIUUsF2jNdrJC8a5ZHUZxkjHNTzJvQmpRqU7e0i1zK6umrro15eZHRRRQYiv96kpX+9SUGh8j/8ABX3/AJEH4J/9lg8O/wDoctfXdz/x9Sf75/nXyJ/wV9/5EH4J/wDZYPDv/octfXdz/wAfUn++f51yx/iS+R9Fj/8AkU4T1q/nEZTZKdTZK2PBF+b2rX8Bf8jZa/Vv/QWrI+b2rX8Bf8jZa/Vv/QWoW6IxH8OXoz8Vtcz/AG9f8t/x9Td/9tqrbm9W/OrOuf8AIev/APr7m/8AQ2qtX5pLc/s2n8KDc3q350bm9W/OiikUG5vVvzo3N6t+dFFABub1b86NzerfnRRQAbm9W/Ojc3q350UUAG5vVvzo3N6t+dFFABub1b86NzerfnRRQAbm9W/Ojc3q351Z0fRrzxFeC306yvNQnY4EVrA0z/koJr0Xw1+xZ8WvFsatY/D3xQ0b9Gmszbr+chWtIUZz+BN+iv8AkceJzDDYfXEVIw/xNL8zzHc3q350bm9W/OvoHSf+CXHxv1VA3/CIw2ue1xqdvGfx+c1r23/BI/41Tn5tJ0GLjJLatGce3Arojl+Kf/LuX3M8mfF2SRdpYun/AOBx/RnzPub1b86NzerfnX0zN/wSN+NKNhdL0GQeq6qgH6gVnX3/AASq+N1iu7/hF7Gb/rlqsDH/ANCFH9n4pb05fcxR4wyOWixdP/wOP+Z877m9W/Ojc3q3517Nq3/BPL41aPkyfD7WJgve3eKbP0CuTXI6/wDsx/Efwnk6j4D8W2gXqW0uYqPqQCKylha0fig/uO+jnWXVnalXhL0lF/kzh9zerfnRub1b86m1LT7jR5jHeW9xZyDqk8TRN+TAGoawPTi7q6Dc3q350bm9W/OiigYbm9W/Ojc3q350UUAejfsd5P7Wfwz5b/kZrH/0ctfqx4o/5GXUP+vmT+Zr8p/2PP8Ak7P4Z/8AYy2P/o9a/VjxR/yMuof9fMn8zX0mT/wJf4v0PxLxL/5GdH/r2/8A0plD5vamHrT/AJvamHrXoy3PgDoKKKK+2PzMK+Sf2B/+T7f2x/8AscNJ/wDSGWvravkn9gf/AJPt/bH/AOxw0n/0hlrkxH8Wl6v/ANJZ9Nkv/IuzD/r3D/0/SPrSOjt/jRHUd5dJY2cs8hwkSl2+gGa6D53ofmR+3t/wRX1KHxNrXiv4QnQbnQteka41Pwdq0qwQpKWLE2ruQm3cSVQsjIWIV9vA+fdc/Zn+Ovxq8B+FPhzdfBXS7PS/CEi/2ZNf3Cx20DKpjDPJJclJAAx67gfQ1+sfia8utck+33aPIrkiFOfLiA+n+TTtW0+C38O2E6WkPmz/AOsPI3YH14rnlTW4HiH/AATb/wCCWMH7JusSePvG2qWfij4kX1uYIHtvmsdDhZQGWEkAvIVGwvtVVX5FUDJP2LXnvgfWpvDN1BFMZE0676LLx5TdMj0Gev512i+J9NbpqFp/38FXFJI2hFvYvUVS/wCEj0//AJ/rT/v4KX/hItP/AOf61/7+r/jTuXyT7MuUHpVX/hIrH/n8tf8Av8P8aafEFhj/AI/bX/v6v+NS3cfs5di383tR83tVT/hINP8A+f61/wC/y/403/hINP8A+fy1/wC/q/40OWhShLsXU+7S1R/4SOwXre2v/f1f8aD4k05P+X61/wC/gqLlezl2Ze3FeR1FfmT+33/wRh1FvFGteLvhC2gzaRr0jT6t4O1aRYbcylixa2dyE2liWVGZGQsdj44H6R3Hi7TbeNmN9bHaCdquCTjnArzbxTeXWvSG/u0eSNmKwx8+XEB/n8aVkyZQ6SPye1r9m745/Fz4d+Fvhpc/BTS7XSPCMqnTpb24WO3gZVZAzySXJSRcOcg7gfQ194f8E2/+CWMf7K+vH4geOdTsfE3xFuYDBafZPmsNChZdpWEkDfIU+TeFVVX5VABJPuOp6fb2/hmwnS1h86Y/OeRuwD78Vq+BdYn8N3kEUnmLp96cBJOPKOcZGffr61PLYmFNJ3PQ6KYt5FJ92SNvo4P9af8Aw7u3rUyNhPm9qWk+b2pactixFwWXPI7iua8A6L4s0nXtWm8SeJNI1ywuJg2mQWeiHT5NPj3Mdskhnk847Sg3bU+6TjnA6amP96o63NqdRqLira+Sb+Tauvla+x+bHgf9jX4mfDXwP8MH0nwbqskPi3xhYz+N9MKKs2kS6frklzaamy5+49m7xOR2WA1w3gPUPEnx28aeMjFq/ia58XeONH8aW/gh7TXJJBrN0k7hGuCt6VtjBAvlQH7LAh39d20n9X6xPD/wz8M+E/EF9q+leG/D2l6tqmTe31npkFvc3mWyfMkVA0mW5O4nmuCWBSaSen/Df8H7z76nx5UaqSrUk5yu01530d73S91ecYpbtSXw58StP+J/iLTfin8Rm0nx94Dt/BXhTwvr+gLr9ybOK8vdJMsmoQtGsrKFlQSRuH++GRiCCtclrXwS+MXxf+HfgXxXqNx46k0H4k2Os+KNTg0K2uNWutC1HUJkexUQJeWrIkVmI0jbc0SPv3Rndmv0j1rQ7LxNpNzp+pWdnqOn3kZiuLW6gWaC4Q9VdGBVlPcEYqeGFLeFI40SOONQiIgCqigYCgDgADgAU5YNN6t/07/8A5qPGlSlFeyoxUk1Z2vaKgoWu79fe7c2ttWj4G+KH7PPxcvNU8f69APiVqXibRZPBMnha7TUJbcXMsSwJqswtoZjbuxVX84EOv38E9T6v+3h8KfGfjP45eH9Y8JaPrF6mm/D/wAYWC3un5Vra9ubWJbSNXBDLJI6kJjuvUV9Qn79OrR4ZJNXev8Anc4/9aK7q06rhG8FJJWdrSpxg1vto5WWnNKXRn5z6p8LfipJ+0R4EtfFGu+NtEvbvSfDR8KGwtvt0vmWVvE+qQSlr+BI3Egkacywz7kfKkEYrvfAPhP4s6f8avAWg33hf4gLp/hv4p+I9a1fW2ud2lXOk3UVy1iqyeaWkjG9AFK7YmUDg4r7PvPD+n6lqllf3NhY3F9pu/7Hcy26vNab12yeW5BaPcow20jI4NXKzWFSd7v+tf68jqr8XVKlNQdKPwuO1rNpxurWezvZt+/d7aHyL8bPgn4k+I//AASM8QeD9B0D4jab4kudImFroWs6jHqOu3Li8d/s9xNgiRZB8wA2nZsAIxXmPx4+C/xR+L2jar4k8J+Hvifp994V+GbeFbe+1wR2PiTxRfzX1tNtRISreVbxo22QhM7sLn5jX6EU3/lpRLCxl16W+4ywPFVfDtuNOL9+U1e7+Ll5lvdpqNtX1b3s18H6b8OfiHN/wUSuG8Qa/wCLLDU/7fTWtDisLQXNne+HEt0haKSRr5I4oVd3SUG0eTzGBV23AVr/ALEfwL+JPwv+IXwY1bWbLx5A+peGNetvHJ1XVLi7hjuFuUOnpNHJIyRsIwfL8tRx1NfZsnh+wk16LVWsLFtUhga1jvTbqbmOFmDNGJCNwQsASoOCVzirVSsMlK/nf8n+hriOK61Sj7FQjZwUXpbaM46Wtp73Mk72kk/IKKKK6D5MV/vUlK/3qSg0Pkf/AIK+/wDIg/BP/ssHh3/0OWvru5/4+pP98/zr5E/4K+/8iD8E/wDssHh3/wBDlr67uf8Aj6k/3z/OuWP8SXyPosf/AMinCetX84jKbJTqbJWx4Ivze1a/gL/kbLX6t/6C1ZHze1a/gL/kbLX6t/6C1C3RGI/hy9Gfitrn/Iev/wDr7m/9Daq1Wdc/5D1//wBfc3/obVWr80luf2bT+FBRRRSKCiiigAooooAKKKKACitbwL4C1v4m+KLbRPD2l32s6reHEVtaxl3I7seyqO7EgDua+2/g5/wTS8Hfs/8AhZfG3x417To4LXDjSFmxao3ULIw+ad/+mcYx/vCuzC4GrXfuLRbt7L5nz+ecTYHKopYiV5y+GEdZyflFfm7LzPlz9nP9kHx1+1BrCx+GdJcaar7Z9VusxWNt65fBLsP7qAmvsK0/Ym+AH7GGgw6j8VvEFv4i1hk3pbXTkJI3XEVpGS7jPGXJHrivP/2i/wDgrLdTaUfDHwh0uLwpoNunkR6i1uqXGwcYhhA2Qj0JBb/dNfHWveIL/wAVaxPqOqXt1qWoXTF5rm6laWWVj3LMSTXd7XB4bSmvaS7v4V6Lr/Wp8ysDn+dvnxlR4Sg/sQa9o1/entH0Xo0ffc3/AAWB+H/wzt5NP8C/DG4h0+P5YiGg02NgOATHGrEfjzXJ69/wW98XSK50/wAE+HbdcEg3F3NMR9cbRXxLTre1bULqK3VctcOsQHqWIA/nWTzrGPRSt6Jf5HZS8N+Hqb56lDnfVylJt+b1t+B+0Piz4w69on7FV3478uxt/EkfhX+2dgjLW8dwbcSY2k5Khj0Jr8+JP+CvPxokbIvvDqA9l0oY/Via/QL9qPSV0L9h3xpYr92y8JzQAey2+0fyr8Ya9bPMVXozgoSa07nwXhdkeWZhh8TVxNCE7VPduk7K17K/Q+m0/wCCuvxoVgTqHh1sdQdJXn/x4Vpab/wWQ+Ldljz7fwneY6hrGRM/98yCvlKivC/tPF/8/H97P0+XBOQyVnhKf/gKX5H2tov/AAW68aW+0ah4L8NXSjqYLiaEn6ZLCu88L/8ABcDQ53Rda8B6vaL/ABPZX0dxj8GCfzr87GZVXJOB3Jr69/YL/wCCaGpfGu7sfFnjq1uNN8Hxss1tYyKY7jWcHIyDzHCe56sOF45ruweYZhWqezpSu/NL8dD5XiPhHhHL8LLF42ioJbcspJt9orm1fy83Zan3x8G/iZ4V/a4+Fdv4jg0G4k0e9kaOOLW9ORWl24BYK24MmeAwJBwa/OT/AIKX/st6z8IvjTqXiSy8L6fpPgbVnjFjLpUeLWBwoBWRQAI5GYFsY2n+E9a/VrStLttA023srK3htbW1jWKGGJAscSAYCgDgAAYAFQ+JvDWn+MtButL1azt9Q06+jMNxbToHjmQ9VIPBr6jHZasVRUJv3l1S6/5H4jwzxg8lzKWJw0G6Mrrkcm7RbT0ei5lbdrXY/BKivq79vr/gm9ffs8y3XirwfHcan4Hdi9xDzJPomT0Y9XhzwH6r0b+8flGvg8ThalCfs6qsz+q8lzrCZrhY4vBS5ov70+qa6Nf8FXWoUUUVznqno37Hn/J2fwz/AOxlsf8A0etfqx4o/wCRl1D/AK+ZP5mvyn/Y8/5Oz+Gf/Yy2P/o9a/VjxR/yMuof9fMn8zX0mT/wJf4v0PxLxM/5GdH/AK9v/wBKZQ+b2ph60/5vamHrXoy3PgDoKKKK+2PzMK+Sf2B/+T7f2x/+xw0n/wBIZa+tq+Sf2B/+T7f2x/8AscNJ/wDSGWuTEfxaXq//AEln02S/8i7MP+vcP/T9I+r7y6+x2csxGfKQtj1wK4HUte1DVNyyzP5UnDRqAFx6YruNcy2j3AHdMVyQ03zFbtW09zyMPBOm+5FZX11DJDbRxpLCwACsn/fXNa9xt8mRYI45ZoBkIRnB9hVOxkexboucY5otYRZ3RmV2ZjnIOOfrUnPazszL1O4n1azJuAvysQoAxjjn+lZyaftUALz9K6C6ha6kZiOCe3AqP7CF7c1nLU9DBxcbyfUxV0WWRdwXIP0pG0eVf+WZ/wC+a3ltzH3YU5dy/wB01PyNpR/vP7zn/wCzJP8Anm3/AHxSf2W5P+rb/viuj3H2pvKx4wv51L9B8kv52c8NIlb/AJZt+VO/sGVv4APrit35sfwrTWjZv4m/OiVyuR9ZP7zGXw+y/eZFpjaWEbht30GK2vstH2Qe1TqbRsu/3sw5NPHy5HQ81q2d5dW8kFvEiSxOANhT355qf+z/ADFZTxU9m0mmtnCkHjJ/xqodjlxUW5c6LVwqeTIsMcck0A3bOwPsKwL64n1a1JuNvythQBjHHP8AStO1jFndefvZmOcg45z60k1u19MXcKqk5OOPypydjnpxbdkc9Hp6qo4x9KmjkuLE7oZpoyP7rkVs/YvtEmI0b0AUZol0WW3UF4XUMcDcMc1gev7T3OS/Q6+3Zmt4yepRSc+uKlpkefLUHqoGafWstjywpj/ep9Mf71QXESiiinLcoKKKKiQDT9+nU0/fp1EjQKKKKkApv/LSnU3/AJaUFRG0UUVEtygooopAK/3qSlf71JQaHyP/AMFff+RB+Cf/AGWDw7/6HLX13c/8fUn++f518if8Fff+RB+Cf/ZYPDv/AKHLX13c/wDH1J/vn+dcsf4kvkfRY/8A5FOE9av5xGU2SnU2StjwRfm9q1/AX/I2Wv1b/wBBasj5vatfwF/yNlr9W/8AQWoW6IxH8OXoz8Vtc/5D1/8A9fc3/obVWqzrn/Iev/8Ar7m/9Daq1fmktz+zafwoKKKRmCjJOB60ihaK9m+AX7AvxO/aJWG60jQm0zRpsEapqpNrblT3QYLv/wAAUj3r60+Fn/BE/wAN6Wkc3jLxVqeszYzJb6bGLSHPpvbcxH/fNehhsrxNfWEdO70X+f4HyOccdZJlknTxFZOS+zH3n6O2ifq0fnIzBRknA9as6Pol74gmEen2V5fyHottA8xP4KDX7IfD/wD4J/8Awf8AhoY5LHwLotzcR9J9QjN9IT6/vSw/IV6zo+g2Ph628mxsrWxhAwEt4ViUD6LxXsUuGajV6k0vRX/yPz/HeNWFi7YTDSl5yaj+CUvzPxR8N/skfFLxaqtp/wAP/Fs8bdHbTniU/iwAr339n7/gj3428c6hDdeObqHwjo+QzwRSLcahMPQAEpHn1Ykj+7X6gUV6FHhzDwd5ty/I+TzLxhzavTdPDQjTv11k16X0/A+Rfj3458L/APBLz4W6Xpfw98D/AG7XPEnmxw3Do0hZoghaS5lALufnG1Bgdfuivgn4p6x8Wv2nfFjaz4g0zxdr12SfJRNMn+z2yn+GKMLtQfTk981+1xUN1A9qdW2Myd13y8/LBbRS0/M87h/xAhlcXWlhVVxEr81WU25O/TVNpW0snr18vxH0n9jn4sa4oNt8OvFzg9C2nPGPzYCum0f/AIJwfGzWseX4D1CDP/PzcQQ/nucV+yVFcseGaC3m/wAD26vjRmb/AIdCmvXmf6o/JPTf+CSnxq1DaZNG0WzU9fO1WLI/Bd1dz8NP+CO3xG0/xpo19q+qeE4LGxvobi4ijuZpZHRJFZgo8oLkgcZNfpnRXRDh7CRd9X8zy8R4uZ7Vi4LkjftF/q2cj8bfh03xd+EHiTwul4LFvEGnT2AuTH5ggMiFd23IzjPTIr4xsf8AghrbKB9q+JVy3r5OiKv85jX35RXficvw+IkpVY3a9f0Pkcl4szXKaUqOX1eSMnd6Rd3a3VM+GrH/AIIe+GI2BuPHniOb2js4I/55rd03/gip8Nbfa11r/jK8I64uIIwfyiz+tfZFFZRyfBr/AJdo9Cp4hcRT3xUvlZfkkfPfwk/4Jl/CP4P67FqlroU+sX9uQ0Umr3BulhI7hMBM+5U19CKuxcDpRRXZRw9OkuWlFJeR85mGaYzHVPa42rKpLvJt29L7BRRRWxwFa8s4dQtJIZo0mhmUo8bqGWRSMEEHggjjBr80v+Cjv/BOhfg2t74+8D2//FKs/malpq9dJZmA3x+sJY8j+D/d6fptXD/tI6BH4r/Z98cadMqsl5oV7Hg9MmF8H8Dg15+ZYKniKLUlqtU/6/E+r4P4kxWUZhCpQl7smlOPRpv81un09G0/w3opkL7oEPqAafX5uf2Sejfsef8AJ2fwz/7GWx/9HrX6seKP+Rl1D/r5k/ma/Kf9jz/k7P4Z/wDYy2P/AKPWv1Y8Uf8AIy6h/wBfMn8zX0mT/wACX+L9D8S8TP8AkZ0f+vb/APSmUPm9qYetP+b2ph616Mtz4A6Ciiivtj8zCvz/APCHxw8X/sc/tt/tIX1x8C/jJ440nx74lsb7S9R8OaJ51q8cFoUY+Y5UMC0nBXI+U1+gFfLfi7/gol4rh+OHjvwT4N+BHjP4gn4f6hHp+oX+l6vbxRb5IhIhKOmVyM4GT92sqmEnXadN2cdb6drdfU9fK87o5fGrTxFJVIVYqLTcltKM00467xRkN/wVO1yRSp/ZY/aUIPBH/CPR/wDxdZr/APBTzWd2P+GYf2jh7f8ACPx//F11H/Ddnxj/AOjTPid/4O7L/wCJqpJ+3F8YBkH9k74mDPP/ACGbP/4mpll+K/5+L/yX/M76PEmSrT6j/wCTVjBb/gp3ri9f2Yf2jiPfw/H/APF0i/8ABTzWv4f2Xv2js/8AYvx//F1ur+3B8Ydv/JqHxMPp/wATmz/+Jo/4bi+MH/Rp/wATen/QZtP/AImoeX4r+df+S/5mn+smSf8AQD/5NWMFv+CnmvSf82wftHYHT/in4/8A4ugf8FNdcbr+zD+0d/4T8f8A8XW9/wANxfF/b/yaf8TAP+wzZ/8AxNH/AA3D8Xv+jT/iZ/4OrP8A+Jpf2biv51/5L/mX/rNkv/QF/wCTVTn/APh5prX/AEbD+0d/4IY//i6P+Hmmt/8ARsH7R3/ggj/+Lrf/AOG5vi//ANGo/Ez/AMHNn/8AE0f8Nx/F/wD6NR+J3/g5s/8A4mj+zcV/Ov8AyX/MP9Zsl/6Av/JqxgN/wU01vaf+MYP2jv8AwQR//F01v+Cm2t9P+GYP2kP/AAn4/wD4uuhf9uT4v9P+GUPiZ/4ObP8A+Jp3/DbnxiZf+TTvid/4ObT/AOJqf7NxX86++H+Y1xNkv/QF/wCTVjnF/wCCmmt/9GwftHj/ALgEf/xdH/DzLWv+jYf2jv8AwQR//F10X/DbXxi/6NO+J3/g5s//AImj/htr4xf9Gn/E7/wdWn/xNH9nYr+dffD/ADH/AKzZL/0Bf+TVjnl/4KZa0f8Am2H9o7/wn4//AIunf8PNda/6Ni/aN/8ACfj/APi63T+298YY+v7KHxMH/cZs/wD4mkj/AG3PjBI2R+yh8TD9NZs//iaX9m4r+dffH/Mf+s2S/wDQF/5NWMJv+Cm2t7v+TYv2jun/AEL8f/xdH/DzXXP+jZP2jf8AwQx//F1ut+3D8YFY/wDGKPxMz3/4nNn/APE0n/DcXxe/6NT+Jv8A4OrP/wCJpf2dif5198P8yv8AWbJf+gL/AMmrGD/w831vH/Jr/wC0bn/sX4//AIunw/8ABSzXbqTH/DMX7R2B1J0CPA/8frcT9t34wN0/ZQ+Jh/7jNn/8TUo/bi+MirtH7KHxOUe2s2f/AMTR/Z+J/nX3w/zD/WbJumC/8mrFa1/4KdatpsIA/Zi/aNX1P/CPx5P/AI/Va6/4Kla3cyLj9l39pJ4lO4keH4+SOn8daS/tvfF/dlv2Tfig599bs/8A4mpv+G7PjDs/5NN+J3/g7s//AImj+z8T/Ovvh/mY/wCsWS3v9S/8mrf5GT/w9O1z/o1v9pT/AMJ+P/4uj/h6drn/AEa3+0p/4T8f/wAXWr/w3V8Yf+jTfid/4O7P/wCJpf8Ahur4xf8ARpvxO/8AB3Z//E0f2fif5198P8yo8RZL/wBAX/k1b/Iyf+Hp2uf9Gt/tKf8AhPx//F0jf8FTtc/6Nc/aT/8ACfj/APi61v8Ahur4xf8ARpvxO/8AB3Zf/E0j/t1fGH/o074nf+Duz/8AiaX9n4r+dffH/Mr/AFiyX/oC/wDJq3+Rlf8AD0vXP+jXP2k//Cfj/wDi6P8Ah6Xrn/Rrn7Sf/hPx/wDxdaf/AA3X8Yv+jT/id/4O7P8A+Jo/4br+MX/Rp/xO/wDB3Z//ABNL+zsV/Ovvh/mP/WLJf+gL/wAmrGb/AMPTtc/6Nb/aU/8ACfj/APi6T/h6Xrn/AEa5+0n/AOE/H/8AF1q/8N2/GH/o034nf+Duy/8AiaP+G6/jB/0ad8Tv/B3Z/wDxNL+zsT/Ovvh/mV/rFkv/AEBf+TVjJb/gqZrg/wCbXP2k/wDwn4//AIuj/h6Zrn/Rrv7Sf/hPx/8Axdav/DdXxg/6NQ+Jv/g7s/8A4mj/AIbq+MH/AEah8Tf/AAd2f/xNL+zsT/Ovvh/mP/WTJf8AoC/8mrGV/wAPTNc/6Nd/aT/8J+P/AOLo/wCHpmuf9Gu/tJ/+E/H/APF1q/8ADdXxg/6NQ+Jv/g7s/wD4mj/hur4wf9GofE3/AMHdn/8AE0v7NxP86++H+Yf6yZL/ANAX41v8jK/4ema5/wBGu/tJ/wDhPx//ABdJ/wAPTdc/6Nc/aT/8EEf/AMXWt/w3V8YP+jUPib/4O7P/AOJpP+G5/jB/0af8TP8AwdWf/wATR/ZuJ/nX3w/zKjxJkt/9y/Gt/kZX/D03XP8Ao1z9pP8A8EEf/wAXSf8AD0zXP+jW/wBpL/wn4/8A4utb/huf4wf9Gn/Ez/wdWf8A8TSf8N1fGD/o0/4mf+Du0/8AiaX9m4r+dffD/M0/1kyX/oC/Gt/kZX/D0zXP+jW/2kv/AAn4/wD4uj/h6Vrn/Rrv7SX/AIT8f/xdav8Aw3V8YP8Ao0/4mf8Ag7tP/iaP+G6vjB/0af8AEz/wd2n/AMTU/wBm4r+dffD/ADD/AFkyX/oC/Gt/kZR/4Kla5/0a7+0l/wCE/H/8XR/w9L1z/o139pL/AMJ+P/4utVv26PjB/wBGofEz/wAHdn/8TSf8N0fGD/o1D4m/+Du0/wDiaP7NxP8AOvvh/mV/rJkv/QE/vrf5Hh37Wn7R3jH9s64+Ffh3Sv2fvjh4X/sP4i6Lr15f61oWy0itoJWEhJQsVwH3EkYAU5NfoncMGuJCDuBY4P418r6T/wAFFPFth8V/A3hnxj8BfGfgWLx5rMeiWOoalq1vJEJWGSdqJubC8kZH1r6mrGWEqUXep9r06el0TjM+w+PpU6GFpezjS5tPebvKzd+bXoFNkp1NkqThF+b2rX8Bf8jZa/Vv/QWrI+b2rX8Bf8jZa/Vv/QWoW6IxH8OXoz8Vtc/5D1//ANfc3/obVWqzrn/Iev8A/r7m/wDQ2qtX5pLc/s2n8KCv0M/4Jnf8E99Hfwbp3xG8b6eupX2pAXGj6dcxhoLSH+Gd0/iduqhuFXBxk8fDvwO+FV58bvi74f8ACtjH5k2tXqQvkhQsIO6VifaNXNfuTpOlW+h6Zb2NpGsNraRLBDGvSNFAVQPYAYr6Lh/AxqzlWqK6jt6/8D9T8f8AFvietgsNTy/CT5ZVbuTTs1FaW7rmd9v5Wu5aRFhQKoCqowAOMU+iuP8AiL44utDuLPR9Ft4b7xFrAb7LHKSILaNceZcTEciNNw4HLsyqMZyPs5SUVdn840aMqs+SO/4ebfZJas6yWVYYyzsFUckk4A/GqOm+KNN1qd4rTULG6mj+8kNwsjL9QCTXP6d8JLGWMTa9JJ4m1A8vLfgNCD38uD/VovoAM+rHrTfEfwA8E+K7Xyr7wrobY+7JHarDNGfVJECuh91INRzVN0l9/wDwDojDCp8s5y9VFfk2m/nY7SivB9W1/Xf2SfEVi2rapeeIvhfqc6WjXt/J5t/4XmdgsZllPM1ozEKWf54yRlmWvd1YMoIOQehop1ea6ejW6/rp/W5WMwLoKM4tShL4ZLrbdNbqS6p+TV002tFFFanCFFFFABRRRQAUUUUAFFFFABWL4p8baV4NtIpNSvEg+0N5cEYBkmuX67I41BZ29lBNO8ZeIo/CXh25vpI2mMICxQp9+eRiFSNfdmIUfWs3wR4JfSpW1fV3jvvEN4gFxcAZS2U8+RCDysQ/Nj8zc9JlJ3sjopUocvtau2yS3b/RLq7Ppp2zLr4vauWzaeAPF11a4z5p+yQMfpHJMrfmBS+EP2gPD3ijxMugzNfaD4hkUyR6XrFs1nczqOrRbvlmA7mNmx3rvK5b4m/CzRfi/wCGH0rWrXzoWbzYJoyY7izlH3ZYZB80cinkMpz+FZyhUSvF39f60/E6qdbCTfJWp8q7xbbXm020/RcvqdTVHW9It/EGj3VheJ5lteQvbzJnG9GBUj8Qa4X4EeKNaX+1fCPii5F94g8KyJH9u2BP7Ws5ATBdEDgOQrI4HG+N8cEV6RVU5qcbnLiKEsPWcL7Waa2aeqa9VZrr3Vz8Nf2jvhRF8Dfjt4o8JW9xJdWuh3rQQSuMM8RAdM+4VgCfWuJr3j/gpnYf2f8Att+NlxjzpLab/vq3jNeD1+Z4qChWnBbJtfif2vkWKnictw+IqO8pwg2+7cU2ejfsef8AJ2fwz/7GWx/9HrX6seKP+Rl1D/r5k/ma/Kf9jz/k7P4Z/wDYy2P/AKPWv1Y8Uf8AIy6h/wBfMn8zXuZP/Al/i/Q/J/Ez/kZ0f+vb/wDSmUPm9qYetP8Am9qYetejLc+AOgooor7Y/Mwr5Z/Ye/5PW/a0/wCxs0r/ANInr6mr5Z/Ye/5PW/a0/wCxs0r/ANInran8E/Rf+lROer/Ep+v6M+pI6RlDJzSx0vze1c3Q7FsQNCV6Gm4ap2z3pMVPKaRlcj+z/Lyfyp0cYXtSsTt60bhUj1Yu6hmKrTfMoZtykUD5SKOPdJyc9zVhmO2mRptpWPy1MihMtRlqNzelNClurUSK5QkbzODzg5IoVWbgfKvoKcqhelOqShnl7Vxim+UPQU+Sm0gCiiilIqIUUUVnIoT5valpPm9qWnLYsKY/3qfTH+9UFxEooopy3KCiiiokA0/fp1NP36dRI0CiiipAKb/y0p1N/wCWlBURtFFFRLcoKKKKQCv96kpX+9SUGh8vf8FBv+S//ssf9lJT/wBEV9Q18vf8FBv+S/8A7LH/AGUlP/RFfUNdGI/g0vR/+lM4cP8A7xW9V/6SgpslOpslcZ6Qvze1a/gL/kbLX6t/6C1ZHze1a/gL/kbLX6t/6C1C3RGI/hy9Gfitrn/Iev8A/r7m/wDQ2qtVnXP+Q9f/APX3N/6G1Vq/NJbn9m0/hR71/wAExJ0tv23vBfmHG43aLn+99mlxX7DV+Gf7N3xH/wCFRfH/AMG+JDt8rSdWhlnydo8lm2SZJ6fu3fmv290jW7PxHpcV5p91b31rcDdHNbyrLHIPUMpII+hr7PhmovYzh1Tv96X+R/OXjRhZxzGhibe7KHLfzUm2vuki/XB/Cq3/AOEh1/xJ4olPmSahfSafZnqIrS1Zogq+zSiaQ+u8egrvK8z/AGR9dXxJ+z7oN4v3pDcrID1Ei3Mqvn33A170n+8jH1f3WX6n5TRi1hKlVd4x+T5n+cUemUUUVscBkeM/CGn+PvCeo6Hq1ut3puq28lpdQsOJY3Uqw/I9a4D9j/xBeal8FodJ1OdrrVfB97c+HLuZjlpmtJDGjn3aPy2P+9Xq1eC/sc+IU1r4h/G6GI5t7PxzOq4+7u+zwh8f8CU5rlqWjWg+91+v6fie1g4yqZdiIvaDhL0d+X8VLXvZdj3qio5LiO3HzMq+5IFVn1yzhbD3lshPrKo/rXVoeOot7Iu0VkTeONGtU3Saxpka5xlrpAP51Ul+K3he1bbJ4k0GNsZw2oxKcf8AfVT7SPc0jh6stov7mdFRXHzfHzwNapuk8a+E41zjLavbqM/991Vl/aW+HNuTu8feDFKjJH9s2/8A8XU+2p/zL7zaOX4p7U5f+Av/ACO6orzi4/a6+FtqAZPiH4NUHp/xNYD/AOzVSuP22/hFalg/xG8IZXqBqMZ/kaj61R/nX3o2jk2YPahP/wABl/keqUV4/N+3v8G7b73xG8MnP9253fyBqpN/wUU+Clvu3fEPQzs67RK35YQ5/Cp+uUP5196NY8P5pLbDVP8AwCX+R3HjO8XUfid4V0dtrLi61Z1PcQLHGv5PcKw91rs6+XvDH7XHgn4u/tv+ELXwr4is9atbvw1qNk7RK6CKfzYJlHzqpyyRPjH92vqGjD1o1OZwd1e2noh5tl9fBqjTxEXGThezTT1lLo/QKKKK6Txzh/EluulfG/wzfRqqtqVjeaZKf74Hlzx/lskx/vmu2Z1iQsxCqoySeABXy/8A8FE/2sf+GVdV8A6ja6db6xqTXV5KlpLcGFdnkGLeSATgGXpjmviP4/8A/BTL4nfHzRbrSJLux8N6JeKY5rTSY2R5l7q8zEuQRwQpUHuK8bE5tQw05QldyvsvRdT9GyPw/wAzzrD0MTStGk005SfaclpFavTbZeZkf8FDfidovxb/AGuPFGseH7gXmmgw2YuFxsmeGNY3ZCOq7lIB79a8UpANvA4A6Clr4StVdSo6j6u5/UOW4GGCwlPCU23GnFRV97JWPRv2PP8Ak7P4Z/8AYy2P/o9a/VjxR/yMuof9fMn8zX5T/sef8nZ/DP8A7GWx/wDR61+rHij/AJGXUP8Ar5k/ma+gyf8AgS/xfofj/iZ/yM6P/Xt/+lMofN7Uw9af83tTD1r0ZbnwB0FFFFfbH5mFfLP7D3/J637Wn/Y2aV/6RPX1NXyz+w9/yet+1p/2Nmlf+kT1tT+Cfov/AEqJz1f4lP1/Rn1JHS/N7UkdL83tXMdnQPm9qPm9qPm9qRmEMbO5VUXksxwB9SeKUtiohJTa4Dx5+1R4B+Hu+O+8R2c9zH1t7LN1Ln0wmVH4kV5lJ+3peeOtUutP+H/gLWPEd1aRrLK88iwpEpJAdhnAB2nALZ+Wumnga81zKLS7vRfezhrZthKT5ZTV+y1f3K7+8+jKXyy3IVseuK+cvO+PXxG3CTWvCPguKRN8UVuhupnUjghgCvHQ4fisLwr+z7rHjTxNPZ+OfiJ42v2jG5oLWdbVDzzjO/jnIxWscArNymtO13/kvxPPq8RU4tKEG77NtJfq/wAD6mmvILf/AFk1vH/vSKv8zUK61YzNhL6xc+izqT/OvI4/2AfhrDHHd/Ydb1uPGZFvNauJGceo2soyPTFXpv2FfhTcW8dzaeFI5EGSyLf3IY+uD5mQwrB0KH8z/wDAV/mbf2tiL/w1/wCBP/5E9WX94Ny/MvqOR+dHze1eYWf7F/hKzhFx4Y1rxt4Xn6pJp+uTMiH0McxdTj0IrK8Sat8UfgDE9xfS6V8R/DsA3NM2zS9ViQdzk+TIR9VJ7Cl9XjPSnLXs9P1a/E6Y5wkr1o2XdO6/JP8ABnsifdpa87+DP7Ungv45KYtF1VI9SjYpLp93iG6iYdV2k4Yj/ZJr0SuapTnTfLNWZ6dCvTqw56TTXkNkptOkptZGwUUUUpFRCiiis5FCfN7UtJ83tS05bFhTH+9T6Tyy0gGMbumaguIyivGvDP7a2ieKPhj4D8VRaFrcNl4/8Vt4StIpDHvtJxNPCZZCCVMebdzhSWww460z4Y/tweGPiR4u8U6ZLbpolp4Pt5rzUdTutb06a1ggSXyw7CGd3TcQ5YMoCBfmOSBW7w9TV22/zsY/W6TtZ77fdf8AI9oorjNP/aS+HmreG9Y1m18ceE7jSPD0ixaneR6pC0FgzfdWRgcKT/D/AHu2afpf7Q3gLXfh/deLbPxl4buvC1jN9muNXjvUazt5dyrseTO1TudByf4hWUqU+z+5mntofzL7zrj9+nVx/ib9oHwJ4N03UL3V/GXhnTbTS77+y7ua41CNEt7raHMDEn/WBGDFeoHJrX0n4jeH/EGvQ6XYa5pN7qVxp6atFbQXaSSy2bttS5ABJMRbgOOCamVOVr2NfaQbtdfejZorwdf29NJh+KV5oN34S8RWmjWfjFfAjeIPPtpLX+1HjWSNDCH85Y3DACTbgHrXoOk/tKfDvXl1w2PjrwneDwxE0+rmHU4nGnRKxVpJCCdqBgQW6Z71UsPVjvFkRxNKW0vv0O3pv/LSuH0f9pz4b+ItU0ux0/x74RvrzW5nt9Pgt9Uhke9kRzG6xgE7iHBXA78da5X45ftseDPhH4R1y/07VtB8Ual4c1CysdU0y01WJZtPFxdJbGSUgNsEZky2R/DgkVMaNRy5VF3/AODYr6xSinJyVl/w/wCX4HsFFcd/w0Z8P28CzeKU8ceF5PDNvdGyfVV1GI2qTg4MRfON+f4etdN4d8Saf4w0G01TSb6z1PTL+JZra7tZVlhuEPIZWUkMD7VlKElq0zaNSMtItFuiiioKFf71JSv96koND5e/4KDf8l//AGWP+ykp/wCiK+oa+Xv+Cg3/ACX/APZY/wCykp/6Ir6hroxH8Gl6P/0pnDh/94req/8ASUFNkp1NkrjPSF+b2rX8Bf8AI2Wv1b/0FqyPm9q1/AX/ACNlr9W/9BahbojEfw5ejPxW1z/kPX//AF9zf+htVarOuf8AIev/APr7m/8AQ2qtX5pLc/s2n8KCtLw5401rwbJu0fWdW0luubK8kt//AEEis2iiMmndBOnGa5Zq68z0bTf2wPitpChbb4jeMo1XoDqkjjj/AHia+zf+CPP7UEev6Jq/w71q836tFdTarpjyt810kpLzoPVlcs+PSQ+lfnZV3w34k1Dwdr9nq2k3tzp+p6fKs9tc27lJIXU5DAiu/B5hVoVo1W20ul+nU+V4k4RweZ5fUwcIRhKVmpJJWktm7brdPybtqfvnRX5+/Ab/AILRw2uiwWPxG0G8mvIRtbU9IVCJvd4GK7WPfa2PQCu58Zf8Fpfhzpmku+h6H4o1i+wdkM0EdrHntucuxA+imvtI5xg5R5+dL13+7/I/m3EeHfENKt7D6s5eaacX53vZfOz7o+if2lPjvpf7N/wc1jxXqbJ/oMRW0gLYa8uGBEcS+pLYz6DJ7V+KOpeMtW1bWr/UZtQvEu9TuZLu5aKdoxJK7FmYgEdSa779qP8Aa48XftY+LI9Q8Qzpb6fZkiw0u2yLayB6kA8u5HV257DA4ry+vk82zP61UXJ8Mdv8z988P+DHkeEk8S061S3NbVJLaKfW122+/kk3Yk1i8myr3t44PUNcMc/mahkmkmbLSSOR0LOT/M02ivIufoCilsR/ZY/+eS/kKPs8f/PNfyFSUUitRv2WP/nnH+QpPKT+6Pyp9FADdi/3V/75pdgpaKACiiigDY+HnjvUvhd470nxFo8vk6lot0l3bsfu7lOdpHdSMgj0av2c/Zg/aZ8P/tR/DS01/RJ1WfaqX9gzgz6fNjmNx1xno3RhzX4l1vfDb4p+I/g94ni1nwvrN/oupRcedaybd6/3XByrqf7rAivWyvNJYSTT1i91+q/rU+D444IpZ/RjKMuStD4ZPZr+V21t1T3T23sfvFWH468daT8NvC15rWuahbaXpenxmW4uJ32oij+ZPQAck8CvzA0z/gsJ8YrHTRBJJ4YvJgMfaJdNKyH3IVwuf+A14x8cv2ofHX7R+oJN4u8QXWpQwtugs0UQ2kB9ViUBc/7Ry3vXv1uJKCh+7i2/PRH5Rl3g3mc66WNqQjT6uLcm15JpL7/uZtfto/tN3H7VfxwvfEAWa30e1QWWk28n3orZSSGYdA7sS5HbOO1eT0UV8dVqyqTdSe7P6IwGBo4PDwwuHVoQSSXkv17vqwooorM6z0b9jz/k7P4Z/wDYy2P/AKPWv1Y8Uf8AIy6h/wBfMn8zX5T/ALHn/J2fwz/7GWx/9HrX6seKP+Rl1D/r5k/ma+kyf+BL/F+h+JeJn/Izo/8AXt/+lMofN7Uw9af83tTD1r0ZbnwB0FFFFfbH5mFfLP7D3/J637Wn/Y2aV/6RPX1NXyz+w9/yet+1p/2Nmlf+kT1tT+Cfov8A0qJz1f4lP1/Rn0n4sm1O18P3M2jw21zqECmWK3nJCXOBkx5HKkjgNg4Pavmz/h5lbRtIsvgy6V1JG0agvDDgg/JXmv8AwWi/b2u/gZ4Pg+GPhK8uLLxV4nthcapexhlaw09tyhY34xJKVdSRyqqe5Ffmhpn7VnjjTVjRNUt3iiAVUezjKgAYA4APb1r0cqwkanN9Yp+7pZ3s330T2Xd9fvPMz3FVKMabwdZc7vzRtdJaWu2t3roulm3d2P1A8df8FSvEGoQyroPhy10y2jfy3vpT9qMZ3YO0EqDg8EhSK8q8dfGbxX8SpmOua/qV+pP+qaUpCPpGuFH5V8ZeE/2wNQs/Lt9c0+O+0+OQylLU+SxJbcM5yGAPIGR71hftAf8ABVKy8KvHp/hPTnlvpVyz3Ufmyhj2SNTjA/vM2PQV9BTp4PDx50kvz/HU+OrPMsXP2cpOXz0+5aH2GqheAMVe8M+KdU8E69HquialeaTqMS7BPbOASpOdrBgVdc9mU1+YFx/wUi+Kt1ced5+oRR5ztQWq/wDjm3+tepfAX/gqZfXmtR6f4qtkvl/5abbcWt9EO7BQdkgHcDBop5lha75FJMmpkeMor2lj9I7X9rD4kWakr4kV1L+YvmaZbkI3cjCLjPfHWqupft/fECD4jaRabvDN5JaRte6hcT2BhEFrkoEJVwC0j5C54AVzX52ftEftIS6p8RtM8SeDdU8Q6dZuiC5ga4aOG4dGyGCBiBlPlbI/hrsNc/bGi8R+JLy4k8MW89lrmmxW0sEt2cExO7qwKqCCBIRR7HCt25UT7PFqKbd79OzP0q8N/wDBUDWNLm2DTfC9zuP+rW8YZPsNxOa2bf8A4KZa1a3jSp4R0lfM/wBYgvZNrn1A28Gvyct/jNpdnepNH4PsGKMGCy387rkc8gEZrtT+3p4iVcf2FoIA4H+s/wAan6jgnvH8/wDMr22YRSUJfl/wT9NI/wDgpxqcN4Zk8Iaam/8A1iC/fa59fucGuQ/aQ/bSf9pb4J694I1Twxb2FprkSobm3v2MluyOsiMAUwwDKMg9RxX58L+3p4k3fNofh/HsJR/7NT1/b28QFudB0EjvjzB/WiOBwUZKSjqvX/MmWIzJpxb0fp/kem+C/gjf/DjxBDf6ZrczFfvruaDns3yk5I7Zr6V+FP8AwU08e/COztNB8caTpWvxzyLBYa2txJGjseBDNkFkc9AWyCeN2cCviCP9vfWh97w7op+kjj/Gs7x5+21e+KPBOq6dP4b01EvLZow6zsTG2MhgCOoYAj3rbE0cPWjaor/eGDq4/Dz5qTtfzX/DP5n6hx/8FMr7pJ4Ptf8AgOoMP/ZKqXn/AAU81iG8YQfD6wuLfjax11o3PHOQYCOvvX5wL+3teeWoPhizJAGT9pbk46/dpz/8FCtN0exlm1nQJLdFRmQ21wrZYDIB3AYHqc8VxyyrL/5fxl/mehDOs5X2r/KP+R+kdv8A8FSriP8A4+Phjfn3ttfgf8g0a/zq7H/wVg8OWq7tR+HfxEtIx1e3SzvQPwjn3fpX4bfEr/gq5448ZavPF4UtlsrKNiAbWNQoHvLICzH3AUVgaL/wUg+LPh28Wa8uL+4iXl1zDcrj3UqD+Rry62HylS5LtP1Pao4zPeXnfK/Vf5H7++Ef+CunwH8TaoLG78V33hi+JwYdd0qey2H3YqVH4tX0B4P8caL8RNDTU/D+saXrmnSDK3NhcpcRHPupIH0NfzmeFf2xrL9pHXrKTxeXuNJjPlvFpaJb3FuxGNwLhm3DrtY4btX3r+wz+w/4a+Immv4k+Dn7RGteFPFlvcBBYeXEJWU4IMsAdGcZOCCrCvDx0cLSxkMIudc6bjLkbpu28XNX5XbVKVrra9nb2sHmWKlh3XrKHuuzipWmr9VF/Euml7dbH6o/N7UtfKP7N37bfi7Tf2vNR/Z1+LWlWsvj/TbJtQsPEWjxmPT9ctVjEgkeJjmJymenG5SuB3+rq5a1GVN8sv6R7mHxEK0OeAijY2fSud8EfDPTfh/rWqX1lc69PLrEwmuFv9Zur+KNtzHEMc0jLCuWPyxhRjA6AV0dNjUSSAepwcVipNaHRypu76HyN8Pf+CZo8C+Fvh1KlxoK+MPCnjVvEep6rHLdMl5aGe4kEMcbfKJAssY5VRlD83riW/8AwTj+ImqR+KW1zxh4f1O+1nwVq3hOK9kvL+ZriW7nSWO4aGQGK1jCrtMNuu0bcjdnjq/g/wD8FLk+IXwi+IHiDV/Csej6v4RKPpmmRX5m/t2Ka4ktLUoxRSrSXUZiYAHb15rQ0f8Ab8lb4R/D/wAa63pNroun61NeHxPbQ219qC6NawTyW5ukuYYjGiLKg3CZV3Kx2kbefUcsWpO+97dPU8eMMC4rl2tfqtLpXf631+RwH7Vv7JPizw3a32vaHuuo9SHg7TR/Ymnz3d5o/wDZbu0t6IYwJHUFkKiLL+oAzXdfBP4U+LfHH7BPiTwSdCsPDeqa3canp8Fxr0FzjU7a5nYyanPbSl5o5ZQ8sgikPD7M7V4HruvftSeBfDP9um71po18Nahp+magyWk0ixT34Q2ighTvEgkQ7lyBu+Yirdp8Yo/iJ8L/ABFrnw/it/E2o6PLfWFtaXPmWcd3f2rNHJblmQsoMiFA4UjuMiueeIrOCUls1r8lY6o4WgqjcZbpq2/XXz3ufNNj/wAE0/EvhHwn4R0rTtf0fVLf4e6zq0ulJcahf6VNqthfooY3dzaDzUu42GC6b1kT5WxXuXwJ+AN98F9e0O3t7TwXaeG9F8JxaJFHZWk76lFcLcNKUW5mZpGswrfKjsTv+biuX/Z5/bysf2hrDXdetNCvNN8GeFtJtn1a/lSaW7i1dxmbTo7dELSGEYDMvJZ0AWuqP7bHw4h8Npqcur6lbo+tf8I4bSXRLxL+PUTEZltmtjF5yu0YyuV+bcMdaK0sTJuE1f5d/T1b+ZWGhg42qU2l217WXXdaJdtPv4/wT+wLo6/ED4i+IvFUq6pfeJ/El5rWhmC9uTDoyz2qQCb7MxEP2tP3hWUKSAwAavP5P+Cd3jbxB8NoNA1TXPBdq3hf4eX3gHQJdNguF/tAXJT/AEq93KPLwsSHy4t/zu7bu1dprX/BR7wnpfxU0OOO4a58B6n4Y1DWZ9Rg0q9m1C1ubS7WCSKSBULxpGPMMnmICnl5JAr6I0XWrTxJotnqNhcR3lhqECXNtPEdyTxOoZGU9wVIIqZV8TSs5ddtO2ny8xww+ErXUOm9n3s7vv018j5/1X9jvXNN+LngPW/CNx4Y8I2nh2z02x1e6sDPFcana2xYyWj2gU20yO53RyvskiLFhuOK5eP9hnxuv7Nj/CuTUvAc2i6Xq8N/puqmK4F/exDVVvpFulKFFYoCh2Fw7YJ2gV9ZU3/lpWP1yqrfLp2/4dm/9n0W3pvdfJ2v+S+Z8p/E/wDYB8QeLvG+v+I9P1rS4rmf4gf8Jlp1j9svNPilhbT0s3hluLYCWGUYLq8W4dj1Ne7fs7/CWL4G/BzSPDMNrp9iLHzpHgsbi4uLeN5ZnlYJJcM0r/M5yzkZOTtUfKO0orGriqk48knojajg6VKbqQWrCiiiuc6hX+9SUr/epKDQ+Xv+Cg3/ACX/APZY/wCykp/6Ir6hr5e/4KDf8l//AGWP+ykp/wCiK+oa6MR/Bpej/wDSmcOH/wB4req/9JQU2SnU2SuM9IX5vatfwF/yNlr9W/8AQWrI+b2rX8Bf8jZa/Vv/AEFqFuiMR/Dl6M/FbXP+Q9f/APX3N/6G1Vqs65/yHr//AK+5v/Q2qtX5pLc/s2n8KCiiikUFFFFABRRRQAUUUUAFFFFABRRRQAUUUUAFFFFABRRRQAUUUUAFFFFABRRRQAUUUUAejfsef8nZ/DP/ALGWx/8AR61+rHij/kZdQ/6+ZP5mvyn/AGPP+Ts/hn/2Mtj/AOj1r9WPFH/Iy6h/18yfzNfSZP8AwJf4v0PxLxM/5GdH/r2//SmUPm9qYetP+b2ph616Mtz4A6Ciiivtj8zCvln9h7/k9b9rT/sbNK/9Inr6mr5Z/Ye/5PW/a0/7GzSv/SJ62p/BP0X/AKVE56v8Sn6/oz4F/wCC43xQ0H4hftty6fo7tLe+EdIg0jV5MED7TueYIM9dscqAn1+lfKsfw58QTWKXSaLqkltIgkSVLdmUrjO4EA8Yr9Jf+Ct//BLPxr8dPih/ws/4Y6Xa6trl2iWus6ULiO3kv40UCKdNxVTIoGxucsNh7Gvgnxb+yb8cPhnG8OtfCr4l6bCMhjDpk1xAR35i3KRX0OAxNF0Yxb1R8zmWFrqvKaV03fbQ8P8AjB4w/wCEJ8A318vMgXZGPVjwB+Jrsv8Agnz+zN4Dj0/S/iB8Yrl5NM8Ra2uiaVZkMf7XviAXaUr8wt4shTjjc3PAxXnX7SHw+8UeJtHg0fTvC3ii61a3mF5Pp6aRcfahBHy8hj2btijljjA719b/ALLOj/DDxd+x98NfG3jfxPc6JY/DLUr6yMEWDFPdXUxkjMgCs2TGyFcY+714rxc+rNzjBbWuetkdFRpubWtz1fVPgn8R7f8AaIj8N6fB8K4vhxLcLOlgfCcDH+zgRuUttOZBygO7rg18n/8ABRT9lf4d61a+J/F3wjmazPgfVo9N8QadGGVNOuJBmK4tyeTCXzGw+7u+7xX6I2HxM8Ot8F5NRt01B/DsTixFyLkGYwsAS4kzwvPTd0r5a+P2j/CrR/2Zfi/8RvBPim51eDxpb2vhue0kx5Md5HOjLjKqxcIpY9RjnNeBGTT5lue40mrM+Ivhb4mk8efD1lkX/SowWKDtKhw4H1613fgHQ9R8TaLL9mgZ5NFBnfe6ofKwc4BILYGeBmvKf2U/FUWkyXt6JLfyHvp1UyYKYKrn9a90X4lW1xjDaS/pwv8AjX6DhJKdOM572PhcYpQqShBaXOyt/wBmnxXeW6TQwafNHIodGS8Qh1IyCPqKST9mjxlH002F/wDduU/qRXD6f44l0eMxW62E9vkmNTLtaIE52A55A7Vej+Kl8v3bROv8NwP/AIqu3915/wBfI8zlrrZr7v8AgnRyfs6+Mo/+YLI3+7Kh/rVab4E+L4eugX5/3QrfyNZa/FzU1fi2uB3+W5P/AMXU0fxm1dekN9jrxct/8XT/AHfn/XyD/aPL+vmOuPhL4otf9Z4f1YfS3Zv5A1h+JPDGp6bYlbnTr+3ErrHmS3ZRywGORXQL8dNaj6Jqgz1xct/8VUepfGjW9aWGFm1JUjuI5yZLlio2MGGOTzkDFT7lty4yrdUjn2+ViCMEdQeorxT9oLWrjxN4ks/DtszhLtiZgn3jEpA2j/ebivoPxT40uvGLRG63O0WcO7l257ZNfN1n4stfD/7Vul3V9teCxe2neM8kos4kcY91Bry82qShh5OB62UQU6650foB+yD+yf8AD/4e6f4m8BaW+g6l+0Fougw6mRrOn/bNL0OaZd0UCxn5JGTKCQnLfPkcDFdD4D+GesSfCPx34i/aXHw91jwXoNkxgbR/Di2OoW06E+YY5IlR+OFVRnLN2ANdVY6T8F/2e/2nfE+qS+MtS1T4g/E64XxVDpwlWM+SwPkrEwUAxlWO0FiSM8V337XHxQ+G3h7wqbH4nalceHNDv7Pi5Ev7rdOChUoASzDJ52n1r4U+0Pye/ak+Ddn+zT8UdF8ReF9Rk1bwV4tsodW0u9I2te2ExwPMA4E0Tgq2O6+9ej+E9elmtbW/t55YLuLpNDIUkRh/EGBBHrwa0/8Agql8O/DvwN+Efwt+GXhbVL/xNFoGjXU9tcTIJLqSC7uRNCpCAZ+UOVwvTBxXAfC3XDp/hu3t7yG7S5McZePyGLxttAKkYyCCOQRX1WQ1pOm4Sei2Pm87ormUlufbf/BMf47a1ff8FJPh9rfibUdQ8SalqVvL4YW71C7aWaCCSJxHhmJLbW6ZPRjX7bV+DH/BMfTbnVP27vhbLFY3zQw65G7u1s6ogCOckkADGO9fvPXFnsYqrFx7fqz1uG5S9hJS7/ohFba2RwR0rnvBPwn8L/DXWNU1Dw/4e0nRr3XJRPqM9nbLFJfvuZt0hAyx3O5yf7xroqrafq1nq11JFbXlrcvA22VIZ1kaI9MMASVPB614kZNaI+i5U2m9z5u8G/8ABNfRfC/iD4XajP4ivL2T4cXd7czxCzWKPXVmvHvLeOYBzgW8771+9kr/AA1z3jj/AIJVw+NPhvo/htvHTm20zStR0o/bdDS8ijN3ePdfaraNpgsFyu/yvN+clFwNppvwn/4KTa5488Cy3OpeFdJ0zxAfFemaZa2q3ErQXuk3t+9kLyMk7jJHJFKjL90Mo7GvStY/4KFfDjRdW1OB/wDhLJbXTLXUr1tQi0KZrG4h05vLvGhlOBII5P3ZwOXYAV6UpYyMvNPsn3fbzZ5MY4CcPJpd12Xf+6v6Zz3xE/4J+XHjTXtWe08eXOl6J4hvNC1LU9OOjxztcXWlLGkbLMZA0ccixDcgUkNghsZU+rL8NfFS/CXxPoTePLqbX9bmv3sdfk0yIS6PHcOxiRIlKrIYEbarFgSVDN6Vj+Jv2yPAnhHxYdGv7vVIrtDpAlcWDtBANUZks2eQcKrMm1ifuFhnrXm/7Rn/AAUEsfCNgI/A97p9zqOl6rqFvqiahpd3cB4NOCi7aIQjPlCRhG1wSQhU7Y5CCK51HEVLRa9NF29PJHU5YSlzTT9bN9/Xvf8AEl0//gm7pngvwb4t8M+EfF+teGPDvjLw/Z6ZfWsEXmSG/tioOo+ZvB3zRqUmTA8wMfmFL8M/+Cdtv8O77TblfElmHsPHVr44Nvp2hJp9mrQ2ZtvskUSyt5cZzu3bmI77utdbrX7e/wANtF8QSWMl7rU8UB037TqNrpU9xptmuoqjWkklyo2rHJvQBjznqBVf9pr9ozWvg38V9C0Kzl0mz0zUvCniHW7u7u7OS6a2lsII5ImCo6lkBclkHzMOARVRqYpvlfXut9BezwcVzpX5dNG9Lv17tnOeE/8AgnfB4V1jXrtfF9zMdc0bxFo7L/Zyr5Q1a7+0mTPmHd5R+UD+Prlele5/CvwKvwv+F/hvwyly16vh3S7bTRcGPyzcCGJYw5UE7c7c4ycV8/8AiD9vJtB+JHw/08av4Zn0W+sNKl8T3Z068TyptSUC3IcBltAdyOqSeYW37WMeN59W0n9rDwZrV5oVvb3OpGXxJ4hv/C9iGsmG++shIbhG/uoBE+G6N261nXjiJJc+q3/P9DXDywsG/Z6dN/TzfXT1PSab/wAtK8r8bfteeH/Df7LN18V7Gz1XUdIEQ+xWc1u1ld3kzT/Zo4SsgBj3SkDLDgfNzXP+Af2otVtfGHiDSfGWofD241Lw9pr31/oXhR7691nTnV0UxtE6YnUF9pkj2gNzjacrzrD1Gm7bf0/uOr61SUlFvfXys9tfPU9yorxuP9vT4fzeGoL+NvEk15c63J4dj0ePR5X1U3yQ+e8QgGc4i+fIbBHTJ4r2DTrxNS0+C5jEqx3EayoJI2jcKyggFWAZTg8gjI6GsqlKcPiVjanWp1PgafoSUUUVkaCv96kpX+9SUGh8vf8ABQb/AJL/APssf9lJT/0RX1DXy9/wUG/5L/8Assf9lJT/ANEV9Q10Yj+DS9H/AOlM4cP/ALxW9V/6SgpslOpslcZ6Qvze1a/gL/kbLX6t/wCgtWR83tWv4C/5Gy1+rf8AoLULdEYj+HL0Z+K2uf8AIev/APr7m/8AQ2qtVnXP+Q9f/wDX3N/6G1Vq/NJbn9m0/hQUUUUigooooAKKKKACtHwj4R1Lx74p0/RNHs5tQ1XVJ1trW2i+9K7HAAzgD1JPAHJ4rOr1z9hH4naP8IP2sPCGva9MltpNvPLBNcP9y282GSNZD6KGcZPYc1thqcZ1Ywm7JtK/zOHNMRVw+Dq16EeacYyaXdpNpfNlrxb+xdqPgu8+z3PjPwFqGoWN/aWOsaZpmqefqGlG4mSHJjZVEhR3AYRscd8CuT+PPwOufg98dfEnguwkvvEDeHbhYTcQ2ZDyqUR9xRC23l8da9I8Z/sjeJvhd8WV8UatqHhqTQP+EltrnT9QXWYJn1pZr1CrQRqxdjsfe25VACk5r6Mt9In1f9ov46apo/i7xFDcW+vWLf2L4e1qx0me6jFtH/pclzccGFAzgopx8pyCcV6cMDGpFJxcHf52tfy/ryPianE1TDtVVWjWhyN3sorm5qUUm0na3M97JXtJ3Vz897XS7q+vjbQWt1NdLuBgiiZ5Rjg5UAtx344p1rpF5qE0sdvZXlxJACZUigZ2iAOCWABK8jvX6J3mp3rftq/Fi18N6XHfaZ4lstGj1DVdC1600zV9M3RBjc27yELIhIPmbep2dc4rI/Z/j1U+JfiN4fsfEVxe+HrnxdLd3HxF0bXrCw1C1ljhQlruJyFntsn+BSrFZOO9KOVJyUeZ/aW3Z277Pvstmwlx1P2Lq+xirQpzs5raai3e0dGrtKPxTteMWnZfBvgvwbqnxE8WadoWi2cmoatq0629rbx43Su3Tk4AAHJJ4A5PFehfFv8AZPv/AIRaBql1P4v8B61faDJHFq+l6XqplvtNZyEAZGRQ+1ztbYW2nrW9+xd8StB+Cf7bmj6xrGqQ3Gh29/e2baoVCRESrJElyR0VWLBj6BvQVf8AEH7G3iT4b/Fa31rXvEnhfQ9Bl8QwNY6//attdG7WW6UrcQw7mZ9iuJW8xVUBTnIrmo4eM6Skldt2b/l2t5a3e+/Q9nHZvOlmHsZzVOChGSuruo25c0V1vFJaRTl712rKz8IvNBv9O8n7TYX9t9oOIjLbvH5p9FyBu69qZeaXd6eqtcWt1bqWaMGWBowWXqoJA5Hcdq/R345acdG+Cut2Orax4g1q4sfGeh3OnXniHXrHUJriM30SG6t0g5toXG/Cvg43cAA18w/8FKfjVr3xD/aT8ReHbzVI7rw34ZvyNJtYYo1jg8yGNnYMoDMzMxJLMavF4GNCHNzO/RWt0vr2OTIeKq2Z140oUko+82+a+i5Lcvu6t86TTatZ9dD55ooorzT7YKKKKACiiigAooooAKKKKAPRv2PP+Ts/hn/2Mtj/AOj1r9WPFH/Iy6h/18yfzNflP+x5/wAnZ/DP/sZbH/0etfqx4o/5GXUP+vmT+Zr6TJ/4Ev8AF+h+JeJn/Izo/wDXt/8ApTKHze1MPWn/ADe1MPWvRlufAHQUUUV9sfmYV8s/sPf8nrftaf8AY2aV/wCkT19TV8s/sPf8nrftaf8AY2aV/wCkT1tT+Cfov/SonPV/iU/X9GfUkdOErRn5WZfocU2OnVzHZ0I5LeKa+juZIoZLmFWRJXjVnRWGGUEjIBHBGea/H79tr/gmX8RP2Gfil4s8ZfB/wevxM+CnjkvN4h8ErA1zJpgZi7KIVy7RKxLRSxAvEPlZdoBr9gt3zBSVDHoN3PFcJ4m8RX3ii+mgsrlrDTbfiSdSVaTHGcjnB7AdazqRT3A/C61/bU+DWm/s73vwpf4Z/Eq2sb2/+1y6ML39+k3mJJ5IlIEoTcgXbs3Y4r2/9kX/AIJr/Eb/AIKEeNPCl/8AEHwU/wAIf2e/B0ouNO8MNE9tc63yCVEbgSnzMYluJQpK5VAScj9RW+HukSWp1PfctMrbftBjXzc9Mgn5v1rX8O+IL/wpdQrcXT6jpU5wJGJZo/cE88dwfwrKNJX1K5TNuv2HfgteLCsnwk+G+y3jEUSr4etVWNB0UAIOBmq8n7BPwPmjKt8Ivh0Vbgj+wrcfyWvTm8RWHH+m22DzkSA03/hJNP8A+fyD/vuun2k+7+9h7On1S+48t/4d6/Af/ojvw5/8EcH+FR3H/BO34CXAG/4OfDpsf9QaIfyAr1b/AISfT/8An+t/++6H8Uad/wA/tv8A990vaVO7+9lexp9l9yPJP+Hc3wB/6I38PP8AwUR1BN/wTV/Z7uHLP8Gfh6WPU/2Wo/rXr/8AwlOm/wDP5b/nR/wlWnf8/kP5ml7ap3f3v/MPY0v5V9yPHv8Ah2f+z3/0Rf4f/wDgsX/Gof8Ah19+zv8A9Ed8D/8AgG3/AMVXs3/CWaav/L5D+v8AhR/wlem/8/cP6/4Ue2q/zP73/mNUaP8AKvuR4tcf8Eu/2d5oip+D/gtfdbZlP5hwawvi9/wSP+AXxR+B+teCrX4c+FfDB1OB1tNZ03TIxqelTkhknimYGTKsASpbawyp4NfQjeLtM/5/I/yb/Co77xpp9np8k63EczIDtiU/O57AA81nKpUkrSb+bZcaNJO8Yr5I/BX9pj9mfxz+yXo9n4D/AGhvhXqvxE8CeGJm/wCEY8c+HXkjmsId2Qsdygby0OATBOBtPAJGDS/Fb9qrwN+2H8ZPDeueDvgf4y+I/wAQdBtBY6LY3cbXOn2x3l1le1hDCVlY8GRlX1r9rdamu/EC/aNXvpoLef8A1VpBn51+mcEe7VFJ4HsPCt4ken3U2l3Ew3K6Dy0c5wASuP1rBxF7JHy1/wAEnf8AgmH4s+DvxG1f46fHGaG++LXiWForHTi6zL4cgcDeWK5Tz2VQgWP5YkXaCSTX3gug6fHM8i6fp4lkYs7i2QM7HkknGST61h+B/FV1cXD6bqmBeRDKS9PNA7Htnv710hnTn50yOoyKLWOiMUlZAv7tdqhVX0AAH6U6m5DdCp+lOolsaCfd5FYnhf4d+HvAuqX95ougaJo93qsnnX09jYRW0l6+Sd0rIoMhyxOWJOWPrW5TH+9UqTQ1FPU+dpP+CcPhqTw/8NbMeIdbiuvhrrMmqQXscUayapC979tNnOv3fKEwRlI5BTI6mvJ/gr/wT/8AG0PjXxNY+JrC10nQfG1prtl4r1Fb2yu5NRju5nktvsDJCLqIoWDubhyG242njH3BRXWsbWSave/f79DllltCTTta3brstfuPmbxp+wVdx/C34omTxHq3xB8U+NPClpodsl7Ha6akU1irmyeNkAWMiQxsWbPKFs84EOg/8E1NJ/4V38OI7jU7e18V+D9El07ULq60e01y11OS5cXF07w3aMvmfaWd1lHzfNjkHFfT9FZ/XKyVk/y7W/Ir+z6F7tdLb+d/XfzPB/F37BeieKtP8a2h8QapaReNToJl8q0gUWY0nZ5YjVQq4k2DcAqhf4QBxXUfHr9lvTvj74ws9YvdYv8ATZbLw/rHh5YreJHV49RiSOSUlud0YTKjoe9enH79OrN4iomnfb/K35JHR9VpWa5d/wDNv82fMM37AFv4V+NXhXVdDW3vdMuLGysvEd3qOmabeTQHTrdI7Wa3FxE8kbzBAknlMAu3d15rpPD/AOwhZ+Hfipo3iCHxr4hfS/D3ijUPFmnaE9tb/Z7e6vkdbhWmx5rLucsu4/LyOc5r3qinLGVX16W/T8iI4Gine3W/Xy/XX1POdS/Zzs/G37Os3w68Z67rnjO3vIGhu9XvpFj1GdvNMscodRhZI22bSBxsFedeNP8Agn6/xWk1e48Y/EzxR4h1K/8ADa+F7a8FhaWj21qt0lzmRY12zs0kaBt4CurOpHzcfRdN/wCWlRHEVIu8X1v/AF2+RrLC0Z6SXS2728+/zPmdv+Ca+ln4T+JPCY8VbbTxXrDaxfkeF9NEEbtbpDttrcIEtimwPHJFtZG/vV9EeE/DsfhHwrpmkwz3l1DpVpDZpNdSmWeVY0VA0jnl3IXLHuavUVnWxFSppNmlHDUqWsFb7wooorE2Ff71JSv96koND5e/4KDf8l//AGWP+ykp/wCiK+oa+Xv+Cg3/ACX/APZY/wCykp/6Ir6hroxH8Gl6P/0pnDh/94req/8ASUFNkp1NkrjPSF+b2rX8Bf8AI2Wv1b/0FqyPm9q1/AX/ACNlr9W/9BahbojEfw5ejPxW1z/kPX//AF9zf+htVarOuf8AIev/APr7m/8AQ2qtX5pLc/s2n8KCiiikUFFFFABRRRQAUUVa0XQr/wATaklnptjfaleSAlLe0gaeVwBkkIoLHA5OBQk27ImUlFXlsUVhRckIgJ6kAUrQoygFEIXoMDiug8P+GbjTfiVo+l6xp1zaSvqNrFcWl5A8Mm15UBVkYBgCp7jo1esftY/AyC4/bw1jwD4J0qy01b3UbWw06yi/dwRNJBESe+1csWJ+tbRw8nFSXV2t1uefUzSjTxCoTejhKfN0UYuKf/pSfpc8H+zxsoBRCB0GBQ0KNjKIcdMgcV738Qv2L9N0Hwb4yvvC/wAQtL8Xat8OSv8Awkumx6ZPaG0G7Y7QyMSsyowcEgD7p78U7X/2J7CX4JeIvF3hvxxJ4hfwvYJqN7C/hu8060uIW4Y2t1MAs+0+ijPtxWjwdVJu2yvuttdVZ67O9r2tqckeJcvkoy53aUlHWE1ZvlspXiuW/NFpysmndNngvDdOaYsKR5IRMnqQBXtf7a/hGbwfrHw/Ett4bt/7R8F6ffIujab9gV1ffgzAu3mTccyZG7jgVs63+wqujfDCTx8PGNpceAW8PpqtrqiWX727vXk8tdNEJlyJfM4LbiB6daJYOpzTjFX5d9ul/wDL8l1HDiDCKhSr1pcvtdI7u7vayst30W71snZnz2LeNRwiD6AU5QFUADhegFfUus/8EtfE2ifDy8vZdaceJdP0c61caadEuVsRGF3tCt+f3bThf4AvXjPevllW8xVYdCMis6+GqUXy1VZnRlmdYLMYylg6nOouz0a9N0rp9GtH0Y6iiisT1AooooAKKKKACiiigAooooA9G/Y8/wCTs/hn/wBjLY/+j1r9WPFH/Iy6h/18yfzNflP+x5/ydn8M/wDsZbH/ANHrX6seKP8AkZdQ/wCvmT+Zr6TJ/wCBL/F+h+JeJn/Izo/9e3/6Uyh83tTD1p/ze1MPWvRlufAHQUUUV9sfmYV8s/sPf8nrftaf9jZpX/pE9fU1fLP7D3/J637Wn/Y2aV/6RPW1P4J+i/8ASonPV/iU/X9GfRPiLWriGbyLZvLYcu3Uj2FY0zXlx9+4uXH++QP0rd1axVrwsBy4BP1qt9lb/arLSx0as5zULF1UMrSBjwTvOcHtmtPTbO3h0uCCWDeszMxPowPFXZtPEsZFPsY02iOVflVtw9jWc+5pHQX+z0+y7ArBCc474rOvLO3k0+5t4oNipiQntuzW3IknnbgY9nrntVS/jTayRL/rDlj6mszQ5bTdHABG1cbjV3+x19FrVj00Rx9OafHZ7VOBjPBrRaE8pjDSc8jaB2pP7H/3vyroPLYLwcfgKRo329f0FHMHKzA/sY+/+fwpf7EP+1+X/wBatzY396k8pv75pcw+RmIuisezflQ2jsuDhuoHIra+zt6tSNZ7h61DkOMTFl0ry+1Zy6Qramu5eDgH866prEelV5tP+YMB061MtjWEbMPstrfag+bfbPB+7D+3bFTalptvNHm4j81AOh6cVYt1T55AFE7KBk8A46U6NGaJ0uPL2MOitk1nI1ic54ktY9Qt7edI/L3IQB3wDgVXt9KDR/MOcda3rq1FzIqhfkQAAegFPXTxtwBz6URJlG5neH7HydYtyOMOO9dlWNp+nmO+TcrKV+bkVs0qjuaU1YKY/wB6n0x/vVkbREooopy3KCiiiokA0/fp1NP36dRI0CiiipAKb/y0p1N/5aUFRG0UUVEtygooopAK/wB6kpX+9SUGh8vf8FBv+S//ALLH/ZSU/wDRFfUNfL3/AAUG/wCS/wD7LH/ZSU/9EV9Q10Yj+DS9H/6Uzhw/+8VvVf8ApKCmyU6myVxnpC/N7Vr+Av8AkbLX6t/6C1ZHze1a/gL/AJGy1+rf+gtQt0RiP4cvRn4ra5/yHr//AK+5v/Q2qtVnXP8AkPX/AP19zf8AobVWr80luf2bT+FBRRRSKCiiigAooooAK0PCnjHVvAWuRanoeqaho+pQhljurG4a3njDDBAdSCMg4ODWfRTjJp3RNSnGcXCaununszcm+IWq614/tPEmuX9/rupQ3cFzNPeXLTT3AiZCFMjEn7qBRnpXtPxZ/bH8KeMPjRH8TPD/AIJ1rR/HsOp22orc3euC5sW8kIpRoREpw0a7chuN2a8K8I+EdT8eeJrLRtGsptQ1XUpRDa20WN87kEhRkgZwD1Neiax+w38YNB0qe9u/h34ghtrZC8j7Y2wB14Dkn8BXXRliOX92m1e97Xs11vbc+fzChlKrQWLnGElFxSc+S8ZWvFx5kpRbSVmmtLHVeN/2yPDreHfGkXgzwCfDer/EaZJNfu7zVWvoigk814oI9ihEkctu3E8Nj0x6l8bv27dP8dfs6a5erav/AGh8S7CXQ7jR18VSXK+HmhQKsyWJjEcMMm0nIO5tw56181fG79m7xT+z7Lp3/CQw2Bi1LzEjmsbtbqKKeIgS28jLwkyEjcnbd3rhK0lja8FKlLS6tayVlr0t1Tf33OGnwzlGLjRxVD3lGXMpc8pc1rKzbk7pOELb25bW1Z6N+0l8e4/j/feEZo9Mk0r/AIRnw3aeH2DzCb7QYN+ZRgDaDu+6c49a9G1L9uzS9R+F178O28Gunw+/sGHTtOsVvEF3Y6hE5kGoGby8O7O25l2j7o565+c6KxWMqpyknrLfRa7/AOf5PdI9apw9gZ0qVGUPdpO8dZaO97p3vdPZ7q7WzZ9CfFX9tHQfjTpb6jr3hDxB/wAJpNpI06a6svFM9tpU8qoUW4a0UfeCkHbu2kqA2RmvnpPu0tFZ1q86suee/wAl+R1ZdleHwNP2WGTUezcml2Su3ZLolZBRRRWJ6AUUUUAFFFFABRRRQAUUUUAejfsef8nZ/DP/ALGWx/8AR61+rHij/kZdQ/6+ZP5mvyn/AGPP+Ts/hn/2Mtj/AOj1r9WPFH/Iy6h/18yfzNfSZP8AwJf4v0PxLxM/5GdH/r2//SmUPm9qYetP+b2ph616Mtz4A6Ciiivtj8zCvlfxV/wT78d2/wAdvH3jXwN8d9e8AL8QtRi1G/0+z8P290u6OIRoDJI5LYGeQq/er6or5D8P/D/xj+0d+1B8abJfi58RPCGmeD9btbSwstIu1EASWDeQA2duCnGP7xrzMwzapgpU4UabnKo3FL3VtFyd3LTaJ7GU5DRzKNWpiKqpQoxUnJqT3lGCSULveaNGb9in47SfN/w1f4uYj18KWP8A8VUX/DFXx2/6Ou8Xf+EtY/8AxVdN/wAMMeKv+jiPjF/4Fxf4Uf8ADC3iz/o4j4x/+BcX+FZf25mn/QH/AOTUv8zr/wBW8k/6GK/8Ar//ACJzR/Yp+Oo6/tXeLv8AwlrH/wCKpD+xH8dOv/DV3i0n/sVbH/4qul/4YV8V/wDRw/xj/wDAqL/Cj/hhfxZ/0cP8Y/8AwLi/wqXnmZ2/3P8A8mpf5jXDWS/9DFf+AV//AJE5hv2J/jr/ANHW+Lf/AAlrH/4qhf2JfjmP+brfFg/7lax/+Krpm/YZ8Vn/AJuH+Mf/AIFxf4Un/DDPiv8A6OG+Mf8A4Fxf4UlneZ/9Af8A5NS/zL/1byX/AKGK/wDAa/8A8ic037FHx0VsD9q7xaff/hFrH/4ql/4Yp+OmP+TrvF3yj/oVLH/4quk/4YZ8V/8ARw3xj/8AAuL/AApP+GGfFf8A0cR8Yv8AwKi/wo/tzNP+gP8A8mpf5i/1ayX/AKGK/wDAa/8Akc3/AMMU/HT/AKOu8Wf+EpY//FUp/Yn+On/R13iz/wAJSx/+Krpf+GGPFX/RxHxj/wDAqL/Ck/4YX8Vf9HD/ABj/APAuL/Cp/tzNP+gP/wAmpf5lLhrJf+hgv/Aa/wD8ic1/wxR8dP8Ao6zxZ/4Slj/8VR/wxR8dP+jrPFn/AISlj/8AFV0n/DDPiv8A6OH+Mn/gTF/hQ37DPisf83D/ABj/APAuL/Cj+3M0/wCgP/yal/mV/q3kv/QwX/gNf/5E5v8A4Ym+On/R13iz/wAJSx/+Kob9if46bf8Ak67xZ/4Stl/8VXRr+w34rb/m4b4x/wDgXF/hS/8ADC/ir/o4j4xf+BcX+FT/AG5mn/QH+NIa4ayX/oYL/wABr/5HNt+xP8cx/wA3XeLP/CUsf/iqT/hif45Z/wCTrfFn/hKWP/xVdK37DPis/wDNw/xi/wDAuL/Cm/8ADDPiv/o4f4xf+BMX+FH9u5p/0B/jSH/q1kv/AEMF/wCA1/8AI5n/AIYo+Oa9P2q/Fn/hLWX/AMVR/wAMUfHRuv7Vfiz/AMJax/8Aiq6f/hhnxV/0cN8Y/wDwLi/wpf8AhhjxV/0cN8Y//AmL/Cp/tzNP+gP8aRX+rOS/9DBf+A1/8jmF/Yp+Ocf/ADdZ4sH08LWP/wAVT4/2MfjsM7P2rfF3/hKWP/xVdF/wwx4o/wCjhvjF/wCBUX+FO/4Yb8Vf9HD/ABj/APAqL/Cj+3M0/wCgP8aQ/wDVnJf+hgv/AAGv/kc8v7Ffx28zef2r/F+/1/4RSx/+Kp//AAxf8dv+jsvGH/hKWP8A8VW9/wAMN+K/+jh/jF/4FRf4Uf8ADDfiv/o4f4xf+BUX+FT/AG5mf/QH+NIa4ZyX/oYL/wABr/5GD/wxf8dv+jsvGH/hKWP/AMVSP+xj8dv+jsPGH/hKWP8A8VW//wAMN+K/+jh/jF/4FRf4U1/2HfFRP/Jw3xj/APAuL/Cj+3M0/wCgP8aRf+rOS/8AQev/AAGv/kYP/DGPx2/6Ow8Yf+EpY/8AxVH/AAxj8dv+jsPGH/hKWP8A8VW5/wAMOeKv+jhvjF/4Fxf4Uf8ADDnir/o4b4xf+BcX+FL+3Mz/AOgP8aQ/9Wcl/wChh/5LX/yMX/hjL47f9HY+MP8AwlLH/wCKo/4Yy+O3/R2PjD/wlLH/AOKrc/4Yd8Wf9HDfGP8A8Cov8KP+GHfFn/Rw3xj/APAqL/Ck89zP/oE/GkV/q1kv/Qf/AOS1/wDIwD+xj8dv+jsPGH/hKWP/AMVS/wDDGPx2/wCjsPGH/hKWP/xVbv8AwxB4q/6OG+MP/gVF/hR/wxB4q/6OG+MP/gVF/hU/29mn/QJ+NIpcM5L/ANB//ktf/Iwf+GMvjt/0df4w/wDCVsf/AIqj/hjL47f9HX+MP/CVsf8A4qt7/hiDxV/0cN8Yf/AqL/Cj/hiDxV/0cN8Yf/AqL/Cl/bmaf9An40g/1ZyX/oP/AAr/AORg/wDDGXx2/wCjr/GH/hK2P/xVJ/wxh8dv+jrvF3/hKWP/AMVW/wD8MQeKv+jhvjD/AOBUX+FJ/wAMQ+Kv+jhPjD/4Fxf4Uv7czT/oE/GkNcM5L/0H/hX/AMjB/wCGMPjt/wBHXeLv/CUsf/iqP+GMPjt/0dd4u/8ACUsf/iq3v+GIfFX/AEcJ8Yf/AALi/wAKP+GIfFX/AEcJ8Yf/AALi/wAKX9vZp/0CfjSL/wBWcl/6D/wr/wCRg/8ADGHx2/6Ou8Xf+EpY/wDxVJ/wxl8dv+jr/F3/AIStj/8AFVv/APDEPir/AKOE+MP/AIFxf4Un/DD3ir/o4b4xf+BcX+FL+3s0/wCgT8aQf6s5L/0H/hX/AMjBb9jH46/9HX+Lv/CUsf8A4qk/4Yy+Ov8A0dd4u/8ACUsf/iq33/Yf8V/9HC/GL/wLi/wpP+GIfFn/AEcL8Yf/AAKi/wAKP7ezP/oEX30v8y/9Wcl/6D/wr/5HM6b/AME+fH2tfFvwH4m8b/HvXvHVv4B1qPW7LTrvw9bW6PKowQJI3BXK8ZIP0r6qr45/aA+FfjT9mebwFrFt8afiZ4hXVvGWm6Rc2eo3iiCSGWQl8hcE5CbcHjDGvsidQszgcAMcD8aMLnFbG1J0a9NwlTtp7trSu1bl0Ix3D+Hy+jTr4WqqkavNr797xsnfn16obTZKdTZK7Dzxfm9q1/AX/I2Wv1b/ANBasj5vatfwF/yNlr9W/wDQWoW6IxH8OXoz8Vtc/wCQ9f8A/X3N/wChtVarOuf8h6//AOvub/0NqrV+aS3P7Np/CgooopFBRRRQAUUUUAFbfw68OaT4s8W29hrXiK38K6bKrmTUrizlu44SFJCmOIbzuI28dO9YlFVGSTu1f7/0szOpGUoOMZOL7q115q6a+9NeRtfEDQdM8JeMLmy0PxBB4m0+32mHVLe2ltEuCVBOEkG9cEleeu3I4r7C0z4e6X8YLL9kXw54gnmXR9U0vUftSCdozc7NkixFgQfnZQvBzzxXxHWxqXxF8Qatp+i2t1repzW/htSukxtcNjTQWUnycEFPmUH5e612YXFQpX543TadumjvY8HOMmr4uNJU6vLKCn7zXvXlTlBSVkldOSlpZaaI+ov2p1+G+raBb2el+FbrTPEmk+LLezM1v4Om0KxW3aQq9tOWkdJpCFJDnDNt9M12Xxh8A+B9f8bftA+BbP4feEdEtPAnh8a5pupWNoU1Bbry0kJMmcCM7gojUBQF9zXyD43+P3jn4lWtnD4i8YeItah0+Zbi3jvb55UglHRwCcbh2PUVXuPjP4uu9a1zUZfE2syX3ia3+x6vcNckyanDgL5cp6su0AYPatpY6Ek/d3v0X8tl362e/nueHS4VxcadNe2d4Xa96T1c6crqyjdWjJWa0cuurPWP+Cf/AIC0P4t+I/GHhvxVpOnv4bvNCkubvXpljSfwy0Z/d3EczD5Ms20rn5uM8A19AWvwO8D+G/iX8YNR1bwZptjD8NbXTtO0SxXQv7YRrWRSTqUtpGyG6eTkl2b5Apzypr4V0vxvrOh+GdU0Wy1S+tNJ1wRjUbOKUrDehDlBIB98AnIBrctv2hvHth4htNWh8ZeJYdUsbJdNt7tL51mitVJIgBzkoCSQpzToY6lCnGMo3a62737W2vpr1d7aW2zbhvH4rFVK9CvyRkklFOWlnBt9Veai4PR2i09W5J9X+2b/AMIZdfFCwvPBOjahoVhqOlRXF3b3OlSaXFJcl5A0sFvISUicKCACVByBXkla3i7xrr3xQ8R/2hrmqap4g1a4CxefdytczyADAUHrgdgKy5I2hkZHVkdSQVYYII4IIPQ151aSnNzXVs+qy3Cyw2Fp4ecnJxSV27v77Jv1svQbRRRWZ3BRRRQAUUUUAFFFFABRRRQB6N+x5/ydn8M/+xlsf/R61+rHij/kZdQ/6+ZP5mvyn/Y8/wCTs/hn/wBjLY/+j1r9WPFH/Iy6h/18yfzNfSZP/Al/i/Q/EvEz/kZ0f+vb/wDSmUPm9qYetP8Am9qYetejLc+AOgooor7Y/Mwr52/ZI/5Ov/aV/wCxk07/ANJHr6Jr52/ZI/5Ov/aV/wCxk07/ANJHrwM2/wB+wX+OX/pqofVZD/yLMy/69Q/9P0T6Hjpfm9qSOl+b2r3D5noHze1Hze1Hze1Hze1KWxURJKbTpKbUFhRRRQUFB6UUHpUyGJ83tR83tR83tR83tTlsVESOnUifdpagobJTadJTaQBRRRSkVEKKKKzkUJ83tS0nze1LTlsWFMf71Ppj/eqC4iUUUU5blBRRRUSAafv06mn79OokaBRRRUgFN/5aU6m/8tKCojaKKKiW5QUUUUgFf71JSv8AepKDQ+d/+Ci//IpfDD/so2jf+hSV9FXX/Hy/+8f5186/8FF/+RS+GH/ZRtG/9Ckr6Kuv+Pl/94/zrwcB/wAjLFelP/0ln0uY/wDInwfrV/OI2myU6myV7R88L83tWv4C/wCRstfq3/oLVkfN7Vr+Av8AkbLX6t/6C1C3RGI/hy9Gfitrn/Iev/8Ar7m/9Daq1Wdc/wCQ9f8A/X3N/wChtVavzSW5/ZtP4UFFFFIoKKKKACiiigApGYLyTgUtbXw68e3Hw08V2+sWdlo2oXFurosGq2KXtq4YEEtE/DEA5BPQ81UbN2lojOrKSg3BXfRXtf562+4p+FNLj17xVpVjIzLFf3sNs7JjcFeRVJGeMgHivoz9tz9hzSPglrfh1fh/dazrVnq2qSeHriK+dZZrfURsaNMoijEiOCAR/D714ff/ABKbxf8AF2x8SanaaTpuL61nni0qwW0tYkiZMlIUG0HauTjqeepr628O/t9/D7T/AI5fFTU9U+0av4fvtQtfE3hQvZyr/wATS3tVhA24zHkgfM4A+XNelhIYeVNwqtJ3362Wv4q6XnY+Nz7E5tRxNHE4OEpKMJOUFqpSbjFK9t1zOS20i3Y4X9p79hvQvhLbfD+38EXWoeJNe13WbjRL2HUrmJLOe5tgPNVSAnlx7xIrbn6d81xv7Qf7LGqW3jbQtQ8M+HbDTPD/AIyvYNKsY7PXYNUsrfUWCq8AuEdiqFvmXzDkDOeldL4d/aT8AeIPhz8G9N8dR3XiFfD/AIh1TVPFFmbZ2VxdPI8b5OFlHmOrlVJyFYH0rrfjH+2D4Atvhv4W03w7f2OrXnhvx7a+JWg0vwr/AMI/ayWqBiVWPJVnUYQs5DMe20V1VKWEneTairxdk1ppG/n1l31Wu2vj4bFZ7hqlKi4TqSTqJylGVmuefK7pqP2YNcyXuy91tN2+dr79mjxdpy+PGlsrUD4auia8Rdofs7MxQBOfn+YH7tUfhD8CvEnxuvNQj0G3s/I0e3F1f3l9eRWdpZRk4VnlkIC5bgDvX0V8Uf2gvhQfCXxzk8P+KNe1bWvi0kN3Bbz6K9rBYusoY2+8kln+ZyWwEwoAJNeW/sZ/FPSfhh4i1x9Y8ZN4VstRghgntbjw5/bmn61CGYyQzwggqQCCrD+8+fQ8f1egq0ablo076re8ra7dE313se9RzfM6mX18R7LlnFx5U4TV/dpuXupOTtJzSsuivdJs9H/Yp+EGpfDfx5rkureHrO41fS9Sj03TtRtPFVjY3C3OzMlvAZWIkSaKaPMkQ8xdw2OrE48lsP2XvG3xN+I/jS3sdAt9BXw1eyHVRqWopb2mjl5Dshe4mbDsc4B3EsPm717p4E/aL+APh7W/EWpaPo9h4TuT4lTULWS/8JjWpLnT0RP3NspcLaOZVdwT93cOv8OX41/aS+GvxnuPjJ4W1jxBqnh/Q/G3iO21/Sddi0mS7BMUUaGKa3G2QA+X8v5nGBnqnSoSpwjzLS+l0r7dbK3z7W63fhUMwzWOMrYhUJLmUE24TdrOKdoqbUrKUpKMHe6fW6Pl3xn4Rv8AwB4s1DRNUjji1DS5mt51ilWZNw7q6khgQcgg8is2tPxnDotv4rvo/D0moXGiRylbKW+jWO4ljAADOq/KpJycDoOKzK8WWj0P0ehJunFy3sulunbW3pd27sKKKKk2CiiigAooooAKKKKAPRv2PP8Ak7P4Z/8AYy2P/o9a/VjxR/yMuof9fMn8zX5T/sef8nZ/DP8A7GWx/wDR61+rHij/AJGXUP8Ar5k/ma+kyf8AgS/xfofiXiZ/yM6P/Xt/+lMofN7Uw9af83tTD1r0ZbnwB0FFFFfbH5mFfO37JH/J1/7Sv/Yyad/6SPX0TXzt+yR/ydf+0r/2Mmnf+kj14Gbf79gv8cv/AE1UPqsh/wCRZmX/AF6h/wCn6J9Dx0vze1JHS/N7V7h8z0D5vaj5vahQW/h3Uy6uI7KPfPJHAn96Rwg/M1MpJK72Kjq7IdJTaxdU+JnhzR4TJda/o8Kr1zeIT+QJNcX4o/a88FeG4yVvpL9uwt4+D9Ccfyr5vNOLsly5XxuKpw8nJc3yirt/JM9fB5LmGKdsPRlL0i/z2PTqVY2kbCqzH0AzXyR8Qv8Agq94a8O6qdN062tZtUfiO0ErXd456DFvCGkPP+zXiXiTVPi5+0FrV3ejQvilcwTneE1jxG/hvToVPQJbROkhXHrET6nNeNh+PsNjP+RThq+JX80KbjH/AMCqOCO3FcPzwavmNelR8pzXN/4DHml+B+kOoX0Gkxlrue3tFHUzSLGPzJFcxqnx08C6HkXvjjwZaEcETa5axlfwLg18KeD/APgnt4g8aXkDazd/DrSVuOSYtLn124HGeZLl0BP/AAGvYrH/AIJE+E20P7RJ4r1S7k27tttoGk2qcdQB9ncjHua9WOOz6dv9gUP8dZJ/+SQqL8TyfrGTa8uKc7fyU5P7udwPf9L/AGivh3rV0ILP4geBrqcnAji1+0ZyRxgASZNdfazR6hbia3kjuIT0kicOn5gkV8o3n/BHP4Y+LtDMi3+oSXBUg/atI0qddw9R9lU/rXDW/wDwR5vfC/mXnw78dSeHNTt2OBZT3mhSA9vmtZWiP/AoCPauj65mtNXrYS6/6d1Iyf8A5Oqf5hGtlk2lTxFr7c8Gl/5K5n3Un3aWvnfQv2k/Fn7OPhvTdL+LXg7xHDb2MCWx8V20y6na3jKMebPLGAFZurF1j9lr2j4b/FDQfi5ov2/w9qdrqcAALeTICyAjIyOorXCZ1ha9T2F3Cp/JNOMvkn8S848y8zWthKlOHtdJQ/mi+aPzavZ+Ts/I3pKbTpKbXqHMFFFFKRUQooorORQnze1LSfN7UtOWxYUx/vU4+/TvWJ4RuvEs2sagNdsvD9rZpKBp76feTTyypubmYSRIqNjZwhYZzz65OaUlHXXy/PsbU6bcZSVtPNXfoupcj8RabNb28yajp7w3cvkQSLcoUnkyRsRgcM2QRtHPymjT/Emm6tO8NpqOn3U0TMjxw3KSOjIQHUgEkFSw3A9NwzXxV8LfDPjGz+EfwbFzb6edAtfiY88VpHplwmp27fa7w+ZI5cxiM5JB2L95OfXF8C+OPEega18Qta8P6bfaPqF14J1W7GdOU6hp19DdL5UTMtnCqSkMWMUbSqRgk5r4n/XFpU5VaLXMk+71ipO3Td2V7PrbRo/RZcAxk6saNdS5G1fpdTlFX+UbvdX0vqmffdFfHvxB+MHxE+F9v4i0yPxB4r1cXUXhee0nlt0+2+dfM4vLe2dICEJVMKFjkaM/wmuw8JfELWpf2HfFOrzeNPEl74stLm8iS4hiafUdLvFmAt9PMbwRszjMUbho1zvduAePQp8UUKlSVLkknGMpO9vstprfVu110tq7Hk1uDcRTpQre0i4znCCtzP40mm/d0SvZ9b6K59IH79Or4u1T43fFe48F6MusapqXhvUrjxDqVp4rmMMltb6BLHEptLaGSO3uGW2cZcSBGDtlSy17l8CPE2u6l4y0O18Q+JdW1PVX8Gw3V3bRaM9rpNxKbhl+2LLIiOs7KADEyr8vzY7Vrg+IqOKq+yhCS23st0nte/WzVt01uicw4Tr4Oh7epUjJa/DzPZtPVRtbS6baTi4y2Z6xZ6lbahJOtvc21w1tIYZlilVzA4AJVgCdrAEHB5qevlHwz8WI/hLb/tCWsMet/wDCUXPii+1LTLKws3F3dxi3gBmhdoniwNrnJDcIcKTisXwL8WfiN4o0WPTV8S+IDBN8QtM0qLVbeNp5TptxaM04Wae2jMkYccSPCNp7kYrk/wBaqMeWEoNyfNpGztZyVndrV8vyur6M6/8AUrEyUqkZpQXLrK6upRi7qyd0nK11vZ9U0fYV9fQ6bYzXNzLHBb2sbSyyyEKkaqCSxJ4AAGSaj0fWLTxFpNtf2Fzb3tjexLPb3EDh4p42GQykZDKQcgivj6Pxh8RV8PWQ1DxF4s1q21TVPFXhq7s720jMT2Vtazm2mbZEreaWUfvS2G3YArI+GPxK+I3hD4PtZeDL7xZra6P8PbKW+g1HSSD4e1ITxxmK1QxIXYWplcR/PnYjZOaw/wBbqaqa0pctm+nNeykrK+uj6aprWyTOpcC1fZtxrwcuZLqo25pQd246ax66NNJXbR9vUV8h658SvHeoWWr2Xg/xj4z1DwxceKNB07SvEt5p6tfKtwHF8g3QoJIozsO5kwrcZ4qTwf8AFDxZL+1ZFoOq+OPFEXhzR/E0mhJd3I2WmumK0Xy7M+XbGL7TJNvkZvPG4fKEU4rV8VUOeMfZy96Sin7trttb31Wl77NNW1djD/UnEck5+1j7sXJq0uayjGVmuXR+8lyvVNO+iufUlj460TVPCb6/bavps+hxxSTPqEdwrWyIhYSMZAdoClTuOeNpq9pOqW2vabbXtjcQ3lnexLNbzwuHjnRgCrKRkMCCCCK+J/g/e+NPhr8H/DFpZah4iksNf8J+Kp7jTLmyV7fT7i3Z3tmjTygyuWY8OW37ula2rfEb4lWnhXXdUs9f8UWT+FPDfhW/sLCCyjFteXFwEF2siGIs6kZ3IhXaeeMVzUeLE6cZ1KUr8qbSS35PaOzvtbZPW+h11+B2qsqdGtG3M0m29V7T2STSjvzb9Lan1z4f8VaX4utZ59J1Kx1KG1uJLOaS1nEqxTRtiSMkEgOp4YHkVfry39kvWNV1rwT4mk1cTCePxdq0MAkt1gPkLPiPACruG3oxBJ9TXqVfTYHEOvh4VmviV/61Z8lmWFWGxM6Cd+V23v8AjZfkfO//AAUX/wCRS+GH/ZRtG/8AQpK+irr/AI+X/wB4/wA6+df+Ci//ACKXww/7KNo3/oUlfRV1/wAfL/7x/nXmYD/kZYr0p/8ApLPXzH/kT4P1q/nEbTZKdTZK9o+eF+b2rX8Bf8jZa/Vv/QWrI+b2rX8Bf8jZa/Vv/QWoW6IxH8OXoz8Vtc/5D1//ANfc3/obVWqzrn/Iev8A/r7m/wDQ2qtX5pLc/s2n8KCiiikUFFFFABRRRQAUUVufDf4dar8V/FtvoeiR2suo3Su8a3N3FaRkIpY5eRlUcDjJ57VUYuT5Y7mdWrCnB1KjSitW3sl3Zh07y28zaVcN/dwc/lXXf8K+1L4YfHHSNB1qO1j1Cz1Sx85Le7iu4sPJGww8ZZG+VhnB46Gvvz4iaRZ/HL9svQfEWn2sMfiD4U+M4tD1uOIfNPps8fmWtyR/syO8ZP8AtfSu7C4B1lvZ8yVreaTe/S+3a7ufMZ1xRDASg1DnhKEp8ylppblWz0m2op30bWjufmn+ntRX2Z8HP2L/AAv8X5tU8S61pfijX49X8cappl9JpmoQWFt4atopnJuZzIN0gbOTt6D36+T+NPgj4Lk/Z0+JXjjQBqa/8I34ui0TSDLfrPFJakKC7YRfMLHLA8cMPSs5YGooKbtqr/LTy/vLb80a4fivB1a7w8VK6lGLdlZSk+VLe61T3SuldXTV/C6taDoN94q1q103TbO61HUL6QQ29rbRNLNO56KqgEsT6Cvqrx5+xN4Lh8Q+PPC2g/243inR/Btn4p0RJbwSLeNgtdQsmwFyRjaAeN1dN8L/ANj7Q/hx8Urn7J4k1HQb/wAF+Cbe/wDE851SGwL31+jD7OlxKjC1iCA7nwW+cAYzW0crq8/LLZPW3lzX+7lf6XucVbjbAKg6lO/Na6TXdRcW7X0bnGP+K60tc+L9d0G+8L6zdabqdnc6fqFjI0NzbXMbRTQOOqspAKkehqrX2hr37NngX40ftKwxah42vPEtjceCLnUrw6frNrql5o9xZiNEja4jRVnXy2yvmKGbbycV4v8AH34PeC9P+AXgf4ieB4fEGn6d4mvbvTbiw1i6juZUeBjiQOiqPmAOVxx2rOtgJ01Kell99r8t/va2b3OzL+KMPiJ0qMotTna+nuqTjKVruz15JW0tpvqm/Lf+EA15tF03Ul0TVJNP1qZ7fT7hbR2jv5UOHSIgHzGBHIXJFO8L/DnxB441C9s9F0LVtWu9Oha4u4LS0eWS2jQ4ZpFAJQA8HPevrf4J6ZJrnwQ/ZdsYb6+0uS78ZavCLqykWO4hBMoJQkEA445Brb+BPwfh8HaF4r8Xap47v9Lj1zx5d2cav4mtdDeX7Fcyf6TLPLGxuJQ4ZhCAEP3iOeOqOV3kknpa72092D/OSX9XXlYrjJ0Y1LxXMpOMVrrapUhrp/LTct99Ox8KKwZQQcg9DS19C/F/9nLwn4f+DXxY8Wab4gfxPeeGvFltYabqltcRG0vILhY5WLLGNjODIVJQhcrwB0rk/wBs34J6L8BPixp+iaCb1rO50Ky1JzdSiV/NmVi+CAMLkcDFcFTC1KceeXl+KbX5M+iwWfYXFVI0qV7y5t1b4VBvfXacbaX3ulY8mooormPaCiiigAooooA9G/Y8/wCTs/hn/wBjLY/+j1r9WPFH/Iy6h/18yfzNflP+x5/ydn8M/wDsZbH/ANHrX6seKP8AkZdQ/wCvmT+Zr6TJ/wCBL/F+h+JeJn/Izo/9e3/6Uyh83tTD1p/ze1MPWvRlufAHQUUUV9sfmYV87fskf8nX/tK/9jJp3/pI9fRNfO37JH/J1/7Sv/Yyad/6SPXgZt/v2C/xy/8ATVQ+qyH/AJFmZf8AXqH/AKfom1/wUA/ayu/2L/2e5fGVjo1nrVy2oQaci3lw0NrbGXefNk2gu6jZgKgySw6DJr4U1T/guh8QPE2saRp76V4d8M2niBjDp2paQj363Eo4Kssw3xnPfaR6mvQf+C1GtXnxY+KnhH4Yya29h4Z07Tk8UX9lbQBbm9uGmlghzKcgRKqyEqFzuYHPTHy+dH0H4YaTLfrbW1sIIzunkO6UqBkgyNkgYGTzgV+WeJHH0MFiJ5VQlPn5V8DcHGTV0+fd6NOyTT2dnt+reG/A2Fx2VwzCtSTqObs5WlBwVk1ydXdSV24tOzTa0fr/AIk/az+JGub5L/x14gVe+y7Nug/BNoFcJrnxYufEdw0mo+I77UJj1a4vZJSfxJIr4A+Jv7U/jj9rLxfd6b4GvpvD/hO1ZkOpxYW4vVU4LozcRRZ6Njc36VjWH7K5m0GXWv8AhPdZaWEkveLql2x3AgE7w4yAT1C4r5DA+FmeZnh1XzPFOLlryycpv/t670f3vurnvZh4ocOZViXh8vw3tOXRygowj58rs3Jedkn0bWp+r/hv4a6BZaG+ra1retz2DIkkV1pcha1CsqkqSgZg4ckYbGeMVoeE/FHgKw0OH7dd6s92CwJ3z7nUMQjMAdoYrgkDvX5aeGv2pfH37KqW0fiC4k8VeEpmUvqEUha6SEH7xK4W4C9SGUOP7xr7Y8BeOLH4h+FbPV9OmjubW8iWVJIzuR1ZQQwPoQcivynirw/zLJKnLjpNxk/dlF+67dNtH3TsfYcOZ5l/EVCVbC1pXi1zRdoyjppdK6afdNpvez0PeZLr4TXV1JcJG1lfSj5r2K2aK59eZAN35ms6417w7DdbtD/aE8XeFp/uqG1WCZE9ilxGwx9a8e8XXVva+G7sXQZ4Zo2hZAcFwwwQD64NfKHjfwPP4J1gwSr5ttNl7a4A+W4Tsc+o6MOxr63wyyPFY2tOlhs0q4ecbOMU78y62u7XWl1bZ3Ph/E7LcNl+HhiquC9vTk2nKTXuvpf3W9b6O61Vj9M/gL8dfFGm6dcvcfHTw14glh1CZbT7bYaej+UjsgMgjdCS23dkY4avffBP7Ynj7S49iQfDvxNCTkfZ7ie0c+uMNKvP0r+ev4naGLHxQ8/lrsu1EinHcDBFYtrqFxp7boLm5tyO8crIf0Ir9vfDHFsJudHPJO/SdCnJfmvwPxD69kLf/ItjFf3ZyX5Wv8z+lDQP21tY0XUpH1D4a6otvNy403WILkA+qiQRGtFf27fC9nrSXU3hzx9pwk4nR9GE6gdzmF3/AJV/OR4X+Pnj7w3Mq6P408XWzj7qW+qzn8gGP8q9m+Hf7W37UChP7I17xpqUQxgXlgtxGR7mVD/6FRXxHG2AjzVMXhKi71Izp3/8Bk1+AUMsyHGPko4eunfam1Oz+cbn7a/tPftceBfjR+zd478H6J4t17wtrfijQ7rTbLUZ/D2oxi0lkjIDErFuA5wdvOG4r8vv2K/2X/EX7KXxji1Wf41/8I/Yw2EjvJpWkahc200wB8uJo5BFIQDglkTPYUngX9sj9qqGFft2geDdQTudQgjt5D+Mcg/9Brpbz9qr4neI7y2m8VfCTRNSktAQj6drcYwCQThJBg89ia+DzrjziCrFYetDCTSevLXi1JLpacotX6NNSTSaZ9/kPA+CpTdWUMTBNNJunK8X0a5YNO3VSTTTd0fWHw7/AOClHxEh8XXWhyaSnjK50qJZZGlsrrT0vYieGiuHiUqxxwJYvbea+i/hj+3X4Z8eaT5usaB4u8EXiD57bV7JZRnvslt2dXHoeK/Nvxl+34NK0xdT8Q+GvGnhO60hGlg1FtMju4LYAZKySQsf3JAwwYYxzwQDXzX8Vv8AgsR8Uvj/AKk1h8J9Mh0/S0XD6texMVnPdooQVOzPR5WGf7tZ8PcV8e4qp7DA4anKn3qSc1DyVVSTmuybnJd7G2bcM8N4Smq+LruEvtRiuWUn39m4WXqlCPR9G/3js/2qPh/eSbR4ktoucfvYpI/1Kiur8O/EDQfF2P7L1nS9QJ6LBcq7fkDn9K/m7i/ac/ac8BzDUrrVND8RIR5rW0+nhdyjk4aGTcPrg19KfsTf8FI9H/aT1iTw7rFnJ4V8cWMfmvYyyhhcIODLDIAPMTPXgMvcd6+qzfi3jDJaP1vMcHSq0l8TpSkrevNzO3ny28zzct4f4bzap9Xy/FThUe0akVr6Wsm/Lmv5H7jspTrSV8P/ALLXx68Rab+0VDoHij4lXmi+F9b04R6DHf28FxYf2hEXaaGeSQeapki2tHtkUfupBycV9bWnxr8J3MqpD4q8K6pHwputL1WG6gDHj5grs0eT03cf7VffcP8AEmGzbK6Waw92E97u/K07NN7K3nb8UfGZtldTA5hPLp6yjtpbmTV00ut/v+5nU/N7UtNVgyggqQwyCOQQehFOr6N7HnhTfvNxSn36d6xPCKeJl1bUDrz+HWs/NH9njTVnWUJub/XGQlS23Z9zjOfasua0lGz1+5eptCF4yldafe/Qk0X4jaD4m0m+1HTte0nULHTmeK9ube9jlitmQZdZHUlVKjkhjwKr2/xc8O6h/YXkeIdNuU8SO6aPJDciWLUGjUllikUlWYKpOAc/KcdDXxX8H/gz4x0HQ9E8L2miaraaF8Yria28Su9s8X9lCz1GeSSSQEfL9otGEalsbuMZqDxMvjnwl+zr4R0fRtD8XaVeaVYapqmnvbWl4VS/XUZfJiWCCI4mEZ3hpyI9jfKCTXwq4vxKpe0qUGvcu93rzQfKtt4TTu9pO2tmfpMuBMJKu6NLEKV58q2Xu8s1zS32qQaaS1grrRo+3viB8OdE+KmgrpfiHTo9UsY51uokd3RoJkOVkjdCrI47MrA1W8P+H/C/wF8Eyx2Sab4Z0GyZrieWSfy4kZ2+aSWWQkszMeWdiT6186fFL4jfEPSda8WaZBH45Ooarq3hq80d7KyuHtYLIpAL4CRFKRL5gkEiEg/N0xkj2HwX4Pt/ix8FfF3h7VrjxZfWWt3+radI3iO3WK5SN5XQCMDg26ZHlN3VQa9jD5lSxGIn7Glaqk1dpJ6SaSb3s7J+jXc8HFZTWwmEpvEV26MpRfLFtrWMZOSXw3SbjtvFrodr4q+JmieA7cT6vrdjpqC2luk82cB3hiUNJIqjLMiKQzFQQBya07TUItUsYbm3nS4trlFmiljfckqsAQykcEEHINfE/hf/AIWBrHgLU/E+ueH/ABPHrPgXRLHwFarHHPBPLm5Av9QQojSvCY1iDGJd7LvCkHmtz4RQ/EDxFpfgHw/d6h440vRP+Es1nT7iezjurCT+yktA9qC8iCWOLfxG0mG7A5rho8UznUinSdpJcqs09ZKGt9LXvstEr9T1MRwXTp0pSVeN4NqTumnaDn7ttfhstXq210bPsL7RJtC732joMnFDXEjclnORg5J6GvgTxh8YviRN4R8N6fq2v+ONIfSvC73ut6hAbm3n0gDU5IhfXSQIXlzbRbQsmxTu3qSc194aPNDcaPZyW0z3NtJBG0MzuXaVCoKsSeSSMEk816eT57DMJSjCLjyqL1tf3le1vK2vT53S8bPeG6mVwhKpNS5nJaXt7rSvfzvdLe2trWbtec+Pvt0A69h0pGmeRxl2O3pk9KKb/wAtK9vU+eiOa4dm3F3LEYzk5xXE2f7O/gjT/Hh8Tw+HLFNbN01+J98hRLllw04iLGJZSOrhQ3vXZUVz1sPSqtOrFStqrpOz7rs/M6qOKrUeZUZuPMrOzauuztuvLYk85txO985BJz6dKTzn3A73yCSDn160yitbnOLIxZhkscDAzSUr/epKRofO/wDwUX/5FL4Yf9lG0b/0KSvoq6/4+X/3j/OvnX/gov8A8il8MP8Aso2jf+hSV9FXX/Hy/wDvH+deDgP+RlivSn/6Sz6XMf8AkT4P1q/nEbTZKdTZK9o+eF+b2rX8Bf8AI2Wv1b/0FqyPm9q1/AX/ACNlr9W/9BahbojEfw5ejPxW1z/kPX//AF9zf+htVarOuf8AIev/APr7m/8AQ2qtX5pLc/s2n8KCiiikUFFFFABRRRQAU2SNZEwwVgeoPIp1FAE+i6g/h/VrO8t1jE1jPHcRBhldyMGGQMcZHNep+Ev22PHHgn9oTWviXp8ulRa/4hVkv4GtmNlcKVQBTHv3cFFYfNkH8RXktFa061SnZwbVtfnt+Rx4rL8NibrEQUk04u6vdNptel0n6q59kfA79pf4c6l8D/D+l+LtW8Kx39prd/quuWXiPwtPq/2hbqfzHSwaI7Ydy5B8zPzN6CvG7P8Aav8A+FU+LPHFj4D0XRH8A+JdSF5aaP4g05b6K28s5hlCMfldcAgEsB8oOcV43RXRUx9WSjayaVrre1ktfu6WPGw/CuCpVKspXnGo7uMrcqfNzXSSWqezbbW17H0T8Df2v7zxL+2x4X+Inj3XLPRE021+yX95a2TlbiFIJEEbRoGJaQsASAAOoAxXJn9sjxRonx98ZeNdLaxuY/GM00V9p2p2i3Vne2jNiOCWMkZCoEAwQe3QmvIqKj65VslfZt363e/9eb7nTHh3AKrKo6as4Rp8tlyqMW5JJW7tella1j1aw/bE8RaJ4+l8QaTofgnQ5X0W40FbLTNHW0s47ecgyMEVgxkJGdzMcemOK5XWvjPrGvfBnw/4DnWxGh+G7ye9tGSJhcGSbO/e+SGHPACiuTorOWIqNOLbt/wb/mrnZTynCU5KUKaummn6JpfO0pL5s9K8H/tX+KvBGh+A9Pso9JNv8O9Tn1bSfNtnZjNMWLiUhxuX5zgDb9a7P4B/tfLo0ninSvHcelap4V1ye716LT7vQY9Vgi1WRtwMcbsDGjFiD8xx7ZJrwKitIYytFp3v6+iX5JfcjnxWQ4GvCUJQS5tbpK9+ZyunZ2fM27+b7nqngj9sbxZ4Hl8UeXp3g+/sfF9xHe32mX2ixTafFPHjy5IYRhVKYGByPlGQTXOfHP466/8AtE+NYvEPiRrOTVI7KKxL20PkrIkYIDFckbjkk4wPQCuOorOVepKPJJu3b+vU6KOU4OlX+s0qaU7WulrayX5RS+SCiiisT0AooooAKKKKAPRv2PP+Ts/hn/2Mtj/6PWv1Y8Uf8jLqH/XzJ/M1+U/7Hn/J2fwz/wCxlsf/AEetfqx4o/5GXUP+vmT+Zr6TJ/4Ev8X6H4l4mf8AIzo/9e3/AOlMofN7Uw9af83tTD1r0ZbnwB0FFFFfbH5mFfO37JH/ACdf+0r/ANjJp3/pI9fRNfO37JH/ACdf+0r/ANjJp3/pI9eBm3+/YL/HL/01UPqsh/5FmZf9eof+n6J8Xf8ABbrXofDP7eHgKWFry1vL7wY1vJPjEMhW8do1B/vDL5H+0K/PX/go78U9S0L9nO5txeTfavEl7DoyvnlI5NzSYHbKIVP+9X70ft4fsD+H/wBuLwfp8N5fPofiPQi50zVEiEwRXwWikQkF4yQDwQVPI7g/ml+2R/wb1fGX4veBbfRbLWPDOsQ6ferfWt1aXflT71R1AaOYICCH7NmvjeIuBHjM/oZzTs1Fx54vf3dmvwTT6I+04X8Ro5fw1isiqxanKM/ZzXTn3i+q6tNX1ettD41+BPw90O1+FWl6WSwluF+1PAjhPPjRtiqcjDKMZIz1r1G309YbERqjrCkbIU2YbkjGAOK4fTfhT4k+B/xUb4d+OrF/D3jTwbK8N1ZXBGLy2kXzFaJgdrgnDKykgj6GuhvPiFpVnqTWUt4yXPmAMRG52ODgAADlR0J6V98fkpz/AMRPAuir4N1iwO6Ka9ge7htnIKh41yzBQMJkcNzzuqt/wTO+Jl1ofwr1zRW/0iDw3rM1jCjOeIGCypg84wWcD2qz8QND1HX/AB1Z6FoVu+seKvFoj0fRtKtRvmeSZgHYgdAeMHsOTwDXoHwJ/wCCaXxq/YwvPFPhvxn4L1LUde1bU11MSeHYX1WzMLxKEAmjXbuyHyp5Hevg/EfKauYZNKhQpupPmi0krvezf3Nn6d4R5xhsuz9VcbVVOlKElJydl0aXrdKx1/iTxRceJLhWl2pGn3I16DPf3NUlkt7i0azv7SHULCU5eCXoD/eUjlW9xXRR/AT4jySBV+GnxAJPQf2HP/8AE0+T9nv4lwqWb4ZfEDaO/wDYk5/kK/B6PBPEFJqdLDTi1s1o0+6ad0/Q/qCtx9whWpPD1cVTlBqzT1TXpY4rVP2a/AnjaxVo0v5JYJBKLR7vYzqPvIpwDkjpz1rp/Cf7L/w3sbOK4s/DNjdKwyHut07AjqCGJAIPBGKtf8KH+I3/AETf4gf+CGf/AOJqH/hU/wASdGZ57TwT8QLY53SodGuQkh9TheD7/nXpYvK+Nq8eSpKvb1l+Nn+Z8th6nh3SfNh6mHi/NR/Nr7jtdF8L6X4djCafpun2KjoLe3SP+QFaDOW6muE/s34iWar5vhbx0hIzh9Dnb/2Q1BJ4g8ZWK5m0LxRGMZzJoc449eUr5WpwLxDOTlUw1RvzjL/I9unxTw5BKFPHUUvKcUeg0V5lcfE7XbHiez1SHHXzNLdffuoqtJ8cL2E/vGeP/es2H8xWD4Fz5f8AMLP/AMBl/kaf61ZC/wDmPo/+DI/5nl//AAVQ+KFxoXwz8N+CLOZrd/HmoPDfFCVZ7KBQ8qAjs7Min2yKxfCfwjsNJ8K6fYpcILG3hU3NvEnySzEA/vCpyQBwFIxUn7Sv7M3xW/bz8f8AhG6+Fvha48bah4GiubrUtPspYILiO2laJd6JK6mQ5BGEyenrSfCnVP7Q/tDUWkW2eKNY7+3lBSazuogY5BIhAIGFzz3XFf0r4a5PPLsip061NwqScnJNWd7tK99fhSP5e8UM0jjs/qSo1FUpxUVFxalG3Km7NafE3fz0Oj8TeE4NehhVme2mt3b7LNDkSRAgAFcfTkHivnf9rmxm+CfiLwz8RNEuYxrvh+8S5klhAj8x0ZVlVgCcCRWwy59fWvonR/GOn+KJmtrHUI7mURnKK+WIH8XHTnr7V8m/ts67c3HgmDQLCCfUp2vCl3c20TSW63MzhinmY2g8BVBOT2r7qtRhVpypVFeMk013T3TPgKNadKpGrTdpRaafZrZn6ral4u0v4vfBuGw1CzW+ttWt4LiMyAMu07ZI2wf4hxXlGpftzH4H+On8PeMvC1jZBQGtNU02zXybmEnAbywAy46MFJwap/Dn4lahp/hHRdItNPuL+TT7GC0Ags5ZWJSNUPCg56VY+K37Ovjj9pjQ7G2Hwy8Z3jWs3mwz2+jXEboCMFQxX7p4yP8AZr+VuGOBcXPG/UcywdR4eTevvRcG/tp7bJKSaaatpdI/qjiriDLaWXvHZdjKP1iKT5VKM+ddYNK76txtazvqk2fpJ/wSf/aKvv2hvCPiGe11a31bwppPkwWjRkv9nnbczR5PzLhMEoem6vryvjX/AIIq/so+J/2U/wBn3xHaeJdGvPDja9q63lppt0486NFhCGWRckqztxg84QcV9lV/SvD+TxyrL4YCFSU1C6Tk7u120vktF5Lofzzm+avMsXLGunGm5WvGOiukk383r8wppXc2B1NKffp3rE8I2fiSz1bUG13UtEvbOSUGwSx0+W2kt03N8srNK4kOMDKqnOeOePWcmpJWevXTT11OGNNOLlzJW6a3fpp+dilpfxu8I6/oLapZeKNFvNN/tFdINzFdq8X2wsEFuSD/AKwswAX/AGq6j94uT8/PU818M+D/ANn3xp4D8I+BTYeGNWktfFfie0n8SWX2dhLpc9nqryQ3roeVjktWKM3+xGayvDvifxX8TNe8STJrXi3+2/EmneJo/CYg1S4MWuXEcziNgFn8qEwRLsj2xqrFs53AE/Ew4uxEFFYnDtSkk7K63ts2tX70Ul/M3G/NZP8AR6vAuFqSnLCYlOEW1d2b0utUmrL3Ztv+VKduW7X34rSbeN2K5v4kfFrw58I7GyuvE2r22kQahcLa27zBj5jkZ6KCQoAyzHCqOWIFfMvi7VvH3iC28d+LrS38c+HLXwroGg6zpkWr+dYxXs9kXe+hKMwGJEDowYfN8jEEbTXNa54V+JnxI8I+E9fvrvxRHovje01PXJvsFpeanLo9zdSKbSHyraaORY0tQgUEmHdv3Ic1tiuKKnK44ei3K11fa3PyXe2nXf4XzXsc2C4MouUZ4rERULpSS+K7p+0svi1tpon7y5bXPuBt/DAseOCOePY1zvjL4ueH/AGrQWOsaotneXVjdajFEY5JGkt7ZQ0zjap+4rA46nsDXzP488D/ABN+2eL9WhuviBdavor+F20RreSe3gu32xLqDi2jcxPkB/NX5lXn613v7W3hHxJq3xc0PVPD2n6tObDwd4lgS7sI2Jt7qWCMW6h15WRmX5cHJK8V1Vc9ruhOdOi04uKs1e6dRwei6rlb32adzko8N4ZYinTq11KMoyb5WlZqnGaV3fRuSjdpO6kraHTePP8AhUPxE8ceFG8S2fhnVvEHiG1WbRDfWbNNcQ/6yMElQFUnlVlxlshQTkV6t5e1MBcAAYAGAo7V8YX3hn4i33xg8MJrWqeJNHuJNO0F9DaPTri+a4aGJHvo5cTxxLIH8wym5RyFbcpBrrfCM3xCh+KPhPRbvS/HixaV491q81W/cSnT5dNmSY2i+cW2yR/Mm1eVQqAdpxXDg89l7Wbnh2nKSjdKzeqXvat31cle3uWavqz0cw4bi6MFTxV1GDlZybSVpS9y6iraKDtf95ddkfSXirxRpvgjw/d6trN/a6Xpenp5tzd3MgjigXIG5ieAMkVm+Afix4Y+K0F1L4Z8QaTrqWbKk/2O4WQwMRkBgPmXI6ZHPavGPil4P1jxZ/wTm13RtO0nxtdazd6ZIkOn66ftOtyN9qztk2/ebAyuP4cVy3xi0Px98SvFWu+Mvh5oPiTw9daZ4JXQvtF7ZnT7/WLhrmKRlhicq7GKFZQrtt+ZsKe9dWMzyvSnGUKTlHkjLlSbk7810tl7tlutb9HZHHgOG8NXpyjOsoyVScOZuKguXk5W1q/fcnZp6creqTa+nPE3jTTfB+oaRa6lc/Zp9dvBYWKeU7+fMVZguVBC/KpOWwPetTa3HDe1fKXgfwv4/wBJ/wCERa11Dx5qGlP41iuJ4bjTL2xaws/sMokUi7nlmkhMuw/vm2b/ALvFYFjo/wAV7f4O6/p2nweObhYtc017zWbyO/j1HV7Elzd7LKSYSpIhMYk+ySIsi/6vBFY/6yVVrKhLrZLXaKe6umn0eiS31sn0f6p0ZWjDEx3V29Pik47Ozi1peOrb1Xu3a+tdU8daTovjLSvD11epDrOtxTz2NqUYtcJCFMrAgFRtDDqR7Vq18y/B34e+K7H4v/Cy+1N/E2t2GmQ+IlbUNS0ye0ewhmEPkQyCaSSULkOEMrb2C89K+mq9fK8bVxMJzqw5bNJLycIy32erauu3e54GdZdRwc4Qoz57ptvzU5x2smtIp2et2+lhX+9SUr/epK9M8o+d/wDgov8A8il8MP8Aso2jf+hSV9FXX/Hy/wDvH+dfOv8AwUX/AORS+GH/AGUbRv8A0KSvoq6/4+X/AN4/zrwcB/yMsV6U/wD0ln0uY/8AInwfrV/OI2myU6myV7R88L83tWn4Lu4rLxNbyzSLHHHu3MxwB8rAc1mfN7Uyi9tQqR5ouPc+MdQ/4I8eIL3UbiYfEXweqzzPIAYJsgMxIHX3qP8A4c3+If8AopHg3/wHn/xr7Sp/ze1eTLJsJ/K/vZ9uvELP0re2X/gEP8j4q/4c3+If+ikeDf8AwHn/AMaT/hzd4h/6KR4M/wC/E/8AjX2nRR/Y+E/lf3speIWf/wDP5f8AgEP8j4s/4c3eIf8AopHgz/vxP/jR/wAObvEP/RSPBn/fif8Axr7TpD0al/Y+E/lf3sf/ABEDP/8An8v/AACH+R8Wf8Ob/EX/AEUjwb/34m/xo/4c3+Iv+ikeDf8AvxN/jX2n83tTKX9kYT+V/eyl4g5+/wDl8v8AwCH+R8X/APDm/wARf9FI8G/9+Jv8aP8Ahzf4i/6KR4N/78Tf419pqpZc449aPm9qn+ycJ/L+LH/xEDP/APn+v/AIf5HxZ/w5v8Rf9FI8G/8Afib/ABo/4c3+Iv8AopHg3/vxN/jX2n83tTKf9k4T+X8X/mNcf5+/+Xy/8Ah/kfF//Dm/xF/0Ujwb/wB+Jv8AGj/hzf4i/wCikeDf+/E3+NfaFFJ5ThF9n8WP/X7Pv+fy/wDAIf5Hxf8A8Ob/ABF/0Ujwb/34m/xo/wCHN/iL/opHg3/vxN/jX2hRU/2XhP5fxY/9fs+/5/r/AMAh/kfF/wDw5y8Qf9FI8G/9+Jv8aP8Ahzj4g/6KR4M/78T/AONfZ/ze1Hze1H9l4T+X8WV/r5n3/P8AX/gEP8j4w/4c4+IP+ikeDP8AvxP/AI0f8OcfEH/RSPBn/fif/GvtCk+b2pf2XhP5fxYf6+Z9/wA/1/4BD/5E+MP+HOPiD/opHgz/AL8T/wCNH/DnLxB/0UnwX/34n/xr7P8Am9qZS/szCfy/ixrjzPn/AMv1/wCAQ/yPjP8A4c4+IP8AopHgz/vxP/jR/wAOcfEH/RSPBn/fif8Axr7Moo/s3C/yfiylx1n3/P8AX/gEP8j4z/4c4+IP+ikeDP8AvxP/AI0f8OcfEH/RSPBn/fif/Gvsyij+zcL/ACfix/6859/z/X/gEP8AI+M/+HOniD/opPgv/vxN/jR/w5y8Qf8ARSfBf/fif/GvsqOnUf2bhf5PxYf68Z7/AM/1/wCAQ/yPlv4If8EstY+FXxm8KeJrn4geEbu38P6rb6hLBHFKskqxuGKgk4BIHGa+rvEMyXOv3skbK8ck7srDkEZJBFVPm9qPm9q2pUadKPJSVle+7fkeHmWaYzMKyr42fNJLlWiWl79Eg+b2ph60/wCb2ph605bnKdBRRRX2x+ZhXzt+yR/ydf8AtK/9jJp3/pI9fRNfO37JH/J1/wC0r/2Mmnf+kj14Gbf79gv8cv8A01UPqsh/5FmZf9eof+n6J9Dx0vze1UtY1pNGhBK+Y7/dQHGcdya5zWPHV/awCRIo0DHaABk/ma9tyS3Pm4xbWh47/wAFDP2DPhJ+2h4bs/8AhO7O+svE2mxlNI13RnWLVrRSc7QSCskW7nZICueVwa+ALr/ghX4xj1Yw2Pxqv/7E3YR7jQAb4R+hIm2lse+K/UNrOXVL43V0fOuJjyT/AAKOBge1O/4R9Gk3bW3fWspRTdyTw/8A4Jz/APBNX4Q/sd6lLrejf2v4n+I08TRz6/4h2teRIww620a/JEpHDFcuRwzY4r67WRlXG5gPY15jPpbQ3STRHy54CHR165FXLPWtS1ppZZ7h4nVtoWElFwB6ZqZSUI3Z0Uqbm+WJ6F5z/wB5vzo3t/eb/vquF333/P7df9/DRvvv+f26/wC/hrP61A6fqdTy+87vzn/vH86Gmkx99/zNcJ5l9/z+XX/fw01vtsi4F3dH1/eNUyxUB/U6nl953nnSf3pPzNI00jDlnP4muCFreN1ubs/9tG/xobT7g9Zrk/8AbQ/41LxlOxp9TqeX3nebiw55Hoap3Wi6fdZ86ysJfXzLdG/mDXGf2PLJ1eY/WQ01vD5bruP1ep+uQ8wWDn5fedZp/hLRNK1IXdnpej2t6FKia3tIo5dvcblAbB718Sf8FBP+CT/wt/aQ+IF54s8P6lrXgD4kXuWv7/QokktNRf8AvXUDFVMh/idGVj/Fk19SX323w7cR/YZfs7zgq74DHaMcAkHFR2uihd6kbi3LseSWPJya2hJTjdHPUp8r5JH5m+C/+CGOr3muInjj4vaxN4f3Dz4fD+jR211cL3UyO7KuR1O1q/S79mH9mf4Z/s6/A+28HeAdA0+08Lq/mzx3CC4lvZ+MzXLSAmSUkDlunG3AxU8egpC25Uwcdaytd8Pt9n3qzR/NllUkKSO+BRaxMIpbHrNhY2+mx7LSC2tk/uwRrGPyUAVYaZ2/iY/U159a6K/koyu6FlB4cjqPan3El5psYIvbgZOAPMJrlWIjKXLqdksNKMeZ2O6+b2paxvBmoT6hp8hmdpTG+A56kEdD9K2a6ZbGSCmP96n0x/vVBcRKwdA+Fvhjwj4gu9W0nw5oOmarfbvtN5aWEUM9xubJ3OqhmyeTk81vUVNSnCUlKSTa2029OxtCtUgnGEmk9HZ7+vcra3odl4m0e50/UrS2v7C9jMVxbXEayxToeqspGGB7gip7e3jtbeOKJEiiiUIiIAqooGAoA4AAGAKdRQ0k+a2vfqTzy5eW+m9vPv6jT9+nU0/fp1EiilfeHdP1LVrHULqws7i/0zzPsdzJErS2m9dsnlsRuTcow2DyOtXaKKhRSu0t/wDhvy0KlJtJN7beXXT5thTf+WlOpv8Ay0phEbRRRUS3KCiiikAr/epKV/vUlBofO/8AwUX/AORS+GH/AGUbRv8A0KSvoq6/4+X/AN4/zr51/wCCi/8AyKXww/7KNo3/AKFJX0Vdf8fL/wC8f514OA/5GWK9Kf8A6Sz6XMf+RPg/Wr+cRtNkp1Nkr2j54X5vamU/5vamUpbFhT/m9qZT/m9qUhjKKKKkqIUHpRQelIoQnBpAQjZUKf8AeG7+dKTg0jnNIZYGsXAXHmDHsi/4VHNOZT8238FA/lUNSE4qbscYpbITcBTWx2p24UjnNJbFobRRRRLYsKKKKgAJxSbhSk4pNwoLWwoOaCcUA5oJxU9RibhTWx2p24UjnNSOO42iiig0QUUUVLKGt8vSnU2SnUdBgTikznpSk4pM56VIB83tTD1p/wA3tTD1qJbmh0FFFFfbH5mFfO37JH/J1/7Sv/Yyad/6SPX0TXy3+zp8SvDfgH9rT9o1Ne8QaHocl14jsGgXUL+K1M4W1YEqHYbgCRnFfOZ1UhTxmClUaS55at2X8KZ9dw7RnVy7MoU4uTdKGiV3/HpH0Tr1mLrUIz8x2p07dazdW0gTWv3eVIbpWfc/tDfD1pg//CeeCTxgn+3rX/4umP8AtBfDxl58deCf/B5a/wDxdd1THYbm5vax+9f5nm08txqhy+xn/wCAy/yNK3sVVF+XkcZqb7Dx0rnv+F9fD6Fvl8d+CSvp/blr/wDF0q/tBfD7bj/hOfBf/g8tf/i6v+0ML/z9j96MP7Jxyf8ABn/4C/8AI3JrFfLJxyBgfjTNJ0nbG5x99iaxW+PXw+mwD478Egen9uWv/wAXUy/tAfDxFwPHfgkf9xy1/wDi6yqY/CtW9pH70dFHK8bF83sZ/wDgMv8AI3Tp+3tSf2eO/A9axH/aD+Hp/wCZ78E/+Dy1/wDi6hb4/fD9v+Z78E/+Dy1/+LrGOKwrf8SP3o3eDxy2oz/8Bf8AkdF5Ma9Bz64pyxx4wDiuaPx8+HzN/wAj14L/APB5a/8AxdNf49fD7/oevBf/AIPLX/4uh4jB/wDPyP3olYPH9aMv/AZf5HUrbbuhzR9i/wA4rlf+F8/D7/oevBf/AIPLX/4unL8fvAK/d8deDf8Awe2v/wAXU+3wi/5ex+9f5l/U8d/z5n/4C/8AI6r7HR9jrmU/aA8B/wDQ/eCfx120/wDi6cPj94AHX4geCfw1y1/+LrP6zhf+fsfvRaweN/58z/8AAX/kaut6T50UcmM+UefoabHajaDt+91PvWXJ8fPh6y/N4+8Ftnt/btr/APF1A/x0+H8P3PHngkr/ANhy1/8Ai62p5hhYq3tI/wDgS/zM6mV42Tv7Gf8A4C/8jdaz29s+mKrahpf2jbGF++eR9ayv+F+eAm/5nvwSPf8At21/+LqW2+O/w8hbcfHfgtm9f7ctf/i6qWY4W2lSP/gS/wAyY5TjL60pf+Av/I6U2KwwjJwFAAqu+hfapN8jfQD0rJj/AGhPh75wLeOvBZUdM65aYz/33Uv/AA0J8OsceOvA49hrdp/8XXPHFYZa+1jf1R0SwGNejoy/8Bf+R0mh2P8AZ8bqq7UbBA960K43/hon4e/9D34L/wDB5a//ABdH/DRfw9/6H7wX/wCDy1/+LraOOwqjb2sfvRm8txjd/Yy/8Bf+R2VMf71ch/w0X8Pf+h+8F/8Ag8tf/i6a/wC0V8Pf+h88F/8Ag8tf/i6Pr+F/5+R+9FLK8Z/z6l/4C/8AI7CiuN/4aK+Hv/Q+eC//AAeWv/xdH/DRXw9/6HzwX/4PLX/4uh5hhf8An5H70V/ZmM/58y/8Bl/kdlRXH/8ADRnw9/6HzwX/AODy1/8Ai6P+GjPh7/0Pngv/AMHlr/8AF1Msfhf+fkfvQf2XjP8AnzL/AMBf+R1x+/Tq41/2iPh9j/kfPBf/AIPLX/4unf8ADQ/w+/6HzwX/AODy1/8Ai6Tx+Gf/AC8j96NP7Nxn/PqX/gL/AMjsKK47/hoj4ff9D54L/wDB5a//ABdH/DRHw+/6HzwX/wCDy1/+LpfX8L/z8j96D+zMZ/z6l/4C/wDI7Gm/8tK5D/hoj4ff9D54L/8AB5a//F03/hor4fbv+R88F/8Ag8tf/i6n+0MN/wA/I/8AgS/zKjleMv8Awpf+Av8AyOvorj/+GjPh7/0Pngv/AMHlr/8AF0f8NGfD3/ofPBf/AIPLX/4up+v4b/n5H71/mV/ZmM/59S/8Bf8AkdhRXH/8NGfD3/ofPBf/AIPLX/4uj/hor4ff9D54L/8AB3a//F0fX8N/z8j96/zD+zMZ/wA+pf8AgL/yOxf71JXHH9oj4ff9D54L/wDB5a//ABdL/wAND/D7/ofPBf8A4PLX/wCLpf2hhv8An5H71/maf2ZjP+fUv/AX/keT/wDBRf8A5FL4Yf8AZRtG/wDQpK+irr/j5f8A3j/Ovlf9vD4reFvHGh/DKz0PxN4e1m7T4h6PK0FjqMNzIEDuCxVGJABIGcfxV9UXX/Hy/wDvH+deTllSFTMMVKDTVqe2vRnuZtRqUspwcKkXF3q6NW6xG02SnU2SvdPmRfm9qZT/AJvamUpbFhT/AJvamU/5valIYyiiipKiFB6UUHpSKEJwaRzmlJwaRzmkyuo2pCcVHUhOKkoTcKRzml3Ckc5pR2GhtFFFEtiwoooqAAnFJuFKTik3CgpbCg5oJxQDmgnFT1KE3Ckc5pdwpHOakcdxtFFFBogoooqWUNkp1Nkp1HQYE4pM56UpOKTOelSAfN7Uw9af83tTD1qJbmh0FFFFfbH5mFedeMP2R/hb8QPEl5rGufD/AMK6tq2oSebc3d1ZLJNcNgDcxPU4AFei0j/drmxOFoV4qNeCkuzSf5nZg8dicLNzwtSVN7XjJxdu101oeTt+wr8GWXj4X+Cx/wBw5aT/AIYS+Df/AETDwZ/4L1r1iOl+b2rj/sXLv+geH/gEf8j0v9ZM3t/vdX/wZP8AzPJv+GFPgz/0S/wX/wCC5aP+GF/gz/0S/wAG/wDgvWvWfm9qPm9qh5Jl/wDz4h/4BH/IqPEmb/8AQVV/8GT/AMzyVv2FfgyT/wAkv8Gf+C9aT/hhb4Nf9Ev8F/8AgvFetSU2l/YuX/8APiH/AIBH/Iv/AFkzb/oKq/8AgyX+Z5P/AMML/Bn/AKJh4M/8F60f8MLfBr/olvgv/wAF616wRmil/YuX/wDPiH/gEf8AIf8ArHm3/QVV/wDBkv8AM8oH7C/waH/NL/Bn/gvWj/hhf4NbP+SYeC//AAXrXq9B6VMsly//AJ8Q/wDAI/5D/wBY82/6Cqv/AIMn/meUf8MK/Bv/AKJj4M/8FyUn/DC/wZ/6Jj4L/wDBeter/N7UfN7U/wCxcv8A+fEP/AI/5FLiLNv+gqr/AODJf5nlH/DCvwZKn/i2Hgw/9w9aav7DPwab/ml/gz/wXrXrAG4U6p/sbAf8+If+AR/yGuIs2t/vVX/wZL/M8m/4YV+Df/RMPBn/AIL1pV/YW+DK/wDNMfBn/gvWvVpKbU/2Ll//AD4h/wCAR/yK/wBY82/6Cqv/AIMl/meV/wDDC/wZ/wCiY+C//BetH/DDHwZ/6Jf4L/8ABeleqUUPJ8v/AOfEP/AI/wCQ48RZt/0FVf8AwZL/ADPK/wDhhj4M/wDRL/Bf/gvSj/hhn4M/9Ev8F/8AgvWvVKKh5PgP+fEP/AI/5D/1izb/AKCqn/gyX+Z5T/wwx8Gv+iYeDf8AwXrR/wAMM/Bn/ol/gz/wXivVfm9qWm8ny/8A58Q/8Aj/AJFriLNf+gqr/wCDJf5nlP8Awwz8Gf8Aol/g3/wXrSP+w38Gv+iYeDP/AAXrXq9Mf71R/Y+A/wCfEP8AwCP+Ra4hzV/8xVT/AMGS/wAzyv8A4Ya+DP8A0THwZ/4L1pP+GG/g1/0THwb/AOC9a9Uop/2PgP8AnxD/AMAj/kP/AFgzX/oKq/8AgyX+Z5b/AMMMfBr/AKJh4N/8F60n/DDXwZ/6Jj4M/wDBetep0VLyfAf8+If+AR/yH/rDmv8A0E1P/Bk/8zyo/sN/Br/omHgz/wAF60v/AAw58Gv+iX+Df/BetepH79OpPJ8Av+XEP/AI/wCRf+sGa/8AQVU/8Dl/meV/8MOfBr/ol/g3/wAF60f8MOfBr/ol/g3/AMF616pRS/sfAf8APiH/AIBH/If+sGa/9BNT/wADl/meVf8ADDnwb/6Jh4M/8F60n/DDXwa/6Jh4N/8ABeK9Wpv/AC0qf7HwH/PiH/gEf8hx4gzW/wDvNT/wOX+Z5X/ww18Gv+iYeDf/AAXij/hhr4Nf9Ew8G/8AgvFepUVP9kYBf8uIf+AR/wAi/wDWHNP+gmp/4HL/ADPLf+GGvg1/0TDwb/4LxR/ww18Gv+iYeDf/AAXivUqKP7IwP/PiH/gEf8g/1hzT/oJqf+By/wAzyxv2G/g3n/kmPgz/AMF60n/DDfwb/wCiY+C//BeK9Vf71JR/ZGB/58Q/8Aj/AJGn+sGaf9BNT/wOX+Z5npX7Gfwl0HVra+sfhz4StL2ylWeCeKwVXikVgysD2IYAivTGYs2TyT1NFFa0MLRopqjBRvvZJfkcOKx2JxLTxNSU2tuZt29L3CmyU6myVuYi/N7Uyn/N7UylLYsKf83tTKf83tSkMZRRRUlRCg9KKD0pFCE4NI5zTu9NkpPYrqNqQnFR1JUlCbhSOc06myUo7DW42iiiiWxYUUUVAATik3ClooKWwA5oJxRRU9ShNwpHOadTZKkcdxtFFFBotwoooqXsWNkp1Nkp1HQAJxSZz0paDUgJ83tTD1p/ze1MPWoluaH/2Q==)"
      ]
    },
    {
      "cell_type": "markdown",
      "metadata": {
        "id": "5fZe0yTrtyUv"
      },
      "source": [
        "# Ví dụ về Class và Object:"
      ]
    },
    {
      "cell_type": "code",
      "metadata": {
        "colab": {
          "base_uri": "https://localhost:8080/"
        },
        "id": "aZPP1GuXt1-5",
        "outputId": "cf1f3ca8-e0cf-4fd0-d507-af3999941523"
      },
      "source": [
        "class Car:\n",
        "\n",
        "  # thuộc tính lớp\n",
        "  loaixe = \"Ô tô\"\n",
        "\n",
        "  # thuộc tính đối tượng\n",
        "  def __init__(self, tenxe, mausac, nguyenlieu):\n",
        "    self.tenxe = tenxe\n",
        "    self.mausac = mausac\n",
        "    self.nguyenlieu = nguyenlieu\n",
        "\n",
        "# instantiate the Car class\n",
        "toyota = Car(\"Toyota\", \"Đỏ\", \"Điện\")\n",
        "lamborghini = Car(\"Lamborghini\", \"Vàng\", \"Deisel\")\n",
        "porsche = Car(\"Porsche\", \"Xanh\", \"Gas\")\n",
        "\n",
        "# access the class attributes\n",
        "print(\"Porsche là {}.\".format(porsche.__class__.loaixe))\n",
        "print(\"Toyota là {}.\".format(toyota.__class__.loaixe))\n",
        "print(\"Lamborghini cũng là {}.\".format(lamborghini.__class__.loaixe))\n",
        "\n",
        "# access the instance attributes\n",
        "print(\"Xe {} có màu {}. {} là nguyên liệu vận hành.\".format( toyota.tenxe, toyota.mausac, toyota.nguyenlieu))\n",
        "print(\"Xe {} có màu {}. {} là nguyên liệu vận hành.\".format( lamborghini.tenxe, lamborghini.mausac,lamborghini.nguyenlieu))\n",
        "print(\"Xe {} có màu {}. {} là nguyên liệu vận hành.\".format( porsche.tenxe, porsche.mausac, porsche.nguyenlieu))"
      ],
      "execution_count": 1,
      "outputs": [
        {
          "output_type": "stream",
          "text": [
            "Porsche là Ô tô.\n",
            "Toyota là Ô tô.\n",
            "Lamborghini cũng là Ô tô.\n",
            "Xe Toyota có màu Đỏ. Điện là nguyên liệu vận hành.\n",
            "Xe Lamborghini có màu Vàng. Deisel là nguyên liệu vận hành.\n",
            "Xe Porsche có màu Xanh. Gas là nguyên liệu vận hành.\n"
          ],
          "name": "stdout"
        }
      ]
    },
    {
      "cell_type": "markdown",
      "metadata": {
        "id": "2zdhfQWXuAeP"
      },
      "source": [
        "Chương trình trên tạo một lớp *Car*, sau đó xác định các thuộc tính, đặc điểm của đối tượng\n",
        "\n",
        "Chúng ta truy cập thuộc tính class bằng cách sử dụng *__class __.loaixe*. Các thuộc tính lớp được chia sẻ cho tất cả các cá thể của lớp.\n",
        "\n",
        "Tương tự, chúng ta truy cập các thuộc tính instance bằng cách sử dụng *toyota.tenxe*, *toyota.mausac* và *toyota.nguyenlieu*.\n",
        "\n",
        "Tuy nhiên, các thuộc tính instance là khác nhau cho mỗi cá thể của một lớp."
      ]
    },
    {
      "cell_type": "markdown",
      "metadata": {
        "id": "EYj_wtnvub30"
      },
      "source": [
        "# Phương thức\n",
        "**Phương thức (Method)** là các hàm được định nghĩa bên trong phần thân của một lớp. Chúng được sử dụng để xác định các hành vi của một đối tượng.\n",
        "\n",
        "## Ví dụ về Class và Method"
      ]
    },
    {
      "cell_type": "code",
      "metadata": {
        "colab": {
          "base_uri": "https://localhost:8080/"
        },
        "id": "atwIWs3wuudQ",
        "outputId": "5614a1ff-e330-4232-94bc-e81e75570d82"
      },
      "source": [
        "class Car:\n",
        "  \n",
        "  # thuộc tính đối tượng\n",
        "  def __init__(self, tenxe, mausac, nguyenlieu):\n",
        "    self.tenxe = tenxe\n",
        "    self.mausac = mausac\n",
        "    self.nguyenlieu = nguyenlieu\n",
        "\n",
        "  # phương thức\n",
        "  def dungxe(self, mucdich):\n",
        "    return \"{} đang dừng xe để {}\".format(self.tenxe,mucdich)\n",
        "\n",
        "  def chayxe(self):\n",
        "    return \"{} đang chạy trên đường\".format(self.tenxe)\n",
        "\n",
        "  def nomay(self): \n",
        "    return \"{} đang nổ máy\".format(self.tenxe)\n",
        "\n",
        "# instantiate the Car class\n",
        "toyota = Car(\"Toyota\", \"Đỏ\", \"Điện\")\n",
        "lamborghini = Car(\"Lamborghini\", \"Vàng\", \"Deisel\")\n",
        "porsche = Car(\"Porsche\", \"Xanh\", \"Gas\")\n",
        "\n",
        "# call our instance methods\n",
        "print(toyota.dungxe(\"nạp điện\"))\n",
        "print(lamborghini.chayxe())\n",
        "print(porsche.nomay())"
      ],
      "execution_count": 2,
      "outputs": [
        {
          "output_type": "stream",
          "text": [
            "Toyota đang dừng xe để nạp điện\n",
            "Lamborghini đang chạy trên đường\n",
            "Porsche đang nổ máy\n"
          ],
          "name": "stdout"
        }
      ]
    },
    {
      "cell_type": "markdown",
      "metadata": {
        "id": "0E_9WqRAur4S"
      },
      "source": [
        "Ở ví dụ này, có ba phương thức là *dungxe()*, *chayxe()* và *nomay()*. Chúng được gọi là phương thức instance bởi vì chúng được gọi trên một đối tượng instance (*toyota, lamborghini, porsche*)."
      ]
    },
    {
      "cell_type": "markdown",
      "metadata": {
        "id": "ww0HlUKuvEED"
      },
      "source": [
        "# Kế thừa (Inheritance)\n",
        "**Tính kế thừa** cho phép một lớp (class) có thể kế thừa các thuộc tính và phương thức từ các lớp khác đã được định nghĩa. Lớp đã có gọi là lớp cha, lớp mới phát sinh gọi là lớp con. Lớp con kế thừa tất cả thành phần của lớp cha, có thể mở rộng các thành phần kế thừa và bổ sung thêm các thành phần mới."
      ]
    },
    {
      "cell_type": "code",
      "metadata": {
        "colab": {
          "base_uri": "https://localhost:8080/"
        },
        "id": "BAIvpMAivLTB",
        "outputId": "e8f1fe87-7e04-40ee-ac85-55010f9a7bc3"
      },
      "source": [
        "# Lớp cha\n",
        "class Car:\n",
        "\n",
        "  # Constructor\n",
        "  def __init__(self, hangxe, tenxe, mausac):\n",
        "  # Lớp Car có 3 thuộc tính: tenxe, mausac, hang xe\n",
        "    self.hangxe = hangxe\n",
        "    self.tenxe = tenxe\n",
        "    self.mausac = mausac\n",
        "\n",
        "  # phương thức\n",
        "  def chayxe(self):\n",
        "    print (\"{} đang chạy trên đường\".format(self.tenxe))\n",
        "\n",
        "  def dungxe(self, mucdich):\n",
        "    print (\"{} đang dừng xe để {}\".format(self.tenxe, mucdich))\n",
        "\n",
        "# Lớp Toyota mở rộng từ lớp Car.\n",
        "class Toyota(Car):\n",
        "\n",
        "  def __init__(self, hangxe, tenxe, mausac, nguyenlieu):\n",
        "    # Gọi tới constructor của lớp cha (Car) \n",
        "    # để gán giá trị vào thuộc tính của lớp cha.\n",
        "    super().__init__(hangxe, tenxe, mausac)\n",
        "    self.nguyenlieu = nguyenlieu\n",
        "\n",
        "  # Kế thừa phương thức cũ\n",
        "  def chayxe(self):\n",
        "    print (\"{} đang chạy trên đường\".format(self.tenxe))\n",
        "\n",
        "  # Ghi đè (override) phương thức cùng tên của lớp cha.\n",
        "  def dungxe(self, mucdich):\n",
        "    print (\"{} đang dừng xe để {}\".format(self.tenxe, mucdich))\n",
        "    print (\"{} chạy bằng {}\".format(self.tenxe, self.nguyenlieu))\n",
        "\n",
        "  # Bổ sung thêm thành phần mới \n",
        "  def nomay(self):\n",
        "    print (\"{} đang nổ máy\".format(self.tenxe))\n",
        "\n",
        "toyota1 = Toyota(\"Toyota\", \"Toyota Hilux\", \"Đỏ\", \"Điện\")\n",
        "toyota2 = Toyota(\"Toyota\", \"Toyota Yaris\", \"Vàng\", \"Deisel\")\n",
        "toyota3 = Toyota(\"Toyota\", \"Toyota Vios\", \"Xanh\", \"Gas\")\n",
        "\n",
        "toyota1.dungxe(\"nạp điện\")\n",
        "toyota2.chayxe()\n",
        "toyota3.nomay()"
      ],
      "execution_count": 3,
      "outputs": [
        {
          "output_type": "stream",
          "text": [
            "Toyota Hilux đang dừng xe để nạp điện\n",
            "Toyota Hilux chạy bằng Điện\n",
            "Toyota Yaris đang chạy trên đường\n",
            "Toyota Vios đang nổ máy\n"
          ],
          "name": "stdout"
        }
      ]
    },
    {
      "cell_type": "markdown",
      "metadata": {
        "id": "R0mDjIb1vfph"
      },
      "source": [
        "Chương trình này tạo hai lớp kế thừa: lớp cha Car và lớp con Toyota.\n",
        "\n",
        "Khai báo *constructor* mới để gán giá trị vào thuộc tính của lớp cha. Hàm *super()* đứng trước phương thức __init __ để gọi tới nội dung __init __ của Car.\n",
        "\n",
        "Class Toyota kế thừa hàm *chayxe()* và *dungxe()* của class Car đồng thời sửa đổi một hành vi thể hiện ở phương thức *dungxe()*. Sau đó lớp con bổ sung thêm thành phần mới là *nomay()* để mở rộng kế thừa."
      ]
    },
    {
      "cell_type": "markdown",
      "metadata": {
        "id": "kS3OF12wvwCb"
      },
      "source": [
        "# Đóng gói (Encapsulation)\n",
        "Sử dụng OOP trong Python, chúng ta có thể hạn chế quyền truy cập vào trạng thái bên trong của đối tượng. Điều này ngăn chặn dữ liệu bị sửa đổi trực tiếp, được gọi là **đóng gói**. Trong Python, chúng ta biểu thị thuộc tính private này bằng cách sử dụng dấu gạch dưới làm tiền tố: “_” hoặc “__“."
      ]
    },
    {
      "cell_type": "code",
      "metadata": {
        "colab": {
          "base_uri": "https://localhost:8080/"
        },
        "id": "uU5Qfb94vyu5",
        "outputId": "78a84595-4ab6-4b32-a8f5-041172d8c185"
      },
      "source": [
        "class Computer:\n",
        "\n",
        "  def __init__(self):\n",
        "    # Thuộc tính private ngăn chặn sửa đổi trực tiếp\n",
        "    self.__maxprice = 900\n",
        "\n",
        "  def sell(self): \n",
        "    print(\"Giá bán sản phẩm: {}\".format(self.__maxprice))\n",
        "\n",
        "  def setMaxPrice(self, price):\n",
        "    self.__maxprice = price\n",
        "\n",
        "c = Computer()\n",
        "c.sell()\n",
        "\n",
        "# thay đổi giá.\n",
        "c.__maxprice = 1000\n",
        "c.sell()\n",
        "\n",
        "# sử dụng hàm setter để thay đổi giá.\n",
        "c.setMaxPrice(1000)\n",
        "c.sell()"
      ],
      "execution_count": 5,
      "outputs": [
        {
          "output_type": "stream",
          "text": [
            "Giá bán sản phẩm: 900\n",
            "Giá bán sản phẩm: 900\n",
            "Giá bán sản phẩm: 1000\n"
          ],
          "name": "stdout"
        }
      ]
    },
    {
      "cell_type": "markdown",
      "metadata": {
        "id": "O0z-AxXvwAYZ"
      },
      "source": [
        "Ở ví dụ này, bạn khởi tạo class Computer, sử dụng *__init __()* để lưu trữ giá bán tối đa của máy tính. Nhưng sau khi sử dụng, bạn có nhu cầu sửa đổi giá, tuy nhiên không thể thay đổi theo cách bình thường vì Python đã coi *__maxprice* là thuộc tính *private*. Vậy nên để thay đổi giá trị, ta sử dụng hàm setter *setMaxPrice()*."
      ]
    },
    {
      "cell_type": "markdown",
      "metadata": {
        "id": "Bh1vC8T9wCLS"
      },
      "source": [
        "# Đa hình (Polymorphism)\n",
        "Tính đa hình là khái niệm mà hai hoặc nhiều lớp có những phương thức giống nhau nhưng có thể thực thi theo những cách thức khác nhau.\n",
        "\n",
        "Giả sử, chúng ta cần tô màu một hình khối, có rất nhiều lựa chọn cho hình của bạn như hình chữ nhật, hình vuông, hình tròn. Tuy nhiên, bạn có thể sử dụng cùng một phương pháp để tô màu bất kỳ hình dạng nào."
      ]
    },
    {
      "cell_type": "code",
      "metadata": {
        "colab": {
          "base_uri": "https://localhost:8080/"
        },
        "id": "n7iTS0P3v94h",
        "outputId": "317e06cf-e600-4576-c8a0-d04bc1455c28"
      },
      "source": [
        "class Toyota:\n",
        "\n",
        "  def dungxe(self):\n",
        "    print(\"Toyota dừng xe để nạp điện\")\n",
        "\n",
        "  def nomay(self):\n",
        "    print(\"Toyota nổ máy bằng hộp số tự động\")\n",
        "\n",
        "class Porsche:\n",
        "\n",
        "  def dungxe(self):\n",
        "    print(\"Porsche dừng xe để bơm xăng\")\n",
        "\n",
        "  def nomay(self):\n",
        "    print(\"Porsche nổ máy bằng hộp số cơ\")\n",
        "\n",
        "# common interface\n",
        "def kiemtra_dungxe(car): car.dungxe()\n",
        "\n",
        "# instantiate objects\n",
        "toyota = Toyota()\n",
        "porsche = Porsche()\n",
        "\n",
        "# passing the object\n",
        "kiemtra_dungxe(toyota)\n",
        "kiemtra_dungxe(porsche)"
      ],
      "execution_count": 6,
      "outputs": [
        {
          "output_type": "stream",
          "text": [
            "Toyota dừng xe để nạp điện\n",
            "Porsche dừng xe để bơm xăng\n"
          ],
          "name": "stdout"
        }
      ]
    },
    {
      "cell_type": "markdown",
      "metadata": {
        "id": "w5lkH-wdwTDg"
      },
      "source": [
        "Ở ví dụ này, bạn vừa tạo hai lớp Toyota và Porsche, cả hai lớp đều có phương thức *dungxe()*. Truy nhiên hàm của chúng khác nhau. Ta sử dụng tính đa hình để tạo hàm chung cho hai lớp, đó là *kiemtra_dungxe()*. Tiếp theo, bạn truyền đối tượng toyota và porsche vào hàm vừa tạo, và ta lấy được kết quả."
      ]
    },
    {
      "cell_type": "markdown",
      "metadata": {
        "id": "U0od91NFwfWa"
      },
      "source": [
        "Qua bài viết, có thể rút ra một số nhận xét như này:\n",
        "\n",
        "- Lập trình trở nên dễ dàng và hiệu quả hơn.\n",
        "- Class có thể chia sẻ được nên code dễ dàng được sử dụng lại.\n",
        "- Năng suất của chương trình tăng lên\n",
        "- Dữ liệu an toàn và bảo mật với trừu tượng hóa dữ liệu."
      ]
    },
    {
      "cell_type": "markdown",
      "metadata": {
        "id": "ywU73Gn0szWM"
      },
      "source": [
        "Nguồn: [Quantrimang.com](https://quantrimang.com/lap-trinh-huong-doi-tuong-trong-python-160230)\n",
        "\n",
        "\n",
        "\n",
        "\n"
      ]
    }
  ]
}