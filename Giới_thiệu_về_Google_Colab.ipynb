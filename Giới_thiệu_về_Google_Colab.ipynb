{
  "nbformat": 4,
  "nbformat_minor": 0,
  "metadata": {
    "colab": {
      "name": "Giới thiệu về Google Colab",
      "provenance": [],
      "collapsed_sections": [],
      "include_colab_link": true
    },
    "kernelspec": {
      "display_name": "Python 3",
      "name": "python3"
    }
  },
  "cells": [
    {
      "cell_type": "markdown",
      "metadata": {
        "id": "view-in-github",
        "colab_type": "text"
      },
      "source": [
        "<a href=\"https://colab.research.google.com/github/trituenhantaoio/python_tutorials/blob/main/Gi%E1%BB%9Bi_thi%E1%BB%87u_v%E1%BB%81_Google_Colab.ipynb\" target=\"_parent\"><img src=\"https://colab.research.google.com/assets/colab-badge.svg\" alt=\"Open In Colab\"/></a>"
      ]
    },
    {
      "cell_type": "markdown",
      "metadata": {
        "id": "5fCEDCU_qrC0"
      },
      "source": [
        "<p><img alt=\"Colaboratory logo\" height=\"45px\" src=\"/img/colab_favicon.ico\" align=\"left\" hspace=\"10px\" vspace=\"0px\"></p>\n",
        "\n",
        "<h1>Google Colab là gì?</h1>\n",
        "\n",
        "Google Colab cho phép bạn viết ra và thực thi các đoạn mã Python trên browser của chính mình với các lợi thế như:\n",
        "- Không cần cấu hình\n",
        "- GPU miễn phí\n",
        "- Dễ dàng chia sẻ\n",
        "\n",
        "Dù bạn là **học viên**, một **nhà khoa học dữ liệu** hay một **nhà nghiên cứu AI**, Colab có thể làm đơn giản hóa công việc của bạn. Xem video [Giới thiệu về Colab](https://www.youtube.com/watch?v=inN8seMm7UI) để tìm hiểu thêm hoặc bắt đầu với các đoạn mã phía dưới!"
      ]
    },
    {
      "cell_type": "markdown",
      "metadata": {
        "id": "GJBs_flRovLc"
      },
      "source": [
        "\n",
        "Tài liệu bạn đang đọc không phải là tài liệu tĩnh mà nó là một môi trường tương tác trực quan mang tên **Colab notebook** cho phép bạn viết và thực thi mã nguồn.\n",
        "\n",
        "Ví dụ, đây là một **code cell** với một đoạn mã Python tính toán giá trị, lưu trữ vào biến và in ra kết quả:"
      ]
    },
    {
      "cell_type": "code",
      "metadata": {
        "colab": {
          "base_uri": "https://localhost:8080/"
        },
        "id": "gJr_9dXGpJ05",
        "outputId": "d0d1f317-2dc8-4e75-ed27-f5da3c695067"
      },
      "source": [
        "seconds_in_a_day = 24 * 60 * 60\n",
        "seconds_in_a_day"
      ],
      "execution_count": null,
      "outputs": [
        {
          "output_type": "execute_result",
          "data": {
            "text/plain": [
              "86400"
            ]
          },
          "metadata": {
            "tags": []
          },
          "execution_count": 1
        }
      ]
    },
    {
      "cell_type": "markdown",
      "metadata": {
        "id": "2fhs6GZ4qFMx"
      },
      "source": [
        "Để thực thi code trong một cell, bạn hãy click vào nó và ấn nút **play** nằm bên trái hoặc dùng phím tắt \"Command/Ctrl+Enter\". Để sửa mã nguồn, bạn chỉ cần click vào cell và bắt đầu chỉnh sửa.\n",
        "\n",
        "Biến bạn định nghĩa trong một cell có thể được dùng trong các cell sau đó:"
      ]
    },
    {
      "cell_type": "code",
      "metadata": {
        "colab": {
          "base_uri": "https://localhost:8080/"
        },
        "id": "-gE-Ez1qtyIA",
        "outputId": "37b050a4-da7a-4937-bdcf-5c5ecfdd3e6c"
      },
      "source": [
        "seconds_in_a_week = 7 * seconds_in_a_day\n",
        "seconds_in_a_week"
      ],
      "execution_count": null,
      "outputs": [
        {
          "output_type": "execute_result",
          "data": {
            "text/plain": [
              "604800"
            ]
          },
          "metadata": {
            "tags": []
          },
          "execution_count": 2
        }
      ]
    },
    {
      "cell_type": "markdown",
      "metadata": {
        "id": "lSrWNr3MuFUS"
      },
      "source": [
        "Colab cho phép bạn kết hợp **mã thực thi** và **rich text** trong cùng một tài liệu, với các định dạng ảnh, HTML và LaTex, v..v.. Khi bạn tạo một notebook của riêng mình, nó sẽ được lưu trong tài khoản Google Drive. Bạn có thể dễ dàng chia sẻ nó với đồng nghiệp và bạn bè, cho phép họ bình luận hoặc thậm chí chỉnh sửa nội dung của nó. Để có thêm thông tin, bạn có thể xem [Tổng quan về Colab](/notebooks/basic_features_overview.ipynb). Để tạo một notebook mới, bạn có thể sử dụng trình đơn File hoặc sử dụng link sau: [tạo mới notebook](http://colab.research.google.com#create=true).\n",
        "\n",
        "Colab notebook là các Jupyter notebook được host bởi Colab. Để biết thêm về dự án Jupyter, truy cập [jupyter.org](https://www.jupyter.org)."
      ]
    }
  ]
}